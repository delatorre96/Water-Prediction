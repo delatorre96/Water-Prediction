{
 "cells": [
  {
   "cell_type": "code",
   "execution_count": 1,
   "id": "116e6d02-b3ea-4c9a-9f12-40da794be5e3",
   "metadata": {},
   "outputs": [],
   "source": [
    "import sqlite3\n",
    "import pandas as pd\n",
    "import xarray as xr\n",
    "import cdsapi\n",
    "import os\n",
    "import zipfile\n",
    "import sqlite3\n",
    "from datetime import datetime, timedelta\n",
    "from calendar import monthrange\n",
    "##### EXTRACCIÓN DE COPERMICUS\n",
    "\n",
    "def preprocesarDataFrame(df):\n",
    "    df = df[['valid_time', 'latitude', 'longitude', 'tp', 'skt', 'e', 'ro', 'sf',\n",
    "         'swvl1', 'swvl2', 'swvl3', 'swvl4', 'cvh', 'cvl', 'tvh', 'tvl']]\n",
    "    df = df.rename(columns={\n",
    "        'valid_time': 'date',\n",
    "        'tp': 'total_precipitation',\n",
    "        'skt': 'skin_temperature',\n",
    "        'e': 'evaporation',\n",
    "        'ro': 'runoff',\n",
    "        'sf': 'snowfall',\n",
    "        'swvl1': 'soil_water_l1',\n",
    "        'swvl2': 'soil_water_l2',\n",
    "        'swvl3': 'soil_water_l3',\n",
    "        'swvl4': 'soil_water_l4',\n",
    "        'cvh': 'high_vegetation_cover',\n",
    "        'cvl': 'low_vegetation_cover',\n",
    "        'tvh': 'type_high_vegetation',\n",
    "        'tvl': 'type_low_vegetation'\n",
    "    })\n",
    "    # Convertir la columna 'date' a formato de fecha\n",
    "    df['date'] = pd.to_datetime(df['date']).dt.date\n",
    "    # Realizar las agregaciones\n",
    "    agg_funcs = {\n",
    "        'total_precipitation': 'sum',\n",
    "        'skin_temperature': 'mean',\n",
    "        'evaporation': 'sum',\n",
    "        'runoff': 'sum',\n",
    "        'snowfall': 'sum',\n",
    "        'soil_water_l1': 'sum',\n",
    "        'soil_water_l2': 'sum',\n",
    "        'soil_water_l3': 'sum',\n",
    "        'soil_water_l4': 'sum',\n",
    "        'high_vegetation_cover': 'mean',\n",
    "        'low_vegetation_cover': 'mean',\n",
    "        'type_high_vegetation': lambda x: x.mode()[0] if not x.mode().empty else np.nan,\n",
    "        'type_low_vegetation': lambda x: x.mode()[0] if not x.mode().empty else np.nan\n",
    "    }\n",
    "    df = df.groupby(['latitude', 'longitude', 'date']).agg(agg_funcs).reset_index()\n",
    "    return df\n",
    "\n",
    "\n",
    "def downloadMesCopernicus (days,year, month):\n",
    "    dataset = \"reanalysis-era5-single-levels\"\n",
    "    request = {\n",
    "    'product_type': ['ensemble_mean'],\n",
    "    'variable': ['total_precipitation', 'skin_temperature', 'evaporation', 'runoff', 'snowfall', 'volumetric_soil_water_layer_1', 'volumetric_soil_water_layer_2', 'volumetric_soil_water_layer_3', 'volumetric_soil_water_layer_4', 'high_vegetation_cover', 'low_vegetation_cover', 'type_of_high_vegetation', 'type_of_low_vegetation'],\n",
    "    'year': [str(year)],\n",
    "    'month': [str(month)],\n",
    "    'day': days,\n",
    "    'time': ['00:00', '03:00', '06:00', '09:00', '12:00', '15:00', '18:00', '21:00'],\n",
    "    'data_format': 'netcdf',\n",
    "    'download_format': 'unarchived',\n",
    "    'area': [40.5425, -2.255, 38.1739, 0.5665] ##Cuenca hidrográfica del Jucar +/-\n",
    "    }\n",
    "    client = cdsapi.Client()\n",
    "    file_name = client.retrieve(dataset, request).download()\n",
    "\n",
    "    return file_name\n",
    "    \n",
    "def procesarZip(zip_file_name):\n",
    "    dataFrames = []\n",
    "    with zipfile.ZipFile(zip_file_name, 'r') as zip_ref:\n",
    "        # Listar los archivos en el ZIP\n",
    "        archivos = zip_ref.namelist()\n",
    "        for archivo_nc in archivos: \n",
    "            # Extraer el archivo 'instant'\n",
    "            zip_ref.extract(archivo_nc)\n",
    "            print(f\"Archivo '{archivo_nc}' extraído.\")\n",
    "            ds = xr.open_dataset(archivo_nc)\n",
    "            df = ds.to_dataframe().reset_index()\n",
    "            dataFrames.append (df)\n",
    "            ds.close()\n",
    "            os.remove(archivo_nc)\n",
    "    df1 = dataFrames[1]\n",
    "    df1 = df1.drop(['latitude', 'longitude', 'valid_time'], axis = 1)\n",
    "    df = pd.concat([dataFrames[0],df1], axis = 1)\n",
    "    df = preprocesarDataFrame(df)\n",
    "    fechaMin = df['date'].min()\n",
    "    fechaMax = df['date'].max()\n",
    "    print(f'Datos de coeprnicus con fechas de {fechaMin} a {fechaMax} descargadas correctamente')\n",
    "    os.remove(zip_file_name)\n",
    "    return df\n",
    "\n",
    "def extraccionCopernicus (days,year, month):\n",
    "    \n",
    "    zip_file_name = downloadMesCopernicus(days,year, month)\n",
    "    print(f\"Archivo descargado: {zip_file_name}\")\n",
    "\n",
    "    df = procesarZip(zip_file_name)\n",
    "    return df\n",
    "\n",
    "def extraerUltimasFechasCopernicus():\n",
    "    conn = sqlite3.connect('aguaCHJucar.db')\n",
    "    \n",
    "    cursor = conn.cursor()\n",
    "    \n",
    "    query = f'''\n",
    "        SELECT \n",
    "        c.date_id, d.date\n",
    "        FROM df_copernicus c JOIN df_date d ON  c.date_id = d.date_id;\n",
    "    '''\n",
    "    # Ejecutar la consulta\n",
    "    cursor.execute(query)\n",
    "    df_date = pd.read_sql_query(query, conn)\n",
    "    df_date['date'] = pd.to_datetime(df_date['date']).dt.date\n",
    "    ultima_fecha = df_date['date'].max()\n",
    "    return ultima_fecha\n",
    "    \n",
    "def generar_diferencias_mes_a_mes(fecha1 ,fecha2):\n",
    "    \"\"\"\n",
    "    Genera una lista de días, meses y años entre dos fechas mes a mes,\n",
    "    considerando la fecha inicial desde su día específico y el día final.\n",
    "\n",
    "    Parámetros:\n",
    "    - fecha_actual: Fecha inicial en formato datetime.date.\n",
    "    - fecha_futura: Fecha final en formato datetime.date.\n",
    "\n",
    "    Retorno:\n",
    "    - Lista de tuplas (días, año, mes), donde:\n",
    "      - días: lista de strings con los días del mes ('15', '16', ..., '30')\n",
    "      - año: año correspondiente\n",
    "      - mes: mes correspondiente\n",
    "    \"\"\"\n",
    "    diferencias = []\n",
    "    fecha1 = fecha1  + timedelta(days=1)\n",
    "    fecha_inicio = fecha1  \n",
    "\n",
    "    while fecha_inicio <= fecha2:\n",
    "        # Obtener año y mes actuales\n",
    "        year = fecha_inicio.year\n",
    "        month = fecha_inicio.month\n",
    "\n",
    "        # Si estamos en el primer mes, iniciar desde el día específico de la fecha actual\n",
    "        if fecha_inicio == fecha1:\n",
    "            start_day = fecha_inicio.day\n",
    "        else:\n",
    "            start_day = 1\n",
    "        \n",
    "        # Para el último mes (fecha_futura), restringir al día final\n",
    "        if fecha_inicio.month == fecha2.month:\n",
    "            end_day = fecha2.day\n",
    "        else:\n",
    "            # Si no es el último mes, el mes completo\n",
    "            end_day = monthrange(year, month)[1]\n",
    "\n",
    "        # Calcular los días del mes actual, considerando start_day y end_day\n",
    "        days = [f\"{day:02d}\" for day in range(start_day, end_day + 1)]\n",
    "        \n",
    "        # Agregar a la lista de diferencias\n",
    "        diferencias.append((days, year, month))\n",
    "\n",
    "        # Avanzar al siguiente mes\n",
    "        if month == 12:\n",
    "            fecha_inicio = fecha_inicio.replace(year=year + 1, month=1, day=1)\n",
    "        else:\n",
    "            fecha_inicio = fecha_inicio.replace(month=month + 1, day=1)\n",
    "    \n",
    "    return diferencias\n",
    "\n",
    "def fechasActualizarCopernicus():\n",
    "    fecha1 = extraerUltimasFechasCopernicus()\n",
    "    fecha2 = fecha_actual = datetime.now().date()\n",
    "    fechas_new = generar_diferencias_mes_a_mes(fecha1 ,fecha2)\n",
    "    return fechas_new\n",
    "\n",
    "def actualizarTablaCopernicus():\n",
    "    fechas_new = fechasActualizarCopernicus()\n",
    "    dataFrames = []\n",
    "    for i in fechas_new:\n",
    "        days = i[0]\n",
    "        month = i[2]\n",
    "        year = i[1]\n",
    "        df = extraccionCopernicus (days,year, month)\n",
    "    df = pd.concat(dataFrames, axis = 1)\n",
    "    return df"
   ]
  },
  {
   "cell_type": "code",
   "execution_count": 2,
   "id": "6ef249da-564d-489f-9f27-a98234d6332b",
   "metadata": {},
   "outputs": [
    {
     "name": "stderr",
     "output_type": "stream",
     "text": [
      "2024-12-24 13:37:45,615 WARNING [2024-10-10T00:00:00] From 1 July to 17 November 2024, the final ERA5 product is different to ERA5T due to the correction of [the assimilation of incorrect snow observations on the Alps](https://confluence.ecmwf.int/x/USuXGw)\n",
      "2024-12-24 13:37:45,615 WARNING [2024-12-24T12:37:45.798690] You are using a deprecated API endpoint. If you are using cdsapi, please upgrade to the latest version.\n",
      "2024-12-24 13:37:45,631 INFO Request ID is e4a5ca9c-faee-44f3-8dcc-8fa6356f58e5\n",
      "2024-12-24 13:37:45,794 INFO status has been updated to accepted\n",
      "2024-12-24 13:37:53,316 INFO status has been updated to running\n",
      "2024-12-24 13:42:05,614 INFO status has been updated to successful\n"
     ]
    },
    {
     "data": {
      "application/vnd.jupyter.widget-view+json": {
       "model_id": "",
       "version_major": 2,
       "version_minor": 0
      },
      "text/plain": [
       "af32077b273312bf53e72eb090198371.zip:   0%|          | 0.00/265k [00:00<?, ?B/s]"
      ]
     },
     "metadata": {},
     "output_type": "display_data"
    },
    {
     "name": "stdout",
     "output_type": "stream",
     "text": [
      "Archivo descargado: af32077b273312bf53e72eb090198371.zip\n",
      "Archivo 'data_stream-enda_stepType-instant.nc' extraído.\n",
      "Archivo 'data_stream-enda_stepType-accum.nc' extraído.\n"
     ]
    },
    {
     "ename": "NameError",
     "evalue": "name 'csv_file_name' is not defined",
     "output_type": "error",
     "traceback": [
      "\u001b[1;31m---------------------------------------------------------------------------\u001b[0m",
      "\u001b[1;31mNameError\u001b[0m                                 Traceback (most recent call last)",
      "Cell \u001b[1;32mIn[2], line 1\u001b[0m\n\u001b[1;32m----> 1\u001b[0m df \u001b[38;5;241m=\u001b[39m \u001b[43mactualizarTablaCopernicus\u001b[49m\u001b[43m(\u001b[49m\u001b[43m)\u001b[49m\n",
      "Cell \u001b[1;32mIn[1], line 187\u001b[0m, in \u001b[0;36mactualizarTablaCopernicus\u001b[1;34m()\u001b[0m\n\u001b[0;32m    185\u001b[0m     month \u001b[38;5;241m=\u001b[39m i[\u001b[38;5;241m2\u001b[39m]\n\u001b[0;32m    186\u001b[0m     year \u001b[38;5;241m=\u001b[39m i[\u001b[38;5;241m1\u001b[39m]\n\u001b[1;32m--> 187\u001b[0m     df \u001b[38;5;241m=\u001b[39m \u001b[43mextraccionCopernicus\u001b[49m\u001b[43m \u001b[49m\u001b[43m(\u001b[49m\u001b[43mdays\u001b[49m\u001b[43m,\u001b[49m\u001b[43myear\u001b[49m\u001b[43m,\u001b[49m\u001b[43m \u001b[49m\u001b[43mmonth\u001b[49m\u001b[43m)\u001b[49m\n\u001b[0;32m    188\u001b[0m df \u001b[38;5;241m=\u001b[39m pd\u001b[38;5;241m.\u001b[39mconcat(dataFrames, axis \u001b[38;5;241m=\u001b[39m \u001b[38;5;241m1\u001b[39m)\n\u001b[0;32m    189\u001b[0m \u001b[38;5;28;01mreturn\u001b[39;00m df\n",
      "Cell \u001b[1;32mIn[1], line 103\u001b[0m, in \u001b[0;36mextraccionCopernicus\u001b[1;34m(days, year, month)\u001b[0m\n\u001b[0;32m    100\u001b[0m \u001b[38;5;28mprint\u001b[39m(\u001b[38;5;124mf\u001b[39m\u001b[38;5;124m\"\u001b[39m\u001b[38;5;124mArchivo descargado: \u001b[39m\u001b[38;5;132;01m{\u001b[39;00mzip_file_name\u001b[38;5;132;01m}\u001b[39;00m\u001b[38;5;124m\"\u001b[39m)\n\u001b[0;32m    102\u001b[0m df \u001b[38;5;241m=\u001b[39m procesarZip(zip_file_name)\n\u001b[1;32m--> 103\u001b[0m \u001b[38;5;28mprint\u001b[39m(\u001b[38;5;124mf\u001b[39m\u001b[38;5;124m\"\u001b[39m\u001b[38;5;124mEl archivo \u001b[39m\u001b[38;5;132;01m{\u001b[39;00m\u001b[43mcsv_file_name\u001b[49m\u001b[38;5;132;01m}\u001b[39;00m\u001b[38;5;124m procesado con éxito\u001b[39m\u001b[38;5;124m\"\u001b[39m)\n\u001b[0;32m    104\u001b[0m \u001b[38;5;28;01mreturn\u001b[39;00m df\n",
      "\u001b[1;31mNameError\u001b[0m: name 'csv_file_name' is not defined"
     ]
    }
   ],
   "source": [
    "df = actualizarTablaCopernicus()"
   ]
  },
  {
   "cell_type": "code",
   "execution_count": null,
   "id": "263c6fd7-7187-4ffa-b7a2-de8e8d667583",
   "metadata": {},
   "outputs": [],
   "source": []
  },
  {
   "cell_type": "code",
   "execution_count": null,
   "id": "6dfe3ff2-565f-4df5-ad3f-b022e74a9bfa",
   "metadata": {},
   "outputs": [],
   "source": []
  },
  {
   "cell_type": "code",
   "execution_count": null,
   "id": "85dc47df-2312-47d6-b700-abaca854669e",
   "metadata": {},
   "outputs": [],
   "source": []
  },
  {
   "cell_type": "code",
   "execution_count": null,
   "id": "4ef8586c-e0d2-4bd3-bc39-504d4ec262ab",
   "metadata": {},
   "outputs": [],
   "source": []
  },
  {
   "cell_type": "code",
   "execution_count": null,
   "id": "a43bce92-12d9-4ec8-ae5f-7b43025f955e",
   "metadata": {},
   "outputs": [],
   "source": []
  },
  {
   "cell_type": "code",
   "execution_count": 2,
   "id": "232e37e1-3601-423f-b1ca-273f6f67e1d6",
   "metadata": {},
   "outputs": [
    {
     "name": "stderr",
     "output_type": "stream",
     "text": [
      "2024-12-24 12:27:24,647 WARNING [2024-10-10T00:00:00] From 1 July to 17 November 2024, the final ERA5 product is different to ERA5T due to the correction of [the assimilation of incorrect snow observations on the Alps](https://confluence.ecmwf.int/x/USuXGw)\n",
      "2024-12-24 12:27:24,649 WARNING [2024-12-24T11:27:24.693084] You are using a deprecated API endpoint. If you are using cdsapi, please upgrade to the latest version.\n",
      "2024-12-24 12:27:24,654 INFO Request ID is d22e6d00-ffe7-4a0c-9316-47f2b87ff860\n",
      "2024-12-24 12:27:24,771 INFO status has been updated to accepted\n",
      "2024-12-24 12:27:28,759 INFO status has been updated to running\n",
      "2024-12-24 12:27:32,247 INFO status has been updated to successful\n"
     ]
    },
    {
     "data": {
      "application/vnd.jupyter.widget-view+json": {
       "model_id": "",
       "version_major": 2,
       "version_minor": 0
      },
      "text/plain": [
       "3b07c2c96846bfca21cae264f729723f.zip:   0%|          | 0.00/292k [00:00<?, ?B/s]"
      ]
     },
     "metadata": {},
     "output_type": "display_data"
    },
    {
     "name": "stdout",
     "output_type": "stream",
     "text": [
      "Archivo descargado: 3b07c2c96846bfca21cae264f729723f.zip\n",
      "Archivo 'data_stream-enda_stepType-instant.nc' extraído.\n",
      "Archivo 'data_stream-enda_stepType-accum.nc' extraído.\n",
      "El archivo 2024-10-01_a_2024-10-31.csv procesado con éxito\n"
     ]
    }
   ],
   "source": [
    "extraccionCopernicus (year = 2024, month = 10)"
   ]
  },
  {
   "cell_type": "code",
   "execution_count": 66,
   "id": "e5d83145-088c-435e-b9bf-a8658fc7ebd2",
   "metadata": {},
   "outputs": [],
   "source": [
    "\n",
    "\n",
    "\n",
    "        "
   ]
  },
  {
   "cell_type": "code",
   "execution_count": 67,
   "id": "eb7a8b28-86f9-420e-8269-d5e789208ed0",
   "metadata": {},
   "outputs": [],
   "source": [
    "fechas_new = fechasActualizarCopernicus()\n"
   ]
  },
  {
   "cell_type": "code",
   "execution_count": 73,
   "id": "659500e8-2c65-4a7f-a38f-56a00686e9d0",
   "metadata": {},
   "outputs": [
    {
     "data": {
      "text/plain": [
       "(['06',\n",
       "  '07',\n",
       "  '08',\n",
       "  '09',\n",
       "  '10',\n",
       "  '11',\n",
       "  '12',\n",
       "  '13',\n",
       "  '14',\n",
       "  '15',\n",
       "  '16',\n",
       "  '17',\n",
       "  '18',\n",
       "  '19',\n",
       "  '20',\n",
       "  '21',\n",
       "  '22',\n",
       "  '23',\n",
       "  '24',\n",
       "  '25',\n",
       "  '26',\n",
       "  '27',\n",
       "  '28',\n",
       "  '29',\n",
       "  '30'],\n",
       " 2024,\n",
       " 9)"
      ]
     },
     "execution_count": 73,
     "metadata": {},
     "output_type": "execute_result"
    }
   ],
   "source": [
    "fechas_new[0]"
   ]
  },
  {
   "cell_type": "code",
   "execution_count": 61,
   "id": "bfefac1f-ffc1-4bfa-ba90-2397f9435250",
   "metadata": {},
   "outputs": [
    {
     "data": {
      "text/plain": [
       "datetime.date(2024, 12, 24)"
      ]
     },
     "execution_count": 61,
     "metadata": {},
     "output_type": "execute_result"
    }
   ],
   "source": [
    "fecha_actual"
   ]
  },
  {
   "cell_type": "code",
   "execution_count": 62,
   "id": "52f9a6b1-58cf-4289-96f1-194be8f1bf46",
   "metadata": {},
   "outputs": [],
   "source": [
    "fechas = generar_diferencias_mes_a_mes(fecha1 = ultima_fecha, fecha2 = fecha_actual)"
   ]
  },
  {
   "cell_type": "code",
   "execution_count": 63,
   "id": "4c39d9ba-5835-402e-9fce-ecdddd72709b",
   "metadata": {},
   "outputs": [
    {
     "data": {
      "text/plain": [
       "[(['16',\n",
       "   '17',\n",
       "   '18',\n",
       "   '19',\n",
       "   '20',\n",
       "   '21',\n",
       "   '22',\n",
       "   '23',\n",
       "   '24',\n",
       "   '25',\n",
       "   '26',\n",
       "   '27',\n",
       "   '28',\n",
       "   '29',\n",
       "   '30'],\n",
       "  2024,\n",
       "  11),\n",
       " (['01',\n",
       "   '02',\n",
       "   '03',\n",
       "   '04',\n",
       "   '05',\n",
       "   '06',\n",
       "   '07',\n",
       "   '08',\n",
       "   '09',\n",
       "   '10',\n",
       "   '11',\n",
       "   '12',\n",
       "   '13',\n",
       "   '14',\n",
       "   '15',\n",
       "   '16',\n",
       "   '17',\n",
       "   '18',\n",
       "   '19',\n",
       "   '20',\n",
       "   '21',\n",
       "   '22',\n",
       "   '23',\n",
       "   '24'],\n",
       "  2024,\n",
       "  12)]"
      ]
     },
     "execution_count": 63,
     "metadata": {},
     "output_type": "execute_result"
    }
   ],
   "source": [
    "fechas"
   ]
  },
  {
   "cell_type": "code",
   "execution_count": 18,
   "id": "e2819318-4bf8-4369-b9db-3c83dc6bab97",
   "metadata": {},
   "outputs": [
    {
     "data": {
      "text/plain": [
       "datetime.date(2024, 12, 24)"
      ]
     },
     "execution_count": 18,
     "metadata": {},
     "output_type": "execute_result"
    }
   ],
   "source": [
    "fecha_actual"
   ]
  },
  {
   "cell_type": "code",
   "execution_count": 15,
   "id": "3b19ea52-a316-471e-81a2-456481bfc081",
   "metadata": {},
   "outputs": [
    {
     "data": {
      "text/plain": [
       "datetime.date(2024, 11, 15)"
      ]
     },
     "execution_count": 15,
     "metadata": {},
     "output_type": "execute_result"
    }
   ],
   "source": [
    "ultima_fecha"
   ]
  },
  {
   "cell_type": "code",
   "execution_count": null,
   "id": "7e56db20-7a2c-4d5e-b377-a5fe958b6c8d",
   "metadata": {},
   "outputs": [],
   "source": []
  }
 ],
 "metadata": {
  "kernelspec": {
   "display_name": "Python 3 (ipykernel)",
   "language": "python",
   "name": "python3"
  },
  "language_info": {
   "codemirror_mode": {
    "name": "ipython",
    "version": 3
   },
   "file_extension": ".py",
   "mimetype": "text/x-python",
   "name": "python",
   "nbconvert_exporter": "python",
   "pygments_lexer": "ipython3",
   "version": "3.11.5"
  }
 },
 "nbformat": 4,
 "nbformat_minor": 5
}
