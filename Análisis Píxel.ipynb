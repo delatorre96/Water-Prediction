{
 "cells": [
  {
   "cell_type": "code",
   "execution_count": 1,
   "id": "5664d46b-e24c-4387-bbcd-be21937b62be",
   "metadata": {},
   "outputs": [
    {
     "name": "stdout",
     "output_type": "stream",
     "text": [
      " El volumen de la unidad C no tiene etiqueta.\n",
      " El n£mero de serie del volumen es: FA00-3B98\n",
      "\n",
      " Directorio de C:\\Users\\idelatorre\\Documents\\Water UV\\Water-Prediction\n",
      "\n",
      "22/11/2024  13:49    <DIR>          .\n",
      "20/11/2024  12:16    <DIR>          ..\n",
      "20/11/2024  12:16                39 .gitignore\n",
      "22/11/2024  13:47    <DIR>          .ipynb_checkpoints\n",
      "22/11/2024  13:48               617 An lisis P¡xel.ipynb\n",
      "20/11/2024  12:17    <DIR>          BBDD\n",
      "20/11/2024  12:16             8.073 decision_tree\n",
      "20/11/2024  12:16           551.632 decision_tree.png\n",
      "20/11/2024  12:16         1.924.464 Exploraci¢n inicial.ipynb\n",
      "22/11/2024  09:25            18.332 Functions.py\n",
      "20/11/2024  12:16           106.330 graphviz (2).png\n",
      "22/11/2024  07:58    <DIR>          Otros\n",
      "22/11/2024  13:49           809.071 Pixel 189.ipynb\n",
      "20/11/2024  12:16         2.996.986 Serie temporal Agua.ipynb\n",
      "               9 archivos      6.415.544 bytes\n",
      "               5 dirs  344.433.872.896 bytes libres\n"
     ]
    }
   ],
   "source": [
    "import pandas as pd\n",
    "from Func_extr import *\n",
    "from Func_viz import *\n",
    "from Func_analisis  import *     "
   ]
  },
  {
   "cell_type": "code",
   "execution_count": null,
   "id": "9f385112-f80c-4982-a56c-75a11872064e",
   "metadata": {},
   "outputs": [],
   "source": []
  }
 ],
 "metadata": {
  "kernelspec": {
   "display_name": "Python 3 (ipykernel)",
   "language": "python",
   "name": "python3"
  },
  "language_info": {
   "codemirror_mode": {
    "name": "ipython",
    "version": 3
   },
   "file_extension": ".py",
   "mimetype": "text/x-python",
   "name": "python",
   "nbconvert_exporter": "python",
   "pygments_lexer": "ipython3",
   "version": "3.11.5"
  }
 },
 "nbformat": 4,
 "nbformat_minor": 5
}
