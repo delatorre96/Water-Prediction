{
 "cells": [
  {
   "cell_type": "code",
   "execution_count": 1,
   "id": "5664d46b-e24c-4387-bbcd-be21937b62be",
   "metadata": {},
   "outputs": [],
   "source": [
    "import pandas as pd\n",
    "from Func_extr import *\n",
    "from Func_viz import *\n",
    "from Func_analisis  import *     \n",
    "import sqlite3"
   ]
  },
  {
   "cell_type": "code",
   "execution_count": 13,
   "id": "9a1d8bd7-bded-4fea-a2b3-2641879f1bba",
   "metadata": {},
   "outputs": [],
   "source": [
    "conn = sqlite3.connect('BBDD/aguaCHJucar.db')\n",
    "\n",
    "cursor = conn.cursor()\n",
    "\n",
    "query = f'''\n",
    "        SELECT location_id, latitude, longitude FROM locations_id WHERE Type = \"Copernicus\";\n",
    "    '''\n",
    "\n",
    "df_loc = pd.read_sql_query(query, conn)\n",
    "# Ejecutar la consulta\n",
    "cursor.execute(query)\n",
    "conn.close()\n"
   ]
  },
  {
   "cell_type": "code",
   "execution_count": 46,
   "id": "d1922a9f-7dbd-4b48-9e8b-f6ed8f37bdb5",
   "metadata": {},
   "outputs": [],
   "source": [
    "pixels_corrPos  = []\n",
    "pixels_corrNeg  = []\n",
    "for pixel in df_loc['location_id']:\n",
    "    df = create_df(pixel)\n",
    "    if df.empty:\n",
    "        pass\n",
    "    else:\n",
    "        variables = ['total_precipitation']\n",
    "        df = retardAvg_tNat(df, vars = variables, lags = [1,7,15,20], frec = 'D')\n",
    "        df = retardAvg_tNat(df, vars = variables, lags = [1,2,3,4], frec = 'M')\n",
    "        df = retardAvg_tNat(df, vars = variables, lags = [1,2,3], frec = 'Y')\n",
    "        df = df.sort_values('date').set_index('date')\n",
    "        df = df.select_dtypes(exclude=['datetime64'])\n",
    "        correlaciones = df.corr()\n",
    "        prec_columns = [i for i in correlaciones.columns if 'precipitation' in i]\n",
    "        media_corr = correlaciones[prec_columns].T['quantity_hm3'].mean()\n",
    "        if media_corr>0:\n",
    "            pixels_corrPos.append(pixel)\n",
    "        else:\n",
    "            pixels_corrNeg.append(pixel)"
   ]
  },
  {
   "cell_type": "code",
   "execution_count": 50,
   "id": "e1de73a5-4483-496b-9aad-292e719d0f8c",
   "metadata": {},
   "outputs": [],
   "source": [
    "df = create_df(189)\n",
    "if df.empty:\n",
    "    pass\n",
    "else:\n",
    "    variables = ['total_precipitation']\n",
    "    df = retardAvg_tNat(df, vars = variables, lags = [1,7,15,20], frec = 'D')\n",
    "    df = retardAvg_tNat(df, vars = variables, lags = [1,2,3,4], frec = 'M')\n",
    "    df = retardAvg_tNat(df, vars = variables, lags = [1,2,3], frec = 'Y')\n",
    "    df = df.sort_values('date').set_index('date')\n",
    "    df = df.select_dtypes(exclude=['datetime64'])\n",
    "    correlaciones = df.corr()\n",
    "    prec_columns = [i for i in correlaciones.columns if 'precipitation' in i]\n",
    "    media_corr = correlaciones[prec_columns].T['quantity_hm3'].mean()"
   ]
  },
  {
   "cell_type": "code",
   "execution_count": 55,
   "id": "25e11fab-8995-460f-a13a-94f925ea49a9",
   "metadata": {},
   "outputs": [
    {
     "data": {
      "text/plain": [
       "0.22457019759294397"
      ]
     },
     "execution_count": 55,
     "metadata": {},
     "output_type": "execute_result"
    }
   ],
   "source": [
    "correlaciones[prec_columns].T['quantity_hm3'].sum()"
   ]
  },
  {
   "cell_type": "code",
   "execution_count": 47,
   "id": "e8ddee36-27e5-466b-a973-6513027989df",
   "metadata": {},
   "outputs": [
    {
     "data": {
      "text/plain": [
       "[179,\n",
       " 182,\n",
       " 186,\n",
       " 188,\n",
       " 189,\n",
       " 190,\n",
       " 191,\n",
       " 192,\n",
       " 194,\n",
       " 195,\n",
       " 196,\n",
       " 197,\n",
       " 198,\n",
       " 200,\n",
       " 201,\n",
       " 202,\n",
       " 203,\n",
       " 204,\n",
       " 294,\n",
       " 299]"
      ]
     },
     "execution_count": 47,
     "metadata": {},
     "output_type": "execute_result"
    }
   ],
   "source": [
    "pixels_corrPos"
   ]
  },
  {
   "cell_type": "code",
   "execution_count": 48,
   "id": "1f7992be-1b1a-4bc9-8a0f-a4011a226f5c",
   "metadata": {},
   "outputs": [
    {
     "data": {
      "text/plain": [
       "[185]"
      ]
     },
     "execution_count": 48,
     "metadata": {},
     "output_type": "execute_result"
    }
   ],
   "source": [
    "pixels_corrNeg"
   ]
  },
  {
   "cell_type": "code",
   "execution_count": 56,
   "id": "be45f9f8-f17b-4be1-86a1-ed371e7cfc77",
   "metadata": {},
   "outputs": [],
   "source": [
    "df = create_df(185)\n",
    "if df.empty:\n",
    "    pass\n",
    "else:\n",
    "    variables = ['total_precipitation']\n",
    "    df = retardAvg_tNat(df, vars = variables, lags = [1,7,15,20], frec = 'D')\n",
    "    df = retardAvg_tNat(df, vars = variables, lags = [1,2,3,4], frec = 'M')\n",
    "    df = retardAvg_tNat(df, vars = variables, lags = [1,2,3], frec = 'Y')\n",
    "    df = df.sort_values('date').set_index('date')\n",
    "    df = df.select_dtypes(exclude=['datetime64'])\n",
    "    correlaciones = df.corr()\n",
    "    prec_columns = [i for i in correlaciones.columns if 'precipitation' in i]"
   ]
  },
  {
   "cell_type": "code",
   "execution_count": 59,
   "id": "4dfeb179-cd38-4300-b290-463a8417d19f",
   "metadata": {},
   "outputs": [
    {
     "data": {
      "text/plain": [
       "total_precipitation                -0.042466\n",
       "total_precipitation_mean_last1D    -0.042466\n",
       "total_precipitation_mean_last7D    -0.058085\n",
       "total_precipitation_mean_last15D   -0.032308\n",
       "total_precipitation_mean_last20D   -0.000698\n",
       "total_precipitation_mean_last1M    -0.026894\n",
       "total_precipitation_mean_last2M    -0.023519\n",
       "total_precipitation_mean_last3M    -0.000625\n",
       "total_precipitation_mean_last4M     0.018848\n",
       "total_precipitation_mean_last1Y    -0.384173\n",
       "total_precipitation_mean_last2Y    -0.551763\n",
       "total_precipitation_mean_last3Y          NaN\n",
       "Name: quantity_hm3, dtype: float64"
      ]
     },
     "execution_count": 59,
     "metadata": {},
     "output_type": "execute_result"
    }
   ],
   "source": [
    " correlaciones[prec_columns].T['quantity_hm3']"
   ]
  },
  {
   "cell_type": "code",
   "execution_count": null,
   "id": "c383fc52-9618-48d1-b3e4-95e35e795127",
   "metadata": {},
   "outputs": [],
   "source": []
  }
 ],
 "metadata": {
  "kernelspec": {
   "display_name": "Python 3 (ipykernel)",
   "language": "python",
   "name": "python3"
  },
  "language_info": {
   "codemirror_mode": {
    "name": "ipython",
    "version": 3
   },
   "file_extension": ".py",
   "mimetype": "text/x-python",
   "name": "python",
   "nbconvert_exporter": "python",
   "pygments_lexer": "ipython3",
   "version": "3.11.5"
  }
 },
 "nbformat": 4,
 "nbformat_minor": 5
}
