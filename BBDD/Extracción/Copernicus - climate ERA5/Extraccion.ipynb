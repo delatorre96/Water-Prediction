{
 "cells": [
  {
   "cell_type": "code",
   "execution_count": 2,
   "metadata": {},
   "outputs": [],
   "source": [
    "import xarray as xr\n",
    "import pandas as pd\n",
    "import cdsapi\n",
    "import os"
   ]
  },
  {
   "cell_type": "code",
   "execution_count": 3,
   "metadata": {},
   "outputs": [],
   "source": [
    "def obtener_rango_fechas(archivo_nc):\n",
    "    # Abrir el archivo .nc usando xarray\n",
    "    ds = xr.open_dataset(archivo_nc)\n",
    "\n",
    "    # Obtener la variable de tiempo (generalmente llamada 'time')\n",
    "    if 'valid_time' in ds.variables:\n",
    "        tiempos = ds['valid_time'].values\n",
    "\n",
    "        # Convertir los tiempos a formato datetime\n",
    "        fechas = [pd.to_datetime(t) for t in tiempos]\n",
    "\n",
    "        # Obtener la fecha mínima y máxima\n",
    "        fecha_min = fechas[0].strftime('%Y-%m-%d')\n",
    "        fecha_max = fechas[-1].strftime('%Y-%m-%d')\n",
    "\n",
    "        return fecha_min, fecha_max\n",
    "    else:\n",
    "        return None, None\n",
    "\n",
    "def cambiar_nombre(archivo_nc):\n",
    "    fecha_min, fecha_max = obtener_rango_fechas(archivo_nc)\n",
    "    if fecha_min and fecha_max:\n",
    "        #nuevo_nombre = f\"{fecha_min}_a_{fecha_max}.nc\"\n",
    "        nuevo_nombre = f\"{fecha_min}_a_{fecha_max}_adicional.nc\"\n",
    "        nuevo_archivo_completo = os.path.join(nuevo_nombre)\n",
    "        try:\n",
    "            # Intentar renombrar el archivo\n",
    "            os.rename(archivo_nc, nuevo_archivo_completo)\n",
    "            print(f\"Archivo {archivo_nc} renombrado a {nuevo_nombre}\")\n",
    "            return nuevo_archivo_completo\n",
    "        except PermissionError:\n",
    "            print(f\"Archivo {archivo_nc} en uso. No se puede renombrar en este momento.\")\n",
    "            return archivo_nc\n",
    "        except Exception as e:\n",
    "            print(f\"Ocurrió un error al renombrar {archivo_nc}: {e}\")\n",
    "            return archivo_nc\n",
    "    else:\n",
    "        print(f\"No se pudo obtener el rango de fechas para {archivo}\")\n",
    "        return archivo_nc\n",
    "        \n",
    "#Extracción por lotes        \n",
    "def extraerCopernicus(year_min, year_max):\n",
    "    for year in range(year_max, year_min,-1):\n",
    "        for month in range(12,0,-1):\n",
    "         dataset = \"reanalysis-era5-single-levels\"\n",
    "         request = {\n",
    "        'product_type': ['ensemble_mean'],\n",
    "        'variable': ['total_precipitation', 'skin_temperature', 'evaporation', 'runoff', 'snowfall', 'volumetric_soil_water_layer_1', 'volumetric_soil_water_layer_2', 'volumetric_soil_water_layer_3', 'volumetric_soil_water_layer_4', 'high_vegetation_cover', 'low_vegetation_cover', 'type_of_high_vegetation', 'type_of_low_vegetation'],\n",
    "        'year': [str(year)],\n",
    "        'month': [str(month)],\n",
    "        'day': ['01', '02', '03', '04', '05', '06', '07', '08', '09', '10', '11', '12', '13', '14', '15', '16', '17', '18', '19', '20', '21', '22', '23', '24', '25', '26', '27', '28', '29', '30', '31'],\n",
    "        'time': ['00:00', '03:00', '06:00', '09:00', '12:00', '15:00', '18:00', '21:00'],\n",
    "        'data_format': 'netcdf',\n",
    "        'download_format': 'unarchived',\n",
    "        'area': [40.5425, -2.255, 38.1739, 0.5665] ##Cuenca hidrográfica del Jucar +/-\n",
    "        }\n",
    "        client = cdsapi.Client()\n",
    "        file_name = client.retrieve(dataset, request).download()\n",
    "        #file_name = cambiar_nombre(file_name)\n",
    "\n",
    "def construirCSV (csv_output):\n",
    "    agg_funcs = {\n",
    "    'total_precipitation': 'sum',\n",
    "    'skin_temperature': 'mean',\n",
    "    'evaporation': 'sum',\n",
    "    'runoff': 'sum',\n",
    "    'snowfall': 'sum',\n",
    "    'soil_water_l1': 'sum',\n",
    "    'soil_water_l2': 'sum',\n",
    "    'soil_water_l3': 'sum',\n",
    "    'soil_water_l4': 'sum',\n",
    "    'high_vegetation_cover': 'mean',\n",
    "    'low_vegetation_cover': 'mean',\n",
    "    'type_high_vegetation': lambda x: x.mode()[0] if not x.mode().empty else np.nan,\n",
    "    'type_low_vegetation': lambda x: x.mode()[0] if not x.mode().empty else np.nan\n",
    "    }\n",
    "\n",
    "    # Bucle sobre cada archivo NetCDF\n",
    "    for idx, archivo in enumerate(os.listdir()):\n",
    "        if archivo.endswith('.nc'):\n",
    "            print(f\"Procesando: {archivo}\")\n",
    "            archivo_nc = os.path.join(archivo)\n",
    "            \n",
    "            # Abrir el archivo NetCDF y convertir a DataFrame\n",
    "            ds = xr.open_dataset(archivo_nc)\n",
    "            df = ds.to_dataframe().reset_index()\n",
    "    \n",
    "            # Filtrar y renombrar columnas\n",
    "            df = df[['valid_time', 'latitude', 'longitude', 'tp', 'skt', 'e', 'ro', 'sf',\n",
    "                     'swvl1', 'swvl2', 'swvl3', 'swvl4', 'cvh', 'cvl', 'tvh', 'tvl']]\n",
    "            df = df.rename(columns={\n",
    "                'valid_time': 'date',\n",
    "                'tp': 'total_precipitation',\n",
    "                'skt': 'skin_temperature',\n",
    "                'e': 'evaporation',\n",
    "                'ro': 'runoff',\n",
    "                'sf': 'snowfall',\n",
    "                'swvl1': 'soil_water_l1',\n",
    "                'swvl2': 'soil_water_l2',\n",
    "                'swvl3': 'soil_water_l3',\n",
    "                'swvl4': 'soil_water_l4',\n",
    "                'cvh': 'high_vegetation_cover',\n",
    "                'cvl': 'low_vegetation_cover',\n",
    "                'tvh': 'type_high_vegetation',\n",
    "                'tvl': 'type_low_vegetation'\n",
    "            })\n",
    "    \n",
    "            # Convertir la columna 'date' a formato de fecha\n",
    "            df['date'] = pd.to_datetime(df['date']).dt.date\n",
    "    \n",
    "            # Realizar las agregaciones\n",
    "            df = df.groupby(['latitude', 'longitude', 'date']).agg(agg_funcs).reset_index()\n",
    "    \n",
    "            # Escribir en CSV. Si es la primera vez, incluir el encabezado, de lo contrario, hacer append sin encabezado.\n",
    "            if idx == 0:\n",
    "                df.to_csv(csv_output, mode='w', index=False, header=True)\n",
    "            else:\n",
    "                df.to_csv(csv_output, mode='a', index=False, header=False)\n",
    "    \n",
    "            # Cerrar el dataset para liberar memoria\n",
    "            ds.close()\n",
    "def extraccionCompletaArchivos (year_min, year_max,):\n",
    "    extraerCopernicus(year_min, year_max)\n",
    "    construirCSV ('df_copernicus.csv')\n",
    "\n",
    "#Extracción parcial\n",
    "def extraccionUnicaCopernicus (year, month):\n",
    "    dataset = \"reanalysis-era5-single-levels\"\n",
    "    request = {\n",
    "    'product_type': ['ensemble_mean'],\n",
    "    'variable': ['total_precipitation', 'skin_temperature', 'evaporation', 'runoff', 'snowfall', 'volumetric_soil_water_layer_1', 'volumetric_soil_water_layer_2', 'volumetric_soil_water_layer_3', 'volumetric_soil_water_layer_4', 'high_vegetation_cover', 'low_vegetation_cover', 'type_of_high_vegetation', 'type_of_low_vegetation'],\n",
    "    'year': [str(year)],\n",
    "    'month': [str(month)],\n",
    "    'day': ['01', '02', '03', '04', '05', '06', '07', '08', '09', '10', '11', '12', '13', '14', '15', '16', '17', '18', '19', '20', '21', '22', '23', '24', '25', '26', '27', '28', '29', '30', '31'],\n",
    "    'time': ['00:00', '03:00', '06:00', '09:00', '12:00', '15:00', '18:00', '21:00'],\n",
    "    'data_format': 'netcdf',\n",
    "    'download_format': 'unarchived',\n",
    "    'area': [40.5425, -2.255, 38.1739, 0.5665] ##Cuenca hidrográfica del Jucar +/-\n",
    "    }\n",
    "    client = cdsapi.Client()\n",
    "    file_name = client.retrieve(dataset, request).download()\n",
    "    new_name = cambiar_nombre(file_name)\n",
    "    return new_name\n",
    "def ampliarCSV(archivo_csv, archivo_nc):\n",
    "    agg_funcs = {\n",
    "    'total_precipitation': 'sum',\n",
    "    'skin_temperature': 'mean',\n",
    "    'evaporation': 'sum',\n",
    "    'runoff': 'sum',\n",
    "    'snowfall': 'sum',\n",
    "    'soil_water_l1': 'sum',\n",
    "    'soil_water_l2': 'sum',\n",
    "    'soil_water_l3': 'sum',\n",
    "    'soil_water_l4': 'sum',\n",
    "    'high_vegetation_cover': 'mean',\n",
    "    'low_vegetation_cover': 'mean',\n",
    "    'type_high_vegetation': lambda x: x.mode()[0] if not x.mode().empty else np.nan,\n",
    "    'type_low_vegetation': lambda x: x.mode()[0] if not x.mode().empty else np.nan}\n",
    "    ds = xr.open_dataset(archivo_nc)\n",
    "    df = ds.to_dataframe().reset_index()\n",
    "\n",
    "    # Filtrar y renombrar columnas\n",
    "    df = df[['valid_time', 'latitude', 'longitude', 'tp', 'skt', 'e', 'ro', 'sf',\n",
    "             'swvl1', 'swvl2', 'swvl3', 'swvl4', 'cvh', 'cvl', 'tvh', 'tvl']]\n",
    "    df = df.rename(columns={\n",
    "        'valid_time': 'date',\n",
    "        'tp': 'total_precipitation',\n",
    "        'skt': 'skin_temperature',\n",
    "        'e': 'evaporation',\n",
    "        'ro': 'runoff',\n",
    "        'sf': 'snowfall',\n",
    "        'swvl1': 'soil_water_l1',\n",
    "        'swvl2': 'soil_water_l2',\n",
    "        'swvl3': 'soil_water_l3',\n",
    "        'swvl4': 'soil_water_l4',\n",
    "        'cvh': 'high_vegetation_cover',\n",
    "        'cvl': 'low_vegetation_cover',\n",
    "        'tvh': 'type_high_vegetation',\n",
    "        'tvl': 'type_low_vegetation'\n",
    "    })\n",
    "\n",
    "    # Convertir la columna 'date' a formato de fecha\n",
    "    df['date'] = pd.to_datetime(df['date']).dt.date\n",
    "\n",
    "    # Realizar las agregaciones\n",
    "    df = df.groupby(['latitude', 'longitude', 'date']).agg(agg_funcs).reset_index()\n",
    "    df.to_csv(archivo_csv, mode='a', index=False, header=False)\n",
    "def extraccionParcialArchivos (añoMax,añoMin, mesMax = 12, mesMin = 1):\n",
    "    años = range(añoMax, añoMin - 1 ,-1)\n",
    "    meses = range(mesMax, mesMin - 1,-1)\n",
    "    for year in años: \n",
    "        for month in meses:\n",
    "            archivo_nc = extraccionUnicaCopernicus(year = year, month = month)\n",
    "            #ampliarCSV (archivo_csv = 'df_copernicus.csv', archivo_nc = archivo_nc)\n",
    "            print('Enlazados datos de', archivo_nc, 'a','df_copernicus.csv')\n",
    "\n"
   ]
  },
  {
   "cell_type": "code",
   "execution_count": 4,
   "metadata": {},
   "outputs": [
    {
     "name": "stderr",
     "output_type": "stream",
     "text": [
      "2024-09-30 19:26:48,419 WARNING [2024-09-30T17:26:48.438084] You are using a deprecated API endpoint. If you are using cdsapi, please upgrade to the latest version.\n",
      "2024-09-30 19:26:48,435 INFO Request ID is f6f42c9c-56cd-463f-a96e-39deb28cb3e3\n",
      "2024-09-30 19:26:48,524 INFO status has been updated to accepted\n",
      "2024-09-30 19:35:11,133 INFO status has been updated to failed\n"
     ]
    },
    {
     "ename": "HTTPError",
     "evalue": "400 Client Error: Bad Request for url: https://cds.climate.copernicus.eu/api/retrieve/v1/jobs/f6f42c9c-56cd-463f-a96e-39deb28cb3e3/results\nThe job has failed.\nThe job failed with: ValueError",
     "output_type": "error",
     "traceback": [
      "\u001b[1;31m---------------------------------------------------------------------------\u001b[0m",
      "\u001b[1;31mHTTPError\u001b[0m                                 Traceback (most recent call last)",
      "Cell \u001b[1;32mIn[4], line 16\u001b[0m\n\u001b[0;32m      4\u001b[0m request \u001b[38;5;241m=\u001b[39m {\n\u001b[0;32m      5\u001b[0m \u001b[38;5;124m'\u001b[39m\u001b[38;5;124mproduct_type\u001b[39m\u001b[38;5;124m'\u001b[39m: [\u001b[38;5;124m'\u001b[39m\u001b[38;5;124mensemble_mean\u001b[39m\u001b[38;5;124m'\u001b[39m],\n\u001b[0;32m      6\u001b[0m \u001b[38;5;124m'\u001b[39m\u001b[38;5;124mvariable\u001b[39m\u001b[38;5;124m'\u001b[39m: [\u001b[38;5;124m'\u001b[39m\u001b[38;5;124mtotal_precipitation\u001b[39m\u001b[38;5;124m'\u001b[39m, \u001b[38;5;124m'\u001b[39m\u001b[38;5;124mskin_temperature\u001b[39m\u001b[38;5;124m'\u001b[39m, \u001b[38;5;124m'\u001b[39m\u001b[38;5;124mevaporation\u001b[39m\u001b[38;5;124m'\u001b[39m, \u001b[38;5;124m'\u001b[39m\u001b[38;5;124mrunoff\u001b[39m\u001b[38;5;124m'\u001b[39m, \u001b[38;5;124m'\u001b[39m\u001b[38;5;124msnowfall\u001b[39m\u001b[38;5;124m'\u001b[39m, \u001b[38;5;124m'\u001b[39m\u001b[38;5;124mvolumetric_soil_water_layer_1\u001b[39m\u001b[38;5;124m'\u001b[39m, \u001b[38;5;124m'\u001b[39m\u001b[38;5;124mvolumetric_soil_water_layer_2\u001b[39m\u001b[38;5;124m'\u001b[39m, \u001b[38;5;124m'\u001b[39m\u001b[38;5;124mvolumetric_soil_water_layer_3\u001b[39m\u001b[38;5;124m'\u001b[39m, \u001b[38;5;124m'\u001b[39m\u001b[38;5;124mvolumetric_soil_water_layer_4\u001b[39m\u001b[38;5;124m'\u001b[39m, \u001b[38;5;124m'\u001b[39m\u001b[38;5;124mhigh_vegetation_cover\u001b[39m\u001b[38;5;124m'\u001b[39m, \u001b[38;5;124m'\u001b[39m\u001b[38;5;124mlow_vegetation_cover\u001b[39m\u001b[38;5;124m'\u001b[39m, \u001b[38;5;124m'\u001b[39m\u001b[38;5;124mtype_of_high_vegetation\u001b[39m\u001b[38;5;124m'\u001b[39m, \u001b[38;5;124m'\u001b[39m\u001b[38;5;124mtype_of_low_vegetation\u001b[39m\u001b[38;5;124m'\u001b[39m],\n\u001b[1;32m   (...)\u001b[0m\n\u001b[0;32m     13\u001b[0m \u001b[38;5;124m'\u001b[39m\u001b[38;5;124marea\u001b[39m\u001b[38;5;124m'\u001b[39m: [\u001b[38;5;241m40.7433\u001b[39m, \u001b[38;5;241m-\u001b[39m\u001b[38;5;241m1.1988\u001b[39m, \u001b[38;5;241m40.2756\u001b[39m, \u001b[38;5;241m0.8996\u001b[39m] \u001b[38;5;66;03m##Cuenca hidrográfica del Jucar +/-\u001b[39;00m\n\u001b[0;32m     14\u001b[0m }\n\u001b[0;32m     15\u001b[0m client \u001b[38;5;241m=\u001b[39m cdsapi\u001b[38;5;241m.\u001b[39mClient()\n\u001b[1;32m---> 16\u001b[0m file_name \u001b[38;5;241m=\u001b[39m \u001b[43mclient\u001b[49m\u001b[38;5;241;43m.\u001b[39;49m\u001b[43mretrieve\u001b[49m\u001b[43m(\u001b[49m\u001b[43mdataset\u001b[49m\u001b[43m,\u001b[49m\u001b[43m \u001b[49m\u001b[43mrequest\u001b[49m\u001b[43m)\u001b[49m\u001b[38;5;241m.\u001b[39mdownload()\n\u001b[0;32m     17\u001b[0m file_name \u001b[38;5;241m=\u001b[39m cambiar_nombre(file_name)\n",
      "File \u001b[1;32m~\\mambaforge\\envs\\myenv\\Lib\\site-packages\\cads_api_client\\legacy_api_client.py:153\u001b[0m, in \u001b[0;36mLegacyApiClient.retrieve\u001b[1;34m(self, name, request, target)\u001b[0m\n\u001b[0;32m    151\u001b[0m submitted: processing\u001b[38;5;241m.\u001b[39mRemote \u001b[38;5;241m|\u001b[39m processing\u001b[38;5;241m.\u001b[39mResults\n\u001b[0;32m    152\u001b[0m \u001b[38;5;28;01mif\u001b[39;00m \u001b[38;5;28mself\u001b[39m\u001b[38;5;241m.\u001b[39mwait_until_complete:\n\u001b[1;32m--> 153\u001b[0m     submitted \u001b[38;5;241m=\u001b[39m \u001b[38;5;28;43mself\u001b[39;49m\u001b[38;5;241;43m.\u001b[39;49m\u001b[43mlogging_decorator\u001b[49m\u001b[43m(\u001b[49m\u001b[38;5;28;43mself\u001b[39;49m\u001b[38;5;241;43m.\u001b[39;49m\u001b[43mclient\u001b[49m\u001b[38;5;241;43m.\u001b[39;49m\u001b[43msubmit_and_wait_on_result\u001b[49m\u001b[43m)\u001b[49m\u001b[43m(\u001b[49m\n\u001b[0;32m    154\u001b[0m \u001b[43m        \u001b[49m\u001b[43mcollection_id\u001b[49m\u001b[38;5;241;43m=\u001b[39;49m\u001b[43mname\u001b[49m\u001b[43m,\u001b[49m\n\u001b[0;32m    155\u001b[0m \u001b[43m        \u001b[49m\u001b[43mretry_options\u001b[49m\u001b[38;5;241;43m=\u001b[39;49m\u001b[38;5;28;43mself\u001b[39;49m\u001b[38;5;241;43m.\u001b[39;49m\u001b[43mretry_options\u001b[49m\u001b[43m,\u001b[49m\n\u001b[0;32m    156\u001b[0m \u001b[43m        \u001b[49m\u001b[38;5;241;43m*\u001b[39;49m\u001b[38;5;241;43m*\u001b[39;49m\u001b[43mrequest\u001b[49m\u001b[43m,\u001b[49m\n\u001b[0;32m    157\u001b[0m \u001b[43m    \u001b[49m\u001b[43m)\u001b[49m\n\u001b[0;32m    158\u001b[0m \u001b[38;5;28;01melse\u001b[39;00m:\n\u001b[0;32m    159\u001b[0m     submitted \u001b[38;5;241m=\u001b[39m \u001b[38;5;28mself\u001b[39m\u001b[38;5;241m.\u001b[39mlogging_decorator(\u001b[38;5;28mself\u001b[39m\u001b[38;5;241m.\u001b[39mclient\u001b[38;5;241m.\u001b[39msubmit)(\n\u001b[0;32m    160\u001b[0m         collection_id\u001b[38;5;241m=\u001b[39mname,\n\u001b[0;32m    161\u001b[0m         retry_options\u001b[38;5;241m=\u001b[39m\u001b[38;5;28mself\u001b[39m\u001b[38;5;241m.\u001b[39mretry_options,\n\u001b[0;32m    162\u001b[0m         \u001b[38;5;241m*\u001b[39m\u001b[38;5;241m*\u001b[39mrequest,\n\u001b[0;32m    163\u001b[0m     )\n",
      "File \u001b[1;32m~\\mambaforge\\envs\\myenv\\Lib\\site-packages\\cads_api_client\\legacy_api_client.py:136\u001b[0m, in \u001b[0;36mLegacyApiClient.logging_decorator.<locals>.wrapper\u001b[1;34m(*args, **kwargs)\u001b[0m\n\u001b[0;32m    131\u001b[0m \u001b[38;5;129m@functools\u001b[39m\u001b[38;5;241m.\u001b[39mwraps(func)\n\u001b[0;32m    132\u001b[0m \u001b[38;5;28;01mdef\u001b[39;00m \u001b[38;5;21mwrapper\u001b[39m(\u001b[38;5;241m*\u001b[39margs: Any, \u001b[38;5;241m*\u001b[39m\u001b[38;5;241m*\u001b[39mkwargs: Any) \u001b[38;5;241m-\u001b[39m\u001b[38;5;241m>\u001b[39m Any:\n\u001b[0;32m    133\u001b[0m     \u001b[38;5;28;01mwith\u001b[39;00m LoggingContext(\n\u001b[0;32m    134\u001b[0m         logger\u001b[38;5;241m=\u001b[39mprocessing\u001b[38;5;241m.\u001b[39mlogger, quiet\u001b[38;5;241m=\u001b[39m\u001b[38;5;28mself\u001b[39m\u001b[38;5;241m.\u001b[39mquiet, debug\u001b[38;5;241m=\u001b[39m\u001b[38;5;28mself\u001b[39m\u001b[38;5;241m.\u001b[39m_debug\n\u001b[0;32m    135\u001b[0m     ):\n\u001b[1;32m--> 136\u001b[0m         \u001b[38;5;28;01mreturn\u001b[39;00m \u001b[43mfunc\u001b[49m\u001b[43m(\u001b[49m\u001b[38;5;241;43m*\u001b[39;49m\u001b[43margs\u001b[49m\u001b[43m,\u001b[49m\u001b[43m \u001b[49m\u001b[38;5;241;43m*\u001b[39;49m\u001b[38;5;241;43m*\u001b[39;49m\u001b[43mkwargs\u001b[49m\u001b[43m)\u001b[49m\n",
      "File \u001b[1;32m~\\mambaforge\\envs\\myenv\\Lib\\site-packages\\cads_api_client\\api_client.py:78\u001b[0m, in \u001b[0;36mApiClient.submit_and_wait_on_result\u001b[1;34m(self, collection_id, retry_options, **request)\u001b[0m\n\u001b[0;32m     75\u001b[0m \u001b[38;5;28;01mdef\u001b[39;00m \u001b[38;5;21msubmit_and_wait_on_result\u001b[39m(\n\u001b[0;32m     76\u001b[0m     \u001b[38;5;28mself\u001b[39m, collection_id: \u001b[38;5;28mstr\u001b[39m, retry_options: \u001b[38;5;28mdict\u001b[39m[\u001b[38;5;28mstr\u001b[39m, Any] \u001b[38;5;241m=\u001b[39m {}, \u001b[38;5;241m*\u001b[39m\u001b[38;5;241m*\u001b[39mrequest: Any\n\u001b[0;32m     77\u001b[0m ) \u001b[38;5;241m-\u001b[39m\u001b[38;5;241m>\u001b[39m processing\u001b[38;5;241m.\u001b[39mResults:\n\u001b[1;32m---> 78\u001b[0m     \u001b[38;5;28;01mreturn\u001b[39;00m \u001b[38;5;28;43mself\u001b[39;49m\u001b[38;5;241;43m.\u001b[39;49m\u001b[43mretrieve_api\u001b[49m\u001b[38;5;241;43m.\u001b[39;49m\u001b[43msubmit_and_wait_on_result\u001b[49m\u001b[43m(\u001b[49m\n\u001b[0;32m     79\u001b[0m \u001b[43m        \u001b[49m\u001b[43mcollection_id\u001b[49m\u001b[43m,\u001b[49m\u001b[43m \u001b[49m\u001b[43mretry_options\u001b[49m\u001b[38;5;241;43m=\u001b[39;49m\u001b[43mretry_options\u001b[49m\u001b[43m,\u001b[49m\u001b[43m \u001b[49m\u001b[38;5;241;43m*\u001b[39;49m\u001b[38;5;241;43m*\u001b[39;49m\u001b[43mrequest\u001b[49m\n\u001b[0;32m     80\u001b[0m \u001b[43m    \u001b[49m\u001b[43m)\u001b[49m\n",
      "File \u001b[1;32m~\\mambaforge\\envs\\myenv\\Lib\\site-packages\\cads_api_client\\processing.py:537\u001b[0m, in \u001b[0;36mProcessing.submit_and_wait_on_result\u001b[1;34m(self, collection_id, retry_options, **request)\u001b[0m\n\u001b[0;32m    533\u001b[0m \u001b[38;5;28;01mdef\u001b[39;00m \u001b[38;5;21msubmit_and_wait_on_result\u001b[39m(\n\u001b[0;32m    534\u001b[0m     \u001b[38;5;28mself\u001b[39m, collection_id: \u001b[38;5;28mstr\u001b[39m, retry_options: \u001b[38;5;28mdict\u001b[39m[\u001b[38;5;28mstr\u001b[39m, Any] \u001b[38;5;241m=\u001b[39m {}, \u001b[38;5;241m*\u001b[39m\u001b[38;5;241m*\u001b[39mrequest: Any\n\u001b[0;32m    535\u001b[0m ) \u001b[38;5;241m-\u001b[39m\u001b[38;5;241m>\u001b[39m Results:\n\u001b[0;32m    536\u001b[0m     remote \u001b[38;5;241m=\u001b[39m \u001b[38;5;28mself\u001b[39m\u001b[38;5;241m.\u001b[39msubmit(collection_id, retry_options\u001b[38;5;241m=\u001b[39mretry_options, \u001b[38;5;241m*\u001b[39m\u001b[38;5;241m*\u001b[39mrequest)\n\u001b[1;32m--> 537\u001b[0m     \u001b[43mremote\u001b[49m\u001b[38;5;241;43m.\u001b[39;49m\u001b[43mwait_on_result\u001b[49m\u001b[43m(\u001b[49m\u001b[43mretry_options\u001b[49m\u001b[38;5;241;43m=\u001b[39;49m\u001b[43mretry_options\u001b[49m\u001b[43m)\u001b[49m\n\u001b[0;32m    538\u001b[0m     \u001b[38;5;28;01mreturn\u001b[39;00m remote\u001b[38;5;241m.\u001b[39mmake_results()\n",
      "File \u001b[1;32m~\\mambaforge\\envs\\myenv\\Lib\\site-packages\\cads_api_client\\processing.py:240\u001b[0m, in \u001b[0;36mRemote.wait_on_result\u001b[1;34m(self, retry_options)\u001b[0m\n\u001b[0;32m    238\u001b[0m     \u001b[38;5;28;01mbreak\u001b[39;00m\n\u001b[0;32m    239\u001b[0m \u001b[38;5;28;01melif\u001b[39;00m status \u001b[38;5;241m==\u001b[39m \u001b[38;5;124m\"\u001b[39m\u001b[38;5;124mfailed\u001b[39m\u001b[38;5;124m\"\u001b[39m:\n\u001b[1;32m--> 240\u001b[0m     results \u001b[38;5;241m=\u001b[39m \u001b[43mmultiurl\u001b[49m\u001b[38;5;241;43m.\u001b[39;49m\u001b[43mrobust\u001b[49m\u001b[43m(\u001b[49m\u001b[38;5;28;43mself\u001b[39;49m\u001b[38;5;241;43m.\u001b[39;49m\u001b[43mmake_results\u001b[49m\u001b[43m,\u001b[49m\u001b[43m \u001b[49m\u001b[38;5;241;43m*\u001b[39;49m\u001b[38;5;241;43m*\u001b[39;49m\u001b[43mretry_options\u001b[49m\u001b[43m)\u001b[49m\u001b[43m(\u001b[49m\u001b[38;5;28;43mself\u001b[39;49m\u001b[38;5;241;43m.\u001b[39;49m\u001b[43murl\u001b[49m\u001b[43m)\u001b[49m\n\u001b[0;32m    241\u001b[0m     \u001b[38;5;28;01mraise\u001b[39;00m ProcessingFailedError(error_json_to_message(results\u001b[38;5;241m.\u001b[39mjson))\n\u001b[0;32m    242\u001b[0m \u001b[38;5;28;01melif\u001b[39;00m status \u001b[38;5;129;01min\u001b[39;00m (\u001b[38;5;124m\"\u001b[39m\u001b[38;5;124maccepted\u001b[39m\u001b[38;5;124m\"\u001b[39m, \u001b[38;5;124m\"\u001b[39m\u001b[38;5;124mrunning\u001b[39m\u001b[38;5;124m\"\u001b[39m):\n",
      "File \u001b[1;32m~\\mambaforge\\envs\\myenv\\Lib\\site-packages\\multiurl\\http.py:471\u001b[0m, in \u001b[0;36mrobust.<locals>.wrapped\u001b[1;34m(url, *args, **kwargs)\u001b[0m\n\u001b[0;32m    468\u001b[0m     \u001b[38;5;28;01mreturn\u001b[39;00m call(main_url, \u001b[38;5;241m*\u001b[39margs, \u001b[38;5;241m*\u001b[39m\u001b[38;5;241m*\u001b[39mkwargs)\n\u001b[0;32m    470\u001b[0m \u001b[38;5;28;01mtry\u001b[39;00m:\n\u001b[1;32m--> 471\u001b[0m     r \u001b[38;5;241m=\u001b[39m \u001b[43mcall\u001b[49m\u001b[43m(\u001b[49m\u001b[43mmain_url\u001b[49m\u001b[43m,\u001b[49m\u001b[43m \u001b[49m\u001b[38;5;241;43m*\u001b[39;49m\u001b[43margs\u001b[49m\u001b[43m,\u001b[49m\u001b[43m \u001b[49m\u001b[38;5;241;43m*\u001b[39;49m\u001b[38;5;241;43m*\u001b[39;49m\u001b[43mkwargs\u001b[49m\u001b[43m)\u001b[49m\n\u001b[0;32m    472\u001b[0m \u001b[38;5;28;01mexcept\u001b[39;00m requests\u001b[38;5;241m.\u001b[39mexceptions\u001b[38;5;241m.\u001b[39mSSLError:\n\u001b[0;32m    473\u001b[0m     \u001b[38;5;28;01mraise\u001b[39;00m\n",
      "File \u001b[1;32m~\\mambaforge\\envs\\myenv\\Lib\\site-packages\\cads_api_client\\processing.py:271\u001b[0m, in \u001b[0;36mRemote.make_results\u001b[1;34m(self, url)\u001b[0m\n\u001b[0;32m    269\u001b[0m \u001b[38;5;28;01mexcept\u001b[39;00m \u001b[38;5;167;01mRuntimeError\u001b[39;00m:\n\u001b[0;32m    270\u001b[0m     results_url \u001b[38;5;241m=\u001b[39m \u001b[38;5;124mf\u001b[39m\u001b[38;5;124m\"\u001b[39m\u001b[38;5;132;01m{\u001b[39;00murl\u001b[38;5;132;01m}\u001b[39;00m\u001b[38;5;124m/results\u001b[39m\u001b[38;5;124m\"\u001b[39m\n\u001b[1;32m--> 271\u001b[0m results \u001b[38;5;241m=\u001b[39m \u001b[43mResults\u001b[49m\u001b[38;5;241;43m.\u001b[39;49m\u001b[43mfrom_request\u001b[49m\u001b[43m(\u001b[49m\n\u001b[0;32m    272\u001b[0m \u001b[43m    \u001b[49m\u001b[38;5;124;43m\"\u001b[39;49m\u001b[38;5;124;43mget\u001b[39;49m\u001b[38;5;124;43m\"\u001b[39;49m\u001b[43m,\u001b[49m\n\u001b[0;32m    273\u001b[0m \u001b[43m    \u001b[49m\u001b[43mresults_url\u001b[49m\u001b[43m,\u001b[49m\n\u001b[0;32m    274\u001b[0m \u001b[43m    \u001b[49m\u001b[43mheaders\u001b[49m\u001b[38;5;241;43m=\u001b[39;49m\u001b[38;5;28;43mself\u001b[39;49m\u001b[38;5;241;43m.\u001b[39;49m\u001b[43mheaders\u001b[49m\u001b[43m,\u001b[49m\n\u001b[0;32m    275\u001b[0m \u001b[43m    \u001b[49m\u001b[43msession\u001b[49m\u001b[38;5;241;43m=\u001b[39;49m\u001b[38;5;28;43mself\u001b[39;49m\u001b[38;5;241;43m.\u001b[39;49m\u001b[43msession\u001b[49m\u001b[43m,\u001b[49m\n\u001b[0;32m    276\u001b[0m \u001b[43m    \u001b[49m\u001b[43mraise_for_status\u001b[49m\u001b[38;5;241;43m=\u001b[39;49m\u001b[38;5;28;43;01mTrue\u001b[39;49;00m\u001b[43m,\u001b[49m\n\u001b[0;32m    277\u001b[0m \u001b[43m\u001b[49m\u001b[43m)\u001b[49m\n\u001b[0;32m    278\u001b[0m \u001b[38;5;28;01mreturn\u001b[39;00m results\n",
      "File \u001b[1;32m~\\mambaforge\\envs\\myenv\\Lib\\site-packages\\cads_api_client\\processing.py:84\u001b[0m, in \u001b[0;36mApiResponse.from_request\u001b[1;34m(cls, raise_for_status, session, retry_options, *args, **kwargs)\u001b[0m\n\u001b[0;32m     81\u001b[0m logger\u001b[38;5;241m.\u001b[39mdebug(\u001b[38;5;124mf\u001b[39m\u001b[38;5;124m\"\u001b[39m\u001b[38;5;124mREPLY \u001b[39m\u001b[38;5;132;01m{\u001b[39;00mresponse\u001b[38;5;241m.\u001b[39mtext\u001b[38;5;132;01m}\u001b[39;00m\u001b[38;5;124m\"\u001b[39m)\n\u001b[0;32m     83\u001b[0m \u001b[38;5;28;01mif\u001b[39;00m raise_for_status:\n\u001b[1;32m---> 84\u001b[0m     \u001b[43mcads_raise_for_status\u001b[49m\u001b[43m(\u001b[49m\u001b[43mresponse\u001b[49m\u001b[43m)\u001b[49m\n\u001b[0;32m     85\u001b[0m \u001b[38;5;28mself\u001b[39m \u001b[38;5;241m=\u001b[39m \u001b[38;5;28mcls\u001b[39m(response, headers\u001b[38;5;241m=\u001b[39mkwargs\u001b[38;5;241m.\u001b[39mget(\u001b[38;5;124m\"\u001b[39m\u001b[38;5;124mheaders\u001b[39m\u001b[38;5;124m\"\u001b[39m, {}), session\u001b[38;5;241m=\u001b[39msession)\n\u001b[0;32m     86\u001b[0m \u001b[38;5;28mself\u001b[39m\u001b[38;5;241m.\u001b[39mlog_messages()\n",
      "File \u001b[1;32m~\\mambaforge\\envs\\myenv\\Lib\\site-packages\\cads_api_client\\processing.py:55\u001b[0m, in \u001b[0;36mcads_raise_for_status\u001b[1;34m(response)\u001b[0m\n\u001b[0;32m     48\u001b[0m     \u001b[38;5;28;01melse\u001b[39;00m:\n\u001b[0;32m     49\u001b[0m         message \u001b[38;5;241m=\u001b[39m \u001b[38;5;124m\"\u001b[39m\u001b[38;5;130;01m\\n\u001b[39;00m\u001b[38;5;124m\"\u001b[39m\u001b[38;5;241m.\u001b[39mjoin(\n\u001b[0;32m     50\u001b[0m             [\n\u001b[0;32m     51\u001b[0m                 \u001b[38;5;124mf\u001b[39m\u001b[38;5;124m\"\u001b[39m\u001b[38;5;132;01m{\u001b[39;00mresponse\u001b[38;5;241m.\u001b[39mstatus_code\u001b[38;5;132;01m}\u001b[39;00m\u001b[38;5;124m Client Error: \u001b[39m\u001b[38;5;132;01m{\u001b[39;00mresponse\u001b[38;5;241m.\u001b[39mreason\u001b[38;5;132;01m}\u001b[39;00m\u001b[38;5;124m for url: \u001b[39m\u001b[38;5;132;01m{\u001b[39;00mresponse\u001b[38;5;241m.\u001b[39murl\u001b[38;5;132;01m}\u001b[39;00m\u001b[38;5;124m\"\u001b[39m,\n\u001b[0;32m     52\u001b[0m                 error_json_to_message(error_json),\n\u001b[0;32m     53\u001b[0m             ]\n\u001b[0;32m     54\u001b[0m         )\n\u001b[1;32m---> 55\u001b[0m         \u001b[38;5;28;01mraise\u001b[39;00m requests\u001b[38;5;241m.\u001b[39mexceptions\u001b[38;5;241m.\u001b[39mHTTPError(message, response\u001b[38;5;241m=\u001b[39mresponse)\n\u001b[0;32m     56\u001b[0m response\u001b[38;5;241m.\u001b[39mraise_for_status()\n",
      "\u001b[1;31mHTTPError\u001b[0m: 400 Client Error: Bad Request for url: https://cds.climate.copernicus.eu/api/retrieve/v1/jobs/f6f42c9c-56cd-463f-a96e-39deb28cb3e3/results\nThe job has failed.\nThe job failed with: ValueError"
     ]
    }
   ],
   "source": [
    "for year in range(2024,1959,-1):\n",
    "    for month in range(12,0,-1):\n",
    "        dataset = \"reanalysis-era5-single-levels\"\n",
    "        request = {\n",
    "        'product_type': ['ensemble_mean'],\n",
    "        'variable': ['total_precipitation', 'skin_temperature', 'evaporation', 'runoff', 'snowfall', 'volumetric_soil_water_layer_1', 'volumetric_soil_water_layer_2', 'volumetric_soil_water_layer_3', 'volumetric_soil_water_layer_4', 'high_vegetation_cover', 'low_vegetation_cover', 'type_of_high_vegetation', 'type_of_low_vegetation'],\n",
    "        'year': [str(2024)],\n",
    "        'month': [str(month)],\n",
    "        'day': ['01', '02', '03', '04', '05', '06', '07', '08', '09', '10', '11', '12', '13', '14', '15', '16', '17', '18', '19', '20', '21', '22', '23', '24', '25', '26', '27', '28', '29', '30', '31'],\n",
    "        'time': ['00:00', '03:00', '06:00', '09:00', '12:00', '15:00', '18:00', '21:00'],\n",
    "        'data_format': 'netcdf',\n",
    "        'download_format': 'unarchived',\n",
    "        'area': [40.7433, -1.1988, 40.2756, 0.8996] ##Cuenca hidrográfica del Jucar +/-\n",
    "        }\n",
    "        client = cdsapi.Client()\n",
    "        file_name = client.retrieve(dataset, request).download()\n",
    "        file_name = cambiar_nombre(file_name)"
   ]
  },
  {
   "cell_type": "code",
   "execution_count": null,
   "metadata": {},
   "outputs": [],
   "source": []
  },
  {
   "cell_type": "code",
   "execution_count": 9,
   "metadata": {},
   "outputs": [
    {
     "name": "stderr",
     "output_type": "stream",
     "text": [
      "2024-09-22 09:14:46,566 WARNING [2024-09-22T07:14:47.015717] You are using a deprecated API endpoint. If you are using cdsapi, please upgrade to the latest version.\n",
      "2024-09-22 09:14:46,568 INFO Request ID is 498b7570-b4ee-4bf5-b36e-9e58b8eefd10\n",
      "2024-09-22 09:14:46,647 INFO status has been updated to accepted\n",
      "2024-09-22 09:14:48,449 INFO status has been updated to successful\n"
     ]
    },
    {
     "data": {
      "application/vnd.jupyter.widget-view+json": {
       "model_id": "",
       "version_major": 2,
       "version_minor": 0
      },
      "text/plain": [
       "8d9f33e5f015292e6aa306c8924e2110.nc:   0%|          | 0.00/268k [00:00<?, ?B/s]"
      ]
     },
     "metadata": {},
     "output_type": "display_data"
    },
    {
     "name": "stdout",
     "output_type": "stream",
     "text": [
      "Archivo 8d9f33e5f015292e6aa306c8924e2110.nc renombrado a 1965-06-01_a_1965-06-30.nc\n"
     ]
    },
    {
     "name": "stderr",
     "output_type": "stream",
     "text": [
      "2024-09-22 09:14:57,372 WARNING [2024-09-22T07:14:57.830419] You are using a deprecated API endpoint. If you are using cdsapi, please upgrade to the latest version.\n",
      "2024-09-22 09:14:57,388 INFO Request ID is 2feb7a18-fc13-4bf4-a70f-534981e26e4c\n",
      "2024-09-22 09:14:57,474 INFO status has been updated to accepted\n",
      "2024-09-22 09:14:59,045 INFO status has been updated to running\n",
      "2024-09-22 09:17:54,211 INFO status has been updated to successful\n"
     ]
    },
    {
     "data": {
      "application/vnd.jupyter.widget-view+json": {
       "model_id": "",
       "version_major": 2,
       "version_minor": 0
      },
      "text/plain": [
       "8b508562dff36d53a312e489637af3b0.nc:   0%|          | 0.00/272k [00:00<?, ?B/s]"
      ]
     },
     "metadata": {},
     "output_type": "display_data"
    },
    {
     "name": "stdout",
     "output_type": "stream",
     "text": [
      "Archivo 8b508562dff36d53a312e489637af3b0.nc renombrado a 1965-05-01_a_1965-05-31.nc\n"
     ]
    },
    {
     "name": "stderr",
     "output_type": "stream",
     "text": [
      "2024-09-22 09:17:58,360 WARNING [2024-09-22T07:17:58.829412] You are using a deprecated API endpoint. If you are using cdsapi, please upgrade to the latest version.\n",
      "2024-09-22 09:17:58,360 INFO Request ID is ee8b728c-221f-49ca-b394-e26818c13fd0\n",
      "2024-09-22 09:17:58,440 INFO status has been updated to accepted\n",
      "2024-09-22 09:17:59,994 INFO status has been updated to running\n",
      "2024-09-22 09:22:22,682 INFO status has been updated to successful\n"
     ]
    },
    {
     "data": {
      "application/vnd.jupyter.widget-view+json": {
       "model_id": "",
       "version_major": 2,
       "version_minor": 0
      },
      "text/plain": [
       "c6232b92366480636ffc3e7dcce86b28.nc:   0%|          | 0.00/272k [00:00<?, ?B/s]"
      ]
     },
     "metadata": {},
     "output_type": "display_data"
    },
    {
     "name": "stdout",
     "output_type": "stream",
     "text": [
      "Archivo c6232b92366480636ffc3e7dcce86b28.nc renombrado a 1965-04-01_a_1965-04-30.nc\n"
     ]
    },
    {
     "name": "stderr",
     "output_type": "stream",
     "text": [
      "2024-09-22 09:22:26,794 WARNING [2024-09-22T07:22:27.222647] You are using a deprecated API endpoint. If you are using cdsapi, please upgrade to the latest version.\n",
      "2024-09-22 09:22:26,794 INFO Request ID is c59202d2-af0e-4088-bb9c-f4acc74da617\n",
      "2024-09-22 09:22:26,875 INFO status has been updated to accepted\n",
      "2024-09-22 09:22:28,456 INFO status has been updated to running\n",
      "2024-09-22 09:26:47,043 INFO status has been updated to successful\n"
     ]
    },
    {
     "data": {
      "application/vnd.jupyter.widget-view+json": {
       "model_id": "",
       "version_major": 2,
       "version_minor": 0
      },
      "text/plain": [
       "6b7320175a5f777f349e067355d6f18a.nc:   0%|          | 0.00/280k [00:00<?, ?B/s]"
      ]
     },
     "metadata": {},
     "output_type": "display_data"
    },
    {
     "name": "stdout",
     "output_type": "stream",
     "text": [
      "Archivo 6b7320175a5f777f349e067355d6f18a.nc renombrado a 1965-03-01_a_1965-03-31.nc\n"
     ]
    },
    {
     "name": "stderr",
     "output_type": "stream",
     "text": [
      "2024-09-22 09:26:51,482 WARNING [2024-09-22T07:26:51.946201] You are using a deprecated API endpoint. If you are using cdsapi, please upgrade to the latest version.\n",
      "2024-09-22 09:26:51,482 INFO Request ID is d4f26972-3580-476d-bcc4-3a2a30e128ac\n",
      "2024-09-22 09:26:51,559 INFO status has been updated to accepted\n",
      "2024-09-22 09:26:53,124 INFO status has been updated to running\n",
      "2024-09-22 09:28:49,821 INFO status has been updated to successful\n"
     ]
    },
    {
     "data": {
      "application/vnd.jupyter.widget-view+json": {
       "model_id": "",
       "version_major": 2,
       "version_minor": 0
      },
      "text/plain": [
       "7c464bb47654eb0f5d65111ad98dfd7d.nc:   0%|          | 0.00/269k [00:00<?, ?B/s]"
      ]
     },
     "metadata": {},
     "output_type": "display_data"
    },
    {
     "name": "stdout",
     "output_type": "stream",
     "text": [
      "Archivo 7c464bb47654eb0f5d65111ad98dfd7d.nc renombrado a 1965-02-01_a_1965-02-28.nc\n"
     ]
    },
    {
     "name": "stderr",
     "output_type": "stream",
     "text": [
      "2024-09-22 09:28:53,767 WARNING [2024-09-22T07:28:54.239947] You are using a deprecated API endpoint. If you are using cdsapi, please upgrade to the latest version.\n",
      "2024-09-22 09:28:53,767 INFO Request ID is f3530a3f-3672-4e65-ac18-d0f9fe501329\n",
      "2024-09-22 09:28:53,884 INFO status has been updated to accepted\n",
      "2024-09-22 09:28:57,775 INFO status has been updated to running\n",
      "2024-09-22 09:30:49,356 INFO status has been updated to successful\n"
     ]
    },
    {
     "data": {
      "application/vnd.jupyter.widget-view+json": {
       "model_id": "",
       "version_major": 2,
       "version_minor": 0
      },
      "text/plain": [
       "1a7f9ea81fa3d00b38a3885d7291e1d0.nc:   0%|          | 0.00/281k [00:00<?, ?B/s]"
      ]
     },
     "metadata": {},
     "output_type": "display_data"
    },
    {
     "name": "stdout",
     "output_type": "stream",
     "text": [
      "Archivo 1a7f9ea81fa3d00b38a3885d7291e1d0.nc renombrado a 1965-01-01_a_1965-01-31.nc\n"
     ]
    },
    {
     "name": "stderr",
     "output_type": "stream",
     "text": [
      "2024-09-22 09:30:53,503 WARNING [2024-09-22T07:30:53.970806] You are using a deprecated API endpoint. If you are using cdsapi, please upgrade to the latest version.\n",
      "2024-09-22 09:30:53,519 INFO Request ID is 32687104-d70f-444c-943e-59a03b8d4bde\n",
      "2024-09-22 09:30:53,597 INFO status has been updated to accepted\n",
      "2024-09-22 09:30:55,302 INFO status has been updated to running\n",
      "2024-09-22 09:32:49,373 INFO status has been updated to successful\n"
     ]
    },
    {
     "data": {
      "application/vnd.jupyter.widget-view+json": {
       "model_id": "",
       "version_major": 2,
       "version_minor": 0
      },
      "text/plain": [
       "28aac988ffb16c39398e89de5a499b6d.nc:   0%|          | 0.00/285k [00:00<?, ?B/s]"
      ]
     },
     "metadata": {},
     "output_type": "display_data"
    },
    {
     "name": "stdout",
     "output_type": "stream",
     "text": [
      "Archivo 28aac988ffb16c39398e89de5a499b6d.nc renombrado a 1964-12-01_a_1964-12-31.nc\n"
     ]
    },
    {
     "name": "stderr",
     "output_type": "stream",
     "text": [
      "2024-09-22 09:32:53,599 WARNING [2024-09-22T07:32:54.047527] You are using a deprecated API endpoint. If you are using cdsapi, please upgrade to the latest version.\n",
      "2024-09-22 09:32:53,599 INFO Request ID is 7b5c2dea-a9ca-4bdd-ad05-41e7eef0eca4\n",
      "2024-09-22 09:32:53,688 INFO status has been updated to accepted\n",
      "2024-09-22 09:32:55,256 INFO status has been updated to running\n",
      "2024-09-22 09:34:49,362 INFO status has been updated to successful\n"
     ]
    },
    {
     "data": {
      "application/vnd.jupyter.widget-view+json": {
       "model_id": "",
       "version_major": 2,
       "version_minor": 0
      },
      "text/plain": [
       "b9ce7380bdff505c441e567b21033d13.nc:   0%|          | 0.00/263k [00:00<?, ?B/s]"
      ]
     },
     "metadata": {},
     "output_type": "display_data"
    },
    {
     "name": "stdout",
     "output_type": "stream",
     "text": [
      "Archivo b9ce7380bdff505c441e567b21033d13.nc renombrado a 1964-11-01_a_1964-11-30.nc\n"
     ]
    },
    {
     "name": "stderr",
     "output_type": "stream",
     "text": [
      "2024-09-22 09:34:54,244 WARNING [2024-09-22T07:34:54.676340] You are using a deprecated API endpoint. If you are using cdsapi, please upgrade to the latest version.\n",
      "2024-09-22 09:34:54,244 INFO Request ID is a2af1116-f1dc-4c80-bf8d-ec027926bc89\n",
      "2024-09-22 09:34:54,320 INFO status has been updated to accepted\n",
      "2024-09-22 09:34:55,916 INFO status has been updated to running\n",
      "2024-09-22 09:36:48,371 INFO status has been updated to successful\n"
     ]
    },
    {
     "data": {
      "application/vnd.jupyter.widget-view+json": {
       "model_id": "",
       "version_major": 2,
       "version_minor": 0
      },
      "text/plain": [
       "7e2d5b9d812c817067ab556133bee0e3.nc:   0%|          | 0.00/272k [00:00<?, ?B/s]"
      ]
     },
     "metadata": {},
     "output_type": "display_data"
    },
    {
     "name": "stdout",
     "output_type": "stream",
     "text": [
      "Archivo 7e2d5b9d812c817067ab556133bee0e3.nc renombrado a 1964-10-01_a_1964-10-31.nc\n"
     ]
    },
    {
     "name": "stderr",
     "output_type": "stream",
     "text": [
      "2024-09-22 09:36:52,600 WARNING [2024-09-22T07:36:53.019061] You are using a deprecated API endpoint. If you are using cdsapi, please upgrade to the latest version.\n",
      "2024-09-22 09:36:52,600 INFO Request ID is 04255a60-f5d9-4b5d-878c-08cb2bb28f2e\n",
      "2024-09-22 09:36:52,699 INFO status has been updated to accepted\n",
      "2024-09-22 09:36:54,259 INFO status has been updated to running\n",
      "2024-09-22 09:38:48,379 INFO status has been updated to successful\n"
     ]
    },
    {
     "data": {
      "application/vnd.jupyter.widget-view+json": {
       "model_id": "",
       "version_major": 2,
       "version_minor": 0
      },
      "text/plain": [
       "e9adf08ce75417b1b6cda7f38ce9d7d9.nc:   0%|          | 0.00/269k [00:00<?, ?B/s]"
      ]
     },
     "metadata": {},
     "output_type": "display_data"
    },
    {
     "name": "stdout",
     "output_type": "stream",
     "text": [
      "Archivo e9adf08ce75417b1b6cda7f38ce9d7d9.nc renombrado a 1964-09-01_a_1964-09-30.nc\n"
     ]
    },
    {
     "name": "stderr",
     "output_type": "stream",
     "text": [
      "2024-09-22 09:38:52,315 WARNING [2024-09-22T07:38:52.730571] You are using a deprecated API endpoint. If you are using cdsapi, please upgrade to the latest version.\n",
      "2024-09-22 09:38:52,315 INFO Request ID is 0a40ece9-c40a-494a-826c-c00e8ed3591e\n",
      "2024-09-22 09:38:52,409 INFO status has been updated to accepted\n",
      "2024-09-22 09:38:53,989 INFO status has been updated to running\n",
      "2024-09-22 09:41:49,079 INFO status has been updated to successful\n"
     ]
    },
    {
     "data": {
      "application/vnd.jupyter.widget-view+json": {
       "model_id": "",
       "version_major": 2,
       "version_minor": 0
      },
      "text/plain": [
       "1b6a0d1a81c37a95ab520a525101a103.nc:   0%|          | 0.00/267k [00:00<?, ?B/s]"
      ]
     },
     "metadata": {},
     "output_type": "display_data"
    },
    {
     "name": "stdout",
     "output_type": "stream",
     "text": [
      "Archivo 1b6a0d1a81c37a95ab520a525101a103.nc renombrado a 1964-08-01_a_1964-08-31.nc\n"
     ]
    },
    {
     "name": "stderr",
     "output_type": "stream",
     "text": [
      "2024-09-22 09:41:52,971 WARNING [2024-09-22T07:41:53.339347] You are using a deprecated API endpoint. If you are using cdsapi, please upgrade to the latest version.\n",
      "2024-09-22 09:41:52,971 INFO Request ID is 5be6b114-7ae1-4ce1-8a72-3137653f1af1\n",
      "2024-09-22 09:41:53,050 INFO status has been updated to accepted\n",
      "2024-09-22 09:41:54,614 INFO status has been updated to running\n",
      "2024-09-22 09:43:48,672 INFO status has been updated to successful\n"
     ]
    },
    {
     "data": {
      "application/vnd.jupyter.widget-view+json": {
       "model_id": "",
       "version_major": 2,
       "version_minor": 0
      },
      "text/plain": [
       "97312f6066f30aa59bd172b01d19f20b.nc:   0%|          | 0.00/270k [00:00<?, ?B/s]"
      ]
     },
     "metadata": {},
     "output_type": "display_data"
    },
    {
     "name": "stdout",
     "output_type": "stream",
     "text": [
      "Archivo 97312f6066f30aa59bd172b01d19f20b.nc renombrado a 1964-07-01_a_1964-07-31.nc\n"
     ]
    },
    {
     "name": "stderr",
     "output_type": "stream",
     "text": [
      "2024-09-22 09:43:52,694 WARNING [2024-09-22T07:43:53.071569] You are using a deprecated API endpoint. If you are using cdsapi, please upgrade to the latest version.\n",
      "2024-09-22 09:43:52,694 INFO Request ID is 0ea948d7-7e04-4606-a0dd-c15eb2216c33\n",
      "2024-09-22 09:43:52,792 INFO status has been updated to accepted\n",
      "2024-09-22 09:43:54,356 INFO status has been updated to running\n",
      "2024-09-22 09:46:54,308 INFO status has been updated to successful\n"
     ]
    },
    {
     "data": {
      "application/vnd.jupyter.widget-view+json": {
       "model_id": "",
       "version_major": 2,
       "version_minor": 0
      },
      "text/plain": [
       "317a4a42b8de65f813ef9d0483bdd8f5.nc:   0%|          | 0.00/271k [00:00<?, ?B/s]"
      ]
     },
     "metadata": {},
     "output_type": "display_data"
    },
    {
     "name": "stdout",
     "output_type": "stream",
     "text": [
      "Archivo 317a4a42b8de65f813ef9d0483bdd8f5.nc renombrado a 1964-06-01_a_1964-06-30.nc\n"
     ]
    },
    {
     "name": "stderr",
     "output_type": "stream",
     "text": [
      "2024-09-22 09:46:58,497 WARNING [2024-09-22T07:46:58.856925] You are using a deprecated API endpoint. If you are using cdsapi, please upgrade to the latest version.\n",
      "2024-09-22 09:46:58,497 INFO Request ID is e1f8e7fb-dabb-481f-a35c-60b0171bf603\n",
      "2024-09-22 09:46:58,592 INFO status has been updated to accepted\n",
      "2024-09-22 09:47:00,169 INFO status has been updated to running\n",
      "2024-09-22 09:49:55,228 INFO status has been updated to successful\n"
     ]
    },
    {
     "data": {
      "application/vnd.jupyter.widget-view+json": {
       "model_id": "",
       "version_major": 2,
       "version_minor": 0
      },
      "text/plain": [
       "487d95aa2ca2c04fbcf9c1b6ff30e461.nc:   0%|          | 0.00/273k [00:00<?, ?B/s]"
      ]
     },
     "metadata": {},
     "output_type": "display_data"
    },
    {
     "name": "stdout",
     "output_type": "stream",
     "text": [
      "Archivo 487d95aa2ca2c04fbcf9c1b6ff30e461.nc renombrado a 1964-05-01_a_1964-05-31.nc\n"
     ]
    },
    {
     "name": "stderr",
     "output_type": "stream",
     "text": [
      "2024-09-22 09:49:59,292 WARNING [2024-09-22T07:49:59.610017] You are using a deprecated API endpoint. If you are using cdsapi, please upgrade to the latest version.\n",
      "2024-09-22 09:49:59,292 INFO Request ID is d00bd065-4379-41b9-8d1f-3f98236b1e75\n",
      "2024-09-22 09:49:59,374 INFO status has been updated to accepted\n",
      "2024-09-22 09:50:00,955 INFO status has been updated to running\n",
      "2024-09-22 09:51:54,824 INFO status has been updated to successful\n"
     ]
    },
    {
     "data": {
      "application/vnd.jupyter.widget-view+json": {
       "model_id": "",
       "version_major": 2,
       "version_minor": 0
      },
      "text/plain": [
       "7f6ee0b9eb62f377480b0f373aa25905.nc:   0%|          | 0.00/275k [00:00<?, ?B/s]"
      ]
     },
     "metadata": {},
     "output_type": "display_data"
    },
    {
     "name": "stdout",
     "output_type": "stream",
     "text": [
      "Archivo 7f6ee0b9eb62f377480b0f373aa25905.nc renombrado a 1964-04-01_a_1964-04-30.nc\n"
     ]
    },
    {
     "name": "stderr",
     "output_type": "stream",
     "text": [
      "2024-09-22 09:51:58,837 WARNING [2024-09-22T07:51:59.177646] You are using a deprecated API endpoint. If you are using cdsapi, please upgrade to the latest version.\n",
      "2024-09-22 09:51:58,853 INFO Request ID is 6d4bae87-c598-41b1-93ad-48781c25a059\n",
      "2024-09-22 09:51:58,927 INFO status has been updated to accepted\n",
      "2024-09-22 09:52:00,507 INFO status has been updated to running\n",
      "2024-09-22 09:53:54,551 INFO status has been updated to successful\n"
     ]
    },
    {
     "data": {
      "application/vnd.jupyter.widget-view+json": {
       "model_id": "",
       "version_major": 2,
       "version_minor": 0
      },
      "text/plain": [
       "efa7703f63698f4f54939b9262bc24a4.nc:   0%|          | 0.00/281k [00:00<?, ?B/s]"
      ]
     },
     "metadata": {},
     "output_type": "display_data"
    },
    {
     "name": "stdout",
     "output_type": "stream",
     "text": [
      "Archivo efa7703f63698f4f54939b9262bc24a4.nc renombrado a 1964-03-01_a_1964-03-31.nc\n"
     ]
    },
    {
     "name": "stderr",
     "output_type": "stream",
     "text": [
      "2024-09-22 09:53:58,633 WARNING [2024-09-22T07:53:58.965300] You are using a deprecated API endpoint. If you are using cdsapi, please upgrade to the latest version.\n",
      "2024-09-22 09:53:58,633 INFO Request ID is db23fc38-24b5-440e-a491-95066c50f89a\n",
      "2024-09-22 09:53:58,725 INFO status has been updated to accepted\n",
      "2024-09-22 09:54:00,291 INFO status has been updated to running\n",
      "2024-09-22 09:55:54,223 INFO status has been updated to successful\n"
     ]
    },
    {
     "data": {
      "application/vnd.jupyter.widget-view+json": {
       "model_id": "",
       "version_major": 2,
       "version_minor": 0
      },
      "text/plain": [
       "c394d40566db351de11071b95d5914a8.nc:   0%|          | 0.00/270k [00:00<?, ?B/s]"
      ]
     },
     "metadata": {},
     "output_type": "display_data"
    },
    {
     "name": "stdout",
     "output_type": "stream",
     "text": [
      "Archivo c394d40566db351de11071b95d5914a8.nc renombrado a 1964-02-01_a_1964-02-29.nc\n"
     ]
    },
    {
     "name": "stderr",
     "output_type": "stream",
     "text": [
      "2024-09-22 09:55:58,190 WARNING [2024-09-22T07:55:58.498994] You are using a deprecated API endpoint. If you are using cdsapi, please upgrade to the latest version.\n",
      "2024-09-22 09:55:58,191 INFO Request ID is 4394a4a9-6f9e-476a-89b1-b1b2b3fb7773\n",
      "2024-09-22 09:55:58,266 INFO status has been updated to accepted\n",
      "2024-09-22 09:55:59,832 INFO status has been updated to running\n",
      "2024-09-22 09:57:56,118 INFO status has been updated to successful\n"
     ]
    },
    {
     "data": {
      "application/vnd.jupyter.widget-view+json": {
       "model_id": "",
       "version_major": 2,
       "version_minor": 0
      },
      "text/plain": [
       "702e730a39bc2797680d179d7ad57d0c.nc:   0%|          | 0.00/284k [00:00<?, ?B/s]"
      ]
     },
     "metadata": {},
     "output_type": "display_data"
    },
    {
     "name": "stdout",
     "output_type": "stream",
     "text": [
      "Archivo 702e730a39bc2797680d179d7ad57d0c.nc renombrado a 1964-01-01_a_1964-01-31.nc\n"
     ]
    },
    {
     "name": "stderr",
     "output_type": "stream",
     "text": [
      "2024-09-22 09:58:00,099 WARNING [2024-09-22T07:58:00.403844] You are using a deprecated API endpoint. If you are using cdsapi, please upgrade to the latest version.\n",
      "2024-09-22 09:58:00,099 INFO Request ID is 403912ed-0c4e-4710-aefd-26ccec80de59\n",
      "2024-09-22 09:58:00,200 INFO status has been updated to accepted\n",
      "2024-09-22 09:58:01,765 INFO status has been updated to running\n",
      "2024-09-22 10:02:24,413 INFO status has been updated to successful\n"
     ]
    },
    {
     "data": {
      "application/vnd.jupyter.widget-view+json": {
       "model_id": "",
       "version_major": 2,
       "version_minor": 0
      },
      "text/plain": [
       "87f75de3b17face3762fc68a2143da62.nc:   0%|          | 0.00/292k [00:00<?, ?B/s]"
      ]
     },
     "metadata": {},
     "output_type": "display_data"
    },
    {
     "name": "stdout",
     "output_type": "stream",
     "text": [
      "Archivo 87f75de3b17face3762fc68a2143da62.nc renombrado a 1963-12-01_a_1963-12-31.nc\n"
     ]
    },
    {
     "name": "stderr",
     "output_type": "stream",
     "text": [
      "2024-09-22 10:02:28,462 WARNING [2024-09-22T08:02:28.756885] You are using a deprecated API endpoint. If you are using cdsapi, please upgrade to the latest version.\n",
      "2024-09-22 10:02:28,462 INFO Request ID is c748be4c-2f6a-4e42-8c96-bc93c82b9111\n",
      "2024-09-22 10:02:28,553 INFO status has been updated to accepted\n",
      "2024-09-22 10:02:30,145 INFO status has been updated to running\n",
      "2024-09-22 10:04:21,636 INFO status has been updated to successful\n"
     ]
    },
    {
     "data": {
      "application/vnd.jupyter.widget-view+json": {
       "model_id": "",
       "version_major": 2,
       "version_minor": 0
      },
      "text/plain": [
       "a6132509b1f8bee8a64d1645ad39a74b.nc:   0%|          | 0.00/271k [00:00<?, ?B/s]"
      ]
     },
     "metadata": {},
     "output_type": "display_data"
    },
    {
     "name": "stdout",
     "output_type": "stream",
     "text": [
      "Archivo a6132509b1f8bee8a64d1645ad39a74b.nc renombrado a 1963-11-01_a_1963-11-30.nc\n"
     ]
    },
    {
     "name": "stderr",
     "output_type": "stream",
     "text": [
      "2024-09-22 10:04:25,575 WARNING [2024-09-22T08:04:25.854910] You are using a deprecated API endpoint. If you are using cdsapi, please upgrade to the latest version.\n",
      "2024-09-22 10:04:25,575 INFO Request ID is edfeb4d3-9982-4bae-8612-d125663f5773\n",
      "2024-09-22 10:04:25,657 INFO status has been updated to accepted\n",
      "2024-09-22 10:04:27,231 INFO status has been updated to running\n",
      "2024-09-22 10:08:46,356 INFO status has been updated to successful\n"
     ]
    },
    {
     "data": {
      "application/vnd.jupyter.widget-view+json": {
       "model_id": "",
       "version_major": 2,
       "version_minor": 0
      },
      "text/plain": [
       "90184633bc576b2a7df7dd1947c8aabb.nc:   0%|          | 0.00/270k [00:00<?, ?B/s]"
      ]
     },
     "metadata": {},
     "output_type": "display_data"
    },
    {
     "name": "stdout",
     "output_type": "stream",
     "text": [
      "Archivo 90184633bc576b2a7df7dd1947c8aabb.nc renombrado a 1963-10-01_a_1963-10-31.nc\n"
     ]
    },
    {
     "name": "stderr",
     "output_type": "stream",
     "text": [
      "2024-09-22 10:08:50,639 WARNING [2024-09-22T08:08:50.897180] You are using a deprecated API endpoint. If you are using cdsapi, please upgrade to the latest version.\n",
      "2024-09-22 10:08:50,639 INFO Request ID is b93a1662-3a35-465d-8f55-3e01e5cb6a79\n",
      "2024-09-22 10:08:50,717 INFO status has been updated to accepted\n",
      "2024-09-22 10:08:52,282 INFO status has been updated to running\n",
      "2024-09-22 10:11:47,273 INFO status has been updated to successful\n"
     ]
    },
    {
     "data": {
      "application/vnd.jupyter.widget-view+json": {
       "model_id": "",
       "version_major": 2,
       "version_minor": 0
      },
      "text/plain": [
       "436c5609fb1ac55d3274c4e05115d902.nc:   0%|          | 0.00/275k [00:00<?, ?B/s]"
      ]
     },
     "metadata": {},
     "output_type": "display_data"
    },
    {
     "name": "stdout",
     "output_type": "stream",
     "text": [
      "Archivo 436c5609fb1ac55d3274c4e05115d902.nc renombrado a 1963-09-01_a_1963-09-30.nc\n"
     ]
    },
    {
     "name": "stderr",
     "output_type": "stream",
     "text": [
      "2024-09-22 10:11:51,290 WARNING [2024-09-22T08:11:51.544961] You are using a deprecated API endpoint. If you are using cdsapi, please upgrade to the latest version.\n",
      "2024-09-22 10:11:51,290 INFO Request ID is 31d6f83c-6591-431c-a3b8-2406af4c8698\n",
      "2024-09-22 10:11:51,371 INFO status has been updated to accepted\n",
      "2024-09-22 10:11:52,936 INFO status has been updated to running\n",
      "2024-09-22 10:13:44,371 INFO status has been updated to successful\n"
     ]
    },
    {
     "data": {
      "application/vnd.jupyter.widget-view+json": {
       "model_id": "",
       "version_major": 2,
       "version_minor": 0
      },
      "text/plain": [
       "f698aaa084a3138c565f7e099f55725.nc:   0%|          | 0.00/272k [00:00<?, ?B/s]"
      ]
     },
     "metadata": {},
     "output_type": "display_data"
    },
    {
     "name": "stdout",
     "output_type": "stream",
     "text": [
      "Archivo f698aaa084a3138c565f7e099f55725.nc renombrado a 1963-08-01_a_1963-08-31.nc\n"
     ]
    },
    {
     "name": "stderr",
     "output_type": "stream",
     "text": [
      "2024-09-22 10:13:48,284 WARNING [2024-09-22T08:13:48.525135] You are using a deprecated API endpoint. If you are using cdsapi, please upgrade to the latest version.\n",
      "2024-09-22 10:13:48,284 INFO Request ID is c7f3bea1-8990-4ba7-afe8-100193e3eb5c\n",
      "2024-09-22 10:13:48,380 INFO status has been updated to accepted\n",
      "2024-09-22 10:13:49,945 INFO status has been updated to running\n",
      "2024-09-22 10:15:41,374 INFO status has been updated to successful\n"
     ]
    },
    {
     "data": {
      "application/vnd.jupyter.widget-view+json": {
       "model_id": "",
       "version_major": 2,
       "version_minor": 0
      },
      "text/plain": [
       "d1039c3d703f2b45147494d18e904709.nc:   0%|          | 0.00/273k [00:00<?, ?B/s]"
      ]
     },
     "metadata": {},
     "output_type": "display_data"
    },
    {
     "name": "stdout",
     "output_type": "stream",
     "text": [
      "Archivo d1039c3d703f2b45147494d18e904709.nc renombrado a 1963-07-01_a_1963-07-31.nc\n"
     ]
    },
    {
     "name": "stderr",
     "output_type": "stream",
     "text": [
      "2024-09-22 10:15:45,372 WARNING [2024-09-22T08:15:45.626655] You are using a deprecated API endpoint. If you are using cdsapi, please upgrade to the latest version.\n",
      "2024-09-22 10:15:45,372 INFO Request ID is 070e110a-6f52-4873-9eb7-e39be0fa9211\n",
      "2024-09-22 10:15:45,466 INFO status has been updated to accepted\n",
      "2024-09-22 10:15:47,031 INFO status has been updated to running\n",
      "2024-09-22 10:18:37,344 INFO status has been updated to successful\n"
     ]
    },
    {
     "data": {
      "application/vnd.jupyter.widget-view+json": {
       "model_id": "",
       "version_major": 2,
       "version_minor": 0
      },
      "text/plain": [
       "94a4a65849e8578b0be18da45f7d5bf1.nc:   0%|          | 0.00/272k [00:00<?, ?B/s]"
      ]
     },
     "metadata": {},
     "output_type": "display_data"
    },
    {
     "name": "stdout",
     "output_type": "stream",
     "text": [
      "Archivo 94a4a65849e8578b0be18da45f7d5bf1.nc renombrado a 1963-06-01_a_1963-06-30.nc\n"
     ]
    },
    {
     "name": "stderr",
     "output_type": "stream",
     "text": [
      "2024-09-22 10:18:41,529 WARNING [2024-09-22T08:18:41.768408] You are using a deprecated API endpoint. If you are using cdsapi, please upgrade to the latest version.\n",
      "2024-09-22 10:18:41,529 INFO Request ID is 65c0f5e7-e083-459a-b878-051767f65829\n",
      "2024-09-22 10:18:41,610 INFO status has been updated to accepted\n",
      "2024-09-22 10:18:43,175 INFO status has been updated to running\n",
      "2024-09-22 10:21:33,366 INFO status has been updated to successful\n"
     ]
    },
    {
     "data": {
      "application/vnd.jupyter.widget-view+json": {
       "model_id": "",
       "version_major": 2,
       "version_minor": 0
      },
      "text/plain": [
       "79a03bc4ba9c6cf5065da5f663d491a2.nc:   0%|          | 0.00/276k [00:00<?, ?B/s]"
      ]
     },
     "metadata": {},
     "output_type": "display_data"
    },
    {
     "name": "stdout",
     "output_type": "stream",
     "text": [
      "Archivo 79a03bc4ba9c6cf5065da5f663d491a2.nc renombrado a 1963-05-01_a_1963-05-31.nc\n"
     ]
    },
    {
     "name": "stderr",
     "output_type": "stream",
     "text": [
      "2024-09-22 10:21:37,431 WARNING [2024-09-22T08:21:37.664992] You are using a deprecated API endpoint. If you are using cdsapi, please upgrade to the latest version.\n",
      "2024-09-22 10:21:37,431 INFO Request ID is bbfebc1f-ff3f-400d-b50d-30162dab6270\n",
      "2024-09-22 10:21:37,509 INFO status has been updated to accepted\n",
      "2024-09-22 10:21:39,090 INFO status has been updated to running\n",
      "2024-09-22 10:24:29,260 INFO status has been updated to successful\n"
     ]
    },
    {
     "data": {
      "application/vnd.jupyter.widget-view+json": {
       "model_id": "",
       "version_major": 2,
       "version_minor": 0
      },
      "text/plain": [
       "c72c36c452b70beb305ac7b1a23b7aed.nc:   0%|          | 0.00/274k [00:00<?, ?B/s]"
      ]
     },
     "metadata": {},
     "output_type": "display_data"
    },
    {
     "name": "stdout",
     "output_type": "stream",
     "text": [
      "Archivo c72c36c452b70beb305ac7b1a23b7aed.nc renombrado a 1963-04-01_a_1963-04-30.nc\n"
     ]
    },
    {
     "name": "stderr",
     "output_type": "stream",
     "text": [
      "2024-09-22 10:24:33,341 WARNING [2024-09-22T08:24:33.579282] You are using a deprecated API endpoint. If you are using cdsapi, please upgrade to the latest version.\n",
      "2024-09-22 10:24:33,356 INFO Request ID is ad9a2367-1912-4f1e-bb11-497056aade06\n",
      "2024-09-22 10:24:33,432 INFO status has been updated to accepted\n",
      "2024-09-22 10:24:35,050 INFO status has been updated to running\n",
      "2024-09-22 10:26:26,508 INFO status has been updated to successful\n"
     ]
    },
    {
     "data": {
      "application/vnd.jupyter.widget-view+json": {
       "model_id": "",
       "version_major": 2,
       "version_minor": 0
      },
      "text/plain": [
       "94638f4a5c37e00824e87553b5c4f53f.nc:   0%|          | 0.00/278k [00:00<?, ?B/s]"
      ]
     },
     "metadata": {},
     "output_type": "display_data"
    },
    {
     "name": "stdout",
     "output_type": "stream",
     "text": [
      "Archivo 94638f4a5c37e00824e87553b5c4f53f.nc renombrado a 1963-03-01_a_1963-03-31.nc\n"
     ]
    },
    {
     "name": "stderr",
     "output_type": "stream",
     "text": [
      "2024-09-22 10:26:30,410 WARNING [2024-09-22T08:26:30.643024] You are using a deprecated API endpoint. If you are using cdsapi, please upgrade to the latest version.\n",
      "2024-09-22 10:26:30,426 INFO Request ID is 28c8c5dc-ba2f-424c-be1f-85059965ff16\n",
      "2024-09-22 10:26:30,505 INFO status has been updated to accepted\n",
      "2024-09-22 10:26:32,070 INFO status has been updated to running\n",
      "2024-09-22 10:29:22,287 INFO status has been updated to successful\n"
     ]
    },
    {
     "data": {
      "application/vnd.jupyter.widget-view+json": {
       "model_id": "",
       "version_major": 2,
       "version_minor": 0
      },
      "text/plain": [
       "eb21daf200b54d22516b703307a52b31.nc:   0%|          | 0.00/279k [00:00<?, ?B/s]"
      ]
     },
     "metadata": {},
     "output_type": "display_data"
    },
    {
     "name": "stdout",
     "output_type": "stream",
     "text": [
      "Archivo eb21daf200b54d22516b703307a52b31.nc renombrado a 1963-02-01_a_1963-02-28.nc\n"
     ]
    },
    {
     "name": "stderr",
     "output_type": "stream",
     "text": [
      "2024-09-22 10:29:26,383 WARNING [2024-09-22T08:29:26.608703] You are using a deprecated API endpoint. If you are using cdsapi, please upgrade to the latest version.\n",
      "2024-09-22 10:29:26,383 INFO Request ID is 97e5ba71-0c98-451a-b315-164d0ece8c95\n",
      "2024-09-22 10:29:26,466 INFO status has been updated to accepted\n",
      "2024-09-22 10:29:28,047 INFO status has been updated to running\n",
      "2024-09-22 10:32:18,169 INFO status has been updated to successful\n"
     ]
    },
    {
     "data": {
      "application/vnd.jupyter.widget-view+json": {
       "model_id": "",
       "version_major": 2,
       "version_minor": 0
      },
      "text/plain": [
       "6d103cd43fe049c66bc16a7a1eda6a3a.nc:   0%|          | 0.00/294k [00:00<?, ?B/s]"
      ]
     },
     "metadata": {},
     "output_type": "display_data"
    },
    {
     "name": "stdout",
     "output_type": "stream",
     "text": [
      "Archivo 6d103cd43fe049c66bc16a7a1eda6a3a.nc renombrado a 1963-01-01_a_1963-01-31.nc\n"
     ]
    },
    {
     "name": "stderr",
     "output_type": "stream",
     "text": [
      "2024-09-22 10:32:22,355 WARNING [2024-09-22T08:32:22.568367] You are using a deprecated API endpoint. If you are using cdsapi, please upgrade to the latest version.\n",
      "2024-09-22 10:32:22,355 INFO Request ID is e4f5fcba-6fca-4745-8f08-4d2065baa9e7\n",
      "2024-09-22 10:32:22,428 INFO status has been updated to accepted\n",
      "2024-09-22 10:32:23,993 INFO status has been updated to running\n",
      "2024-09-22 10:36:41,787 INFO status has been updated to successful\n"
     ]
    },
    {
     "data": {
      "application/vnd.jupyter.widget-view+json": {
       "model_id": "",
       "version_major": 2,
       "version_minor": 0
      },
      "text/plain": [
       "a1aef4a7f27c63f06a7e683632faa3a9.nc:   0%|          | 0.00/277k [00:00<?, ?B/s]"
      ]
     },
     "metadata": {},
     "output_type": "display_data"
    },
    {
     "name": "stdout",
     "output_type": "stream",
     "text": [
      "Archivo a1aef4a7f27c63f06a7e683632faa3a9.nc renombrado a 1962-12-01_a_1962-12-31.nc\n"
     ]
    },
    {
     "name": "stderr",
     "output_type": "stream",
     "text": [
      "2024-09-22 10:36:45,760 WARNING [2024-09-22T08:36:45.962314] You are using a deprecated API endpoint. If you are using cdsapi, please upgrade to the latest version.\n",
      "2024-09-22 10:36:45,760 INFO Request ID is 7ee35bf5-4bc6-4a25-90dc-c1e9dd7e58be\n",
      "2024-09-22 10:36:45,846 INFO status has been updated to accepted\n",
      "2024-09-22 10:36:47,462 INFO status has been updated to running\n",
      "2024-09-22 10:39:37,679 INFO status has been updated to successful\n"
     ]
    },
    {
     "data": {
      "application/vnd.jupyter.widget-view+json": {
       "model_id": "",
       "version_major": 2,
       "version_minor": 0
      },
      "text/plain": [
       "947a3ae1ccd0df70433e26aba1f1155a.nc:   0%|          | 0.00/275k [00:00<?, ?B/s]"
      ]
     },
     "metadata": {},
     "output_type": "display_data"
    },
    {
     "name": "stdout",
     "output_type": "stream",
     "text": [
      "Archivo 947a3ae1ccd0df70433e26aba1f1155a.nc renombrado a 1962-11-01_a_1962-11-30.nc\n"
     ]
    },
    {
     "name": "stderr",
     "output_type": "stream",
     "text": [
      "2024-09-22 10:39:41,729 WARNING [2024-09-22T08:39:41.931865] You are using a deprecated API endpoint. If you are using cdsapi, please upgrade to the latest version.\n",
      "2024-09-22 10:39:41,729 INFO Request ID is ebb5dd62-9db8-4cd2-9449-502a10c9bb43\n",
      "2024-09-22 10:39:41,808 INFO status has been updated to accepted\n",
      "2024-09-22 10:39:43,370 INFO status has been updated to running\n",
      "2024-09-22 10:44:01,189 INFO status has been updated to successful\n"
     ]
    },
    {
     "data": {
      "application/vnd.jupyter.widget-view+json": {
       "model_id": "",
       "version_major": 2,
       "version_minor": 0
      },
      "text/plain": [
       "2e7c53e87aa7f38687f06f637a66e16f.nc:   0%|          | 0.00/284k [00:00<?, ?B/s]"
      ]
     },
     "metadata": {},
     "output_type": "display_data"
    },
    {
     "name": "stdout",
     "output_type": "stream",
     "text": [
      "Archivo 2e7c53e87aa7f38687f06f637a66e16f.nc renombrado a 1962-10-01_a_1962-10-31.nc\n"
     ]
    },
    {
     "name": "stderr",
     "output_type": "stream",
     "text": [
      "2024-09-22 10:44:05,190 WARNING [2024-09-22T08:44:05.390933] You are using a deprecated API endpoint. If you are using cdsapi, please upgrade to the latest version.\n",
      "2024-09-22 10:44:05,190 INFO Request ID is 6586d152-dea8-4c9b-92af-a113d1157320\n",
      "2024-09-22 10:44:05,329 INFO status has been updated to accepted\n",
      "2024-09-22 10:44:06,904 INFO status has been updated to running\n",
      "2024-09-22 10:48:24,598 INFO status has been updated to successful\n"
     ]
    },
    {
     "data": {
      "application/vnd.jupyter.widget-view+json": {
       "model_id": "",
       "version_major": 2,
       "version_minor": 0
      },
      "text/plain": [
       "60bab4f5b25579148361ff43ecba1f2.nc:   0%|          | 0.00/274k [00:00<?, ?B/s]"
      ]
     },
     "metadata": {},
     "output_type": "display_data"
    },
    {
     "name": "stdout",
     "output_type": "stream",
     "text": [
      "Archivo 60bab4f5b25579148361ff43ecba1f2.nc renombrado a 1962-09-01_a_1962-09-30.nc\n"
     ]
    },
    {
     "name": "stderr",
     "output_type": "stream",
     "text": [
      "2024-09-22 10:48:28,590 WARNING [2024-09-22T08:48:28.754788] You are using a deprecated API endpoint. If you are using cdsapi, please upgrade to the latest version.\n",
      "2024-09-22 10:48:28,590 INFO Request ID is 3626bc74-56dc-4406-8328-5f8387348895\n",
      "2024-09-22 10:48:28,670 INFO status has been updated to accepted\n",
      "2024-09-22 10:48:30,235 INFO status has been updated to running\n",
      "2024-09-22 10:52:48,100 INFO status has been updated to successful\n"
     ]
    },
    {
     "data": {
      "application/vnd.jupyter.widget-view+json": {
       "model_id": "",
       "version_major": 2,
       "version_minor": 0
      },
      "text/plain": [
       "275da11e3fc29f6ed36fd5a34c8ca7e0.nc:   0%|          | 0.00/271k [00:00<?, ?B/s]"
      ]
     },
     "metadata": {},
     "output_type": "display_data"
    },
    {
     "name": "stdout",
     "output_type": "stream",
     "text": [
      "Archivo 275da11e3fc29f6ed36fd5a34c8ca7e0.nc renombrado a 1962-08-01_a_1962-08-31.nc\n"
     ]
    },
    {
     "name": "stderr",
     "output_type": "stream",
     "text": [
      "2024-09-22 10:52:52,299 WARNING [2024-09-22T08:52:52.491317] You are using a deprecated API endpoint. If you are using cdsapi, please upgrade to the latest version.\n",
      "2024-09-22 10:52:52,299 INFO Request ID is 4c9b5996-8b4e-4746-9133-02e3514b49c9\n",
      "2024-09-22 10:52:52,385 INFO status has been updated to accepted\n",
      "2024-09-22 10:52:53,998 INFO status has been updated to running\n",
      "2024-09-22 10:55:44,379 INFO status has been updated to successful\n"
     ]
    },
    {
     "data": {
      "application/vnd.jupyter.widget-view+json": {
       "model_id": "",
       "version_major": 2,
       "version_minor": 0
      },
      "text/plain": [
       "1e40c43e21800b5e8070bcb836c26084.nc:   0%|          | 0.00/270k [00:00<?, ?B/s]"
      ]
     },
     "metadata": {},
     "output_type": "display_data"
    },
    {
     "name": "stdout",
     "output_type": "stream",
     "text": [
      "Archivo 1e40c43e21800b5e8070bcb836c26084.nc renombrado a 1962-07-01_a_1962-07-31.nc\n"
     ]
    },
    {
     "name": "stderr",
     "output_type": "stream",
     "text": [
      "2024-09-22 10:55:48,429 WARNING [2024-09-22T08:55:48.625797] You are using a deprecated API endpoint. If you are using cdsapi, please upgrade to the latest version.\n",
      "2024-09-22 10:55:48,429 INFO Request ID is 1be4f79d-9a89-4502-8c06-e63a2d637e57\n",
      "2024-09-22 10:55:48,512 INFO status has been updated to accepted\n",
      "2024-09-22 10:55:50,077 INFO status has been updated to running\n",
      "2024-09-22 10:57:41,526 INFO status has been updated to successful\n"
     ]
    },
    {
     "data": {
      "application/vnd.jupyter.widget-view+json": {
       "model_id": "",
       "version_major": 2,
       "version_minor": 0
      },
      "text/plain": [
       "c6c2d1b3844d72ce5af3d6b6106a0e83.nc:   0%|          | 0.00/269k [00:00<?, ?B/s]"
      ]
     },
     "metadata": {},
     "output_type": "display_data"
    },
    {
     "name": "stdout",
     "output_type": "stream",
     "text": [
      "Archivo c6c2d1b3844d72ce5af3d6b6106a0e83.nc renombrado a 1962-06-01_a_1962-06-30.nc\n"
     ]
    },
    {
     "name": "stderr",
     "output_type": "stream",
     "text": [
      "2024-09-22 10:57:45,433 WARNING [2024-09-22T08:57:45.626269] You are using a deprecated API endpoint. If you are using cdsapi, please upgrade to the latest version.\n",
      "2024-09-22 10:57:45,433 INFO Request ID is 85bb6083-71bc-4558-8157-a13669999285\n",
      "2024-09-22 10:57:45,536 INFO status has been updated to accepted\n",
      "2024-09-22 10:57:47,122 INFO status has been updated to running\n",
      "2024-09-22 10:59:38,639 INFO status has been updated to successful\n"
     ]
    },
    {
     "data": {
      "application/vnd.jupyter.widget-view+json": {
       "model_id": "",
       "version_major": 2,
       "version_minor": 0
      },
      "text/plain": [
       "dba758455092bccdd12672afb81cb141.nc:   0%|          | 0.00/279k [00:00<?, ?B/s]"
      ]
     },
     "metadata": {},
     "output_type": "display_data"
    },
    {
     "name": "stdout",
     "output_type": "stream",
     "text": [
      "Archivo dba758455092bccdd12672afb81cb141.nc renombrado a 1962-05-01_a_1962-05-31.nc\n"
     ]
    },
    {
     "name": "stderr",
     "output_type": "stream",
     "text": [
      "2024-09-22 10:59:42,687 WARNING [2024-09-22T08:59:42.873889] You are using a deprecated API endpoint. If you are using cdsapi, please upgrade to the latest version.\n",
      "2024-09-22 10:59:42,687 INFO Request ID is 99f61d96-8e00-4553-9aeb-b2831ec820aa\n",
      "2024-09-22 10:59:42,768 INFO status has been updated to accepted\n",
      "2024-09-22 10:59:44,333 INFO status has been updated to running\n",
      "2024-09-22 11:02:34,451 INFO status has been updated to successful\n"
     ]
    },
    {
     "data": {
      "application/vnd.jupyter.widget-view+json": {
       "model_id": "",
       "version_major": 2,
       "version_minor": 0
      },
      "text/plain": [
       "975346ff192f9d960efd568533ced44c.nc:   0%|          | 0.00/275k [00:00<?, ?B/s]"
      ]
     },
     "metadata": {},
     "output_type": "display_data"
    },
    {
     "name": "stdout",
     "output_type": "stream",
     "text": [
      "Archivo 975346ff192f9d960efd568533ced44c.nc renombrado a 1962-04-01_a_1962-04-30.nc\n"
     ]
    },
    {
     "name": "stderr",
     "output_type": "stream",
     "text": [
      "2024-09-22 11:02:38,501 WARNING [2024-09-22T09:02:38.692368] You are using a deprecated API endpoint. If you are using cdsapi, please upgrade to the latest version.\n",
      "2024-09-22 11:02:38,501 INFO Request ID is 45ffbc88-4e1f-4328-8aa2-a03ec8440206\n",
      "2024-09-22 11:02:38,595 INFO status has been updated to accepted\n",
      "2024-09-22 11:02:40,160 INFO status has been updated to running\n",
      "2024-09-22 11:05:30,325 INFO status has been updated to successful\n"
     ]
    },
    {
     "data": {
      "application/vnd.jupyter.widget-view+json": {
       "model_id": "",
       "version_major": 2,
       "version_minor": 0
      },
      "text/plain": [
       "1132fdc0f76454223eb8e44d80ef2b2.nc:   0%|          | 0.00/286k [00:00<?, ?B/s]"
      ]
     },
     "metadata": {},
     "output_type": "display_data"
    },
    {
     "name": "stdout",
     "output_type": "stream",
     "text": [
      "Archivo 1132fdc0f76454223eb8e44d80ef2b2.nc renombrado a 1962-03-01_a_1962-03-31.nc\n"
     ]
    },
    {
     "name": "stderr",
     "output_type": "stream",
     "text": [
      "2024-09-22 11:05:34,342 WARNING [2024-09-22T09:05:34.518604] You are using a deprecated API endpoint. If you are using cdsapi, please upgrade to the latest version.\n",
      "2024-09-22 11:05:34,342 INFO Request ID is ef738446-9dba-4a13-8b9a-3b165d3a7d47\n",
      "2024-09-22 11:05:34,438 INFO status has been updated to accepted\n",
      "2024-09-22 11:05:36,005 INFO status has been updated to running\n",
      "2024-09-22 11:05:46,935 INFO status has been updated to accepted\n",
      "2024-09-22 11:05:54,599 INFO status has been updated to running\n",
      "2024-09-22 11:08:26,262 INFO status has been updated to successful\n"
     ]
    },
    {
     "data": {
      "application/vnd.jupyter.widget-view+json": {
       "model_id": "",
       "version_major": 2,
       "version_minor": 0
      },
      "text/plain": [
       "6694ce2a09dbe971c1eef478e0fc6873.nc:   0%|          | 0.00/263k [00:00<?, ?B/s]"
      ]
     },
     "metadata": {},
     "output_type": "display_data"
    },
    {
     "name": "stdout",
     "output_type": "stream",
     "text": [
      "Archivo 6694ce2a09dbe971c1eef478e0fc6873.nc renombrado a 1962-02-01_a_1962-02-28.nc\n"
     ]
    },
    {
     "name": "stderr",
     "output_type": "stream",
     "text": [
      "2024-09-22 11:08:30,297 WARNING [2024-09-22T09:08:30.477707] You are using a deprecated API endpoint. If you are using cdsapi, please upgrade to the latest version.\n",
      "2024-09-22 11:08:30,297 INFO Request ID is 27aa8e09-3bc4-454f-9074-05f376b65680\n",
      "2024-09-22 11:08:30,393 INFO status has been updated to accepted\n",
      "2024-09-22 11:08:31,958 INFO status has been updated to running\n",
      "2024-09-22 11:12:49,893 INFO status has been updated to successful\n"
     ]
    },
    {
     "data": {
      "application/vnd.jupyter.widget-view+json": {
       "model_id": "",
       "version_major": 2,
       "version_minor": 0
      },
      "text/plain": [
       "977988e0260fffac051d7065946dc2eb.nc:   0%|          | 0.00/272k [00:00<?, ?B/s]"
      ]
     },
     "metadata": {},
     "output_type": "display_data"
    },
    {
     "name": "stdout",
     "output_type": "stream",
     "text": [
      "Archivo 977988e0260fffac051d7065946dc2eb.nc renombrado a 1962-01-01_a_1962-01-31.nc\n"
     ]
    },
    {
     "name": "stderr",
     "output_type": "stream",
     "text": [
      "2024-09-22 11:12:53,847 WARNING [2024-09-22T09:12:54.031521] You are using a deprecated API endpoint. If you are using cdsapi, please upgrade to the latest version.\n",
      "2024-09-22 11:12:53,847 INFO Request ID is d0fbe90f-132a-4560-861a-56a963962e2f\n",
      "2024-09-22 11:12:53,944 INFO status has been updated to accepted\n",
      "2024-09-22 11:12:55,510 INFO status has been updated to running\n",
      "2024-09-22 11:14:47,786 INFO status has been updated to successful\n"
     ]
    },
    {
     "data": {
      "application/vnd.jupyter.widget-view+json": {
       "model_id": "",
       "version_major": 2,
       "version_minor": 0
      },
      "text/plain": [
       "d08a72299e0ae7994c88e0af6e60429.nc:   0%|          | 0.00/272k [00:00<?, ?B/s]"
      ]
     },
     "metadata": {},
     "output_type": "display_data"
    },
    {
     "name": "stdout",
     "output_type": "stream",
     "text": [
      "Archivo d08a72299e0ae7994c88e0af6e60429.nc renombrado a 1961-12-01_a_1961-12-31.nc\n"
     ]
    },
    {
     "name": "stderr",
     "output_type": "stream",
     "text": [
      "2024-09-22 11:14:51,618 WARNING [2024-09-22T09:14:51.808474] You are using a deprecated API endpoint. If you are using cdsapi, please upgrade to the latest version.\n",
      "2024-09-22 11:14:51,633 INFO Request ID is 2171e0ae-81c5-4780-a320-6dce751dbab2\n",
      "2024-09-22 11:14:51,715 INFO status has been updated to accepted\n",
      "2024-09-22 11:14:53,287 INFO status has been updated to running\n",
      "2024-09-22 11:17:48,600 INFO status has been updated to successful\n"
     ]
    },
    {
     "data": {
      "application/vnd.jupyter.widget-view+json": {
       "model_id": "",
       "version_major": 2,
       "version_minor": 0
      },
      "text/plain": [
       "607864dea6500cec879f578ae65cfb3f.nc:   0%|          | 0.00/276k [00:00<?, ?B/s]"
      ]
     },
     "metadata": {},
     "output_type": "display_data"
    },
    {
     "name": "stdout",
     "output_type": "stream",
     "text": [
      "Archivo 607864dea6500cec879f578ae65cfb3f.nc renombrado a 1961-11-01_a_1961-11-30.nc\n"
     ]
    },
    {
     "name": "stderr",
     "output_type": "stream",
     "text": [
      "2024-09-22 11:17:52,619 WARNING [2024-09-22T09:17:52.804268] You are using a deprecated API endpoint. If you are using cdsapi, please upgrade to the latest version.\n",
      "2024-09-22 11:17:52,619 INFO Request ID is cbc05d18-06a1-4bc8-81aa-72dc776a00be\n",
      "2024-09-22 11:17:52,698 INFO status has been updated to accepted\n",
      "2024-09-22 11:17:54,264 INFO status has been updated to running\n",
      "2024-09-22 11:20:47,052 INFO status has been updated to successful\n"
     ]
    },
    {
     "data": {
      "application/vnd.jupyter.widget-view+json": {
       "model_id": "",
       "version_major": 2,
       "version_minor": 0
      },
      "text/plain": [
       "c82fe1e93e3d90207ddd371c132c7441.nc:   0%|          | 0.00/274k [00:00<?, ?B/s]"
      ]
     },
     "metadata": {},
     "output_type": "display_data"
    },
    {
     "name": "stdout",
     "output_type": "stream",
     "text": [
      "Archivo c82fe1e93e3d90207ddd371c132c7441.nc renombrado a 1961-10-01_a_1961-10-31.nc\n"
     ]
    },
    {
     "name": "stderr",
     "output_type": "stream",
     "text": [
      "2024-09-22 11:20:51,054 WARNING [2024-09-22T09:20:51.242589] You are using a deprecated API endpoint. If you are using cdsapi, please upgrade to the latest version.\n",
      "2024-09-22 11:20:51,054 INFO Request ID is ba6b1ea9-a339-47d3-922b-46dbcf944e27\n",
      "2024-09-22 11:20:51,148 INFO status has been updated to accepted\n",
      "2024-09-22 11:20:52,734 INFO status has been updated to running\n",
      "2024-09-22 11:22:48,965 INFO status has been updated to successful\n"
     ]
    },
    {
     "data": {
      "application/vnd.jupyter.widget-view+json": {
       "model_id": "",
       "version_major": 2,
       "version_minor": 0
      },
      "text/plain": [
       "d9d4851cd03ccedf540f3a85f754676e.nc:   0%|          | 0.00/272k [00:00<?, ?B/s]"
      ]
     },
     "metadata": {},
     "output_type": "display_data"
    },
    {
     "name": "stdout",
     "output_type": "stream",
     "text": [
      "Archivo d9d4851cd03ccedf540f3a85f754676e.nc renombrado a 1961-09-01_a_1961-09-30.nc\n"
     ]
    },
    {
     "name": "stderr",
     "output_type": "stream",
     "text": [
      "2024-09-22 11:22:53,046 WARNING [2024-09-22T09:22:53.239761] You are using a deprecated API endpoint. If you are using cdsapi, please upgrade to the latest version.\n",
      "2024-09-22 11:22:53,046 INFO Request ID is 9acf4afd-2bde-46dd-955e-cacf6a628c54\n",
      "2024-09-22 11:22:53,136 INFO status has been updated to accepted\n",
      "2024-09-22 11:22:54,718 INFO status has been updated to running\n",
      "2024-09-22 11:25:47,699 INFO status has been updated to successful\n"
     ]
    },
    {
     "data": {
      "application/vnd.jupyter.widget-view+json": {
       "model_id": "",
       "version_major": 2,
       "version_minor": 0
      },
      "text/plain": [
       "f69c841a05f377a7dabf37da0974d6ed.nc:   0%|          | 0.00/271k [00:00<?, ?B/s]"
      ]
     },
     "metadata": {},
     "output_type": "display_data"
    },
    {
     "name": "stdout",
     "output_type": "stream",
     "text": [
      "Archivo f69c841a05f377a7dabf37da0974d6ed.nc renombrado a 1961-08-01_a_1961-08-31.nc\n"
     ]
    },
    {
     "name": "stderr",
     "output_type": "stream",
     "text": [
      "2024-09-22 11:25:51,591 WARNING [2024-09-22T09:25:51.785770] You are using a deprecated API endpoint. If you are using cdsapi, please upgrade to the latest version.\n",
      "2024-09-22 11:25:51,591 INFO Request ID is e352a697-6b80-424b-9b24-a0d776e75f61\n",
      "2024-09-22 11:25:51,693 INFO status has been updated to accepted\n",
      "2024-09-22 11:25:53,258 INFO status has been updated to running\n",
      "2024-09-22 11:28:53,231 INFO status has been updated to successful\n"
     ]
    },
    {
     "data": {
      "application/vnd.jupyter.widget-view+json": {
       "model_id": "",
       "version_major": 2,
       "version_minor": 0
      },
      "text/plain": [
       "bc085a9b55b1c49cd69dfb6524f02ee1.nc:   0%|          | 0.00/271k [00:00<?, ?B/s]"
      ]
     },
     "metadata": {},
     "output_type": "display_data"
    },
    {
     "name": "stdout",
     "output_type": "stream",
     "text": [
      "Archivo bc085a9b55b1c49cd69dfb6524f02ee1.nc renombrado a 1961-07-01_a_1961-07-31.nc\n"
     ]
    },
    {
     "name": "stderr",
     "output_type": "stream",
     "text": [
      "2024-09-22 11:28:57,401 WARNING [2024-09-22T09:28:57.584683] You are using a deprecated API endpoint. If you are using cdsapi, please upgrade to the latest version.\n",
      "2024-09-22 11:28:57,401 INFO Request ID is eff7206f-fb11-4235-9278-8c2531c14ed5\n",
      "2024-09-22 11:28:57,488 INFO status has been updated to accepted\n",
      "2024-09-22 11:28:59,068 INFO status has been updated to running\n",
      "2024-09-22 11:31:54,289 INFO status has been updated to successful\n"
     ]
    },
    {
     "data": {
      "application/vnd.jupyter.widget-view+json": {
       "model_id": "",
       "version_major": 2,
       "version_minor": 0
      },
      "text/plain": [
       "a6688df48998bd8c5cc1336493d9f2f0.nc:   0%|          | 0.00/273k [00:00<?, ?B/s]"
      ]
     },
     "metadata": {},
     "output_type": "display_data"
    },
    {
     "name": "stdout",
     "output_type": "stream",
     "text": [
      "Archivo a6688df48998bd8c5cc1336493d9f2f0.nc renombrado a 1961-06-01_a_1961-06-30.nc\n"
     ]
    },
    {
     "name": "stderr",
     "output_type": "stream",
     "text": [
      "2024-09-22 11:31:58,387 WARNING [2024-09-22T09:31:58.581191] You are using a deprecated API endpoint. If you are using cdsapi, please upgrade to the latest version.\n",
      "2024-09-22 11:31:58,402 INFO Request ID is f73cf283-b594-4187-9a24-95217d5cadb2\n",
      "2024-09-22 11:31:58,482 INFO status has been updated to accepted\n",
      "2024-09-22 11:32:00,048 INFO status has been updated to running\n",
      "2024-09-22 11:33:53,955 INFO status has been updated to successful\n"
     ]
    },
    {
     "data": {
      "application/vnd.jupyter.widget-view+json": {
       "model_id": "",
       "version_major": 2,
       "version_minor": 0
      },
      "text/plain": [
       "1eb40ce4b0615a0150544194e3515359.nc:   0%|          | 0.00/273k [00:00<?, ?B/s]"
      ]
     },
     "metadata": {},
     "output_type": "display_data"
    },
    {
     "name": "stdout",
     "output_type": "stream",
     "text": [
      "Archivo 1eb40ce4b0615a0150544194e3515359.nc renombrado a 1961-05-01_a_1961-05-31.nc\n"
     ]
    },
    {
     "name": "stderr",
     "output_type": "stream",
     "text": [
      "2024-09-22 11:33:58,299 WARNING [2024-09-22T09:33:58.493510] You are using a deprecated API endpoint. If you are using cdsapi, please upgrade to the latest version.\n",
      "2024-09-22 11:33:58,299 INFO Request ID is 5da60b8b-1ce2-4181-b12a-5c583d99110f\n",
      "2024-09-22 11:33:58,385 INFO status has been updated to accepted\n",
      "2024-09-22 11:33:59,951 INFO status has been updated to running\n",
      "2024-09-22 11:35:53,983 INFO status has been updated to successful\n"
     ]
    },
    {
     "data": {
      "application/vnd.jupyter.widget-view+json": {
       "model_id": "",
       "version_major": 2,
       "version_minor": 0
      },
      "text/plain": [
       "86ca1c50a3716740e537191bb47a643d.nc:   0%|          | 0.00/269k [00:00<?, ?B/s]"
      ]
     },
     "metadata": {},
     "output_type": "display_data"
    },
    {
     "name": "stdout",
     "output_type": "stream",
     "text": [
      "Archivo 86ca1c50a3716740e537191bb47a643d.nc renombrado a 1961-04-01_a_1961-04-30.nc\n"
     ]
    },
    {
     "name": "stderr",
     "output_type": "stream",
     "text": [
      "2024-09-22 11:35:58,018 WARNING [2024-09-22T09:35:58.210123] You are using a deprecated API endpoint. If you are using cdsapi, please upgrade to the latest version.\n",
      "2024-09-22 11:35:58,018 INFO Request ID is bb0099b1-446b-4c3c-8e44-2b4ffbe353b5\n",
      "2024-09-22 11:35:58,105 INFO status has been updated to accepted\n",
      "2024-09-22 11:35:59,685 INFO status has been updated to running\n",
      "2024-09-22 11:38:53,739 INFO status has been updated to successful\n"
     ]
    },
    {
     "data": {
      "application/vnd.jupyter.widget-view+json": {
       "model_id": "",
       "version_major": 2,
       "version_minor": 0
      },
      "text/plain": [
       "fe5b1bed7a801a579f5cbe44eda71c40.nc:   0%|          | 0.00/266k [00:00<?, ?B/s]"
      ]
     },
     "metadata": {},
     "output_type": "display_data"
    },
    {
     "name": "stdout",
     "output_type": "stream",
     "text": [
      "Archivo fe5b1bed7a801a579f5cbe44eda71c40.nc renombrado a 1961-03-01_a_1961-03-31.nc\n"
     ]
    },
    {
     "name": "stderr",
     "output_type": "stream",
     "text": [
      "2024-09-22 11:38:57,757 WARNING [2024-09-22T09:38:57.956419] You are using a deprecated API endpoint. If you are using cdsapi, please upgrade to the latest version.\n",
      "2024-09-22 11:38:57,773 INFO Request ID is d8fd1b3d-887d-40ac-a2f5-da5415c8bf4c\n",
      "2024-09-22 11:38:57,847 INFO status has been updated to accepted\n",
      "2024-09-22 11:38:59,417 INFO status has been updated to running\n",
      "2024-09-22 11:40:55,686 INFO status has been updated to successful\n"
     ]
    },
    {
     "data": {
      "application/vnd.jupyter.widget-view+json": {
       "model_id": "",
       "version_major": 2,
       "version_minor": 0
      },
      "text/plain": [
       "2471a30a92d4740b2117f1a35d7d2fb5.nc:   0%|          | 0.00/259k [00:00<?, ?B/s]"
      ]
     },
     "metadata": {},
     "output_type": "display_data"
    },
    {
     "name": "stdout",
     "output_type": "stream",
     "text": [
      "Archivo 2471a30a92d4740b2117f1a35d7d2fb5.nc renombrado a 1961-02-01_a_1961-02-28.nc\n"
     ]
    },
    {
     "name": "stderr",
     "output_type": "stream",
     "text": [
      "2024-09-22 11:40:59,842 WARNING [2024-09-22T09:41:00.037681] You are using a deprecated API endpoint. If you are using cdsapi, please upgrade to the latest version.\n",
      "2024-09-22 11:40:59,842 INFO Request ID is 589d57f8-ee70-4eb3-9bab-487fa4a3ad87\n",
      "2024-09-22 11:40:59,949 INFO status has been updated to accepted\n",
      "2024-09-22 11:41:01,516 INFO status has been updated to running\n",
      "2024-09-22 11:42:55,625 INFO status has been updated to successful\n"
     ]
    },
    {
     "data": {
      "application/vnd.jupyter.widget-view+json": {
       "model_id": "",
       "version_major": 2,
       "version_minor": 0
      },
      "text/plain": [
       "16c3659ab30e1946aa0bc999c275e421.nc:   0%|          | 0.00/282k [00:00<?, ?B/s]"
      ]
     },
     "metadata": {},
     "output_type": "display_data"
    },
    {
     "name": "stdout",
     "output_type": "stream",
     "text": [
      "Archivo 16c3659ab30e1946aa0bc999c275e421.nc renombrado a 1961-01-01_a_1961-01-31.nc\n"
     ]
    }
   ],
   "source": [
    "for year in range(1965, 1960,-1):\n",
    "    if year == 1965:\n",
    "        meses = range(6,0, -1)\n",
    "    else:\n",
    "        meses = range(12,0, -1)\n",
    "    for month in meses:\n",
    "        dataset = \"reanalysis-era5-single-levels\"\n",
    "        request = {\n",
    "            'product_type': ['ensemble_mean'],\n",
    "            'variable': ['total_precipitation', 'skin_temperature', 'evaporation', 'runoff', 'snowfall', 'volumetric_soil_water_layer_1', 'volumetric_soil_water_layer_2', 'volumetric_soil_water_layer_3', 'volumetric_soil_water_layer_4', 'high_vegetation_cover', 'low_vegetation_cover', 'type_of_high_vegetation', 'type_of_low_vegetation'],\n",
    "            'year': [str(year)],\n",
    "            'month': [str(month)],\n",
    "            'day': ['01', '02', '03', '04', '05', '06', '07', '08', '09', '10', '11', '12', '13', '14', '15', '16', '17', '18', '19', '20', '21', '22', '23', '24', '25', '26', '27', '28', '29', '30', '31'],\n",
    "            'time': ['00:00', '03:00', '06:00', '09:00', '12:00', '15:00', '18:00', '21:00'],\n",
    "            'data_format': 'netcdf',\n",
    "            'download_format': 'unarchived',\n",
    "            'area': [40.5425, -2.255, 38.1739, 0.5665] ##Cuenca hidrográfica del Jucar +/-\n",
    "        }\n",
    "        \n",
    "        client = cdsapi.Client()\n",
    "        file_name = client.retrieve(dataset, request).download()\n",
    "        fecha_min, fecha_max = obtener_rango_fechas(file_name)\n",
    "        if fecha_min and fecha_max:\n",
    "            nuevo_nombre = f\"{fecha_min}_a_{fecha_max}.nc\"\n",
    "            nuevo_archivo_completo = os.path.join(nuevo_nombre)\n",
    "\n",
    "            try:\n",
    "                # Intentar renombrar el archivo\n",
    "                os.rename(file_name, nuevo_archivo_completo)\n",
    "                print(f\"Archivo {file_name} renombrado a {nuevo_nombre}\")\n",
    "            except PermissionError:\n",
    "                print(f\"Archivo {file_name} en uso. No se puede renombrar en este momento.\")\n",
    "            except Exception as e:\n",
    "                print(f\"Ocurrió un error al renombrar {file_name}: {e}\")\n",
    "        else:\n",
    "            print(f\"No se pudo obtener el rango de fechas para {archivo}\")"
   ]
  },
  {
   "cell_type": "code",
   "execution_count": 10,
   "metadata": {},
   "outputs": [
    {
     "name": "stdout",
     "output_type": "stream",
     "text": [
      "Procesando: 1961-01-01_a_1961-01-31.nc\n",
      "Procesando: 1961-02-01_a_1961-02-28.nc\n",
      "Procesando: 1961-03-01_a_1961-03-31.nc\n",
      "Procesando: 1961-04-01_a_1961-04-30.nc\n",
      "Procesando: 1961-05-01_a_1961-05-31.nc\n",
      "Procesando: 1961-06-01_a_1961-06-30.nc\n",
      "Procesando: 1961-07-01_a_1961-07-31.nc\n",
      "Procesando: 1961-08-01_a_1961-08-31.nc\n",
      "Procesando: 1961-09-01_a_1961-09-30.nc\n",
      "Procesando: 1961-10-01_a_1961-10-31.nc\n",
      "Procesando: 1961-11-01_a_1961-11-30.nc\n",
      "Procesando: 1961-12-01_a_1961-12-31.nc\n",
      "Procesando: 1962-01-01_a_1962-01-31.nc\n",
      "Procesando: 1962-02-01_a_1962-02-28.nc\n",
      "Procesando: 1962-03-01_a_1962-03-31.nc\n",
      "Procesando: 1962-04-01_a_1962-04-30.nc\n",
      "Procesando: 1962-05-01_a_1962-05-31.nc\n",
      "Procesando: 1962-06-01_a_1962-06-30.nc\n",
      "Procesando: 1962-07-01_a_1962-07-31.nc\n",
      "Procesando: 1962-08-01_a_1962-08-31.nc\n",
      "Procesando: 1962-09-01_a_1962-09-30.nc\n",
      "Procesando: 1962-10-01_a_1962-10-31.nc\n",
      "Procesando: 1962-11-01_a_1962-11-30.nc\n",
      "Procesando: 1962-12-01_a_1962-12-31.nc\n",
      "Procesando: 1963-01-01_a_1963-01-31.nc\n",
      "Procesando: 1963-02-01_a_1963-02-28.nc\n",
      "Procesando: 1963-03-01_a_1963-03-31.nc\n",
      "Procesando: 1963-04-01_a_1963-04-30.nc\n",
      "Procesando: 1963-05-01_a_1963-05-31.nc\n",
      "Procesando: 1963-06-01_a_1963-06-30.nc\n",
      "Procesando: 1963-07-01_a_1963-07-31.nc\n",
      "Procesando: 1963-08-01_a_1963-08-31.nc\n",
      "Procesando: 1963-09-01_a_1963-09-30.nc\n",
      "Procesando: 1963-10-01_a_1963-10-31.nc\n",
      "Procesando: 1963-11-01_a_1963-11-30.nc\n",
      "Procesando: 1963-12-01_a_1963-12-31.nc\n",
      "Procesando: 1964-01-01_a_1964-01-31.nc\n",
      "Procesando: 1964-02-01_a_1964-02-29.nc\n",
      "Procesando: 1964-03-01_a_1964-03-31.nc\n",
      "Procesando: 1964-04-01_a_1964-04-30.nc\n",
      "Procesando: 1964-05-01_a_1964-05-31.nc\n",
      "Procesando: 1964-06-01_a_1964-06-30.nc\n",
      "Procesando: 1964-07-01_a_1964-07-31.nc\n",
      "Procesando: 1964-08-01_a_1964-08-31.nc\n",
      "Procesando: 1964-09-01_a_1964-09-30.nc\n",
      "Procesando: 1964-10-01_a_1964-10-31.nc\n",
      "Procesando: 1964-11-01_a_1964-11-30.nc\n",
      "Procesando: 1964-12-01_a_1964-12-31.nc\n",
      "Procesando: 1965-01-01_a_1965-01-31.nc\n",
      "Procesando: 1965-02-01_a_1965-02-28.nc\n",
      "Procesando: 1965-03-01_a_1965-03-31.nc\n",
      "Procesando: 1965-04-01_a_1965-04-30.nc\n",
      "Procesando: 1965-05-01_a_1965-05-31.nc\n",
      "Procesando: 1965-06-01_a_1965-06-30.nc\n",
      "Procesando: 1965-07-01_a_1965-07-31.nc\n",
      "Procesando: 1965-08-01_a_1965-08-31.nc\n",
      "Procesando: 1965-09-01_a_1965-09-30.nc\n",
      "Procesando: 1965-10-01_a_1965-10-31.nc\n",
      "Procesando: 1965-11-01_a_1965-11-30.nc\n",
      "Procesando: 1965-12-01_a_1965-12-31.nc\n",
      "Procesando: 1966-01-01_a_1966-01-31.nc\n",
      "Procesando: 1966-02-01_a_1966-02-28.nc\n",
      "Procesando: 1966-03-01_a_1966-03-31.nc\n",
      "Procesando: 1966-04-01_a_1966-04-30.nc\n",
      "Procesando: 1966-05-01_a_1966-05-31.nc\n",
      "Procesando: 1966-06-01_a_1966-06-30.nc\n",
      "Procesando: 1966-07-01_a_1966-07-31.nc\n",
      "Procesando: 1966-08-01_a_1966-08-31.nc\n",
      "Procesando: 1966-09-01_a_1966-09-30.nc\n",
      "Procesando: 1966-10-01_a_1966-10-31.nc\n",
      "Procesando: 1966-11-01_a_1966-11-30.nc\n",
      "Procesando: 1966-12-01_a_1966-12-31.nc\n",
      "Procesando: 1967-01-01_a_1967-01-31.nc\n",
      "Procesando: 1967-02-01_a_1967-02-28.nc\n",
      "Procesando: 1967-03-01_a_1967-03-31.nc\n",
      "Procesando: 1967-04-01_a_1967-04-30.nc\n",
      "Procesando: 1967-05-01_a_1967-05-31.nc\n",
      "Procesando: 1967-06-01_a_1967-06-30.nc\n",
      "Procesando: 1967-07-01_a_1967-07-31.nc\n",
      "Procesando: 1967-08-01_a_1967-08-31.nc\n",
      "Procesando: 1967-09-01_a_1967-09-30.nc\n",
      "Procesando: 1967-10-01_a_1967-10-31.nc\n",
      "Procesando: 1967-11-01_a_1967-11-30.nc\n",
      "Procesando: 1967-12-01_a_1967-12-31.nc\n",
      "Procesando: 1968-01-01_a_1968-01-31.nc\n",
      "Procesando: 1968-02-01_a_1968-02-29.nc\n",
      "Procesando: 1968-03-01_a_1968-03-31.nc\n",
      "Procesando: 1968-04-01_a_1968-04-30.nc\n",
      "Procesando: 1968-05-01_a_1968-05-31.nc\n",
      "Procesando: 1968-06-01_a_1968-06-30.nc\n",
      "Procesando: 1968-07-01_a_1968-07-31.nc\n",
      "Procesando: 1968-08-01_a_1968-08-31.nc\n",
      "Procesando: 1968-09-01_a_1968-09-30.nc\n",
      "Procesando: 1968-10-01_a_1968-10-31.nc\n",
      "Procesando: 1968-11-01_a_1968-11-30.nc\n",
      "Procesando: 1968-12-01_a_1968-12-31.nc\n",
      "Procesando: 1969-01-01_a_1969-01-31.nc\n",
      "Procesando: 1969-02-01_a_1969-02-28.nc\n",
      "Procesando: 1969-03-01_a_1969-03-31.nc\n",
      "Procesando: 1969-04-01_a_1969-04-30.nc\n",
      "Procesando: 1969-05-01_a_1969-05-31.nc\n",
      "Procesando: 1969-06-01_a_1969-06-30.nc\n",
      "Procesando: 1969-07-01_a_1969-07-31.nc\n",
      "Procesando: 1969-08-01_a_1969-08-31.nc\n",
      "Procesando: 1969-09-01_a_1969-09-30.nc\n",
      "Procesando: 1969-10-01_a_1969-10-31.nc\n",
      "Procesando: 1969-11-01_a_1969-11-30.nc\n",
      "Procesando: 1969-12-01_a_1969-12-31.nc\n",
      "Procesando: 1970-01-01_a_1970-01-31.nc\n",
      "Procesando: 1970-02-01_a_1970-02-28.nc\n",
      "Procesando: 1970-03-01_a_1970-03-31.nc\n",
      "Procesando: 1970-04-01_a_1970-04-30.nc\n",
      "Procesando: 1970-05-01_a_1970-05-31.nc\n",
      "Procesando: 1970-06-01_a_1970-06-30.nc\n",
      "Procesando: 1970-07-01_a_1970-07-31.nc\n",
      "Procesando: 1970-08-01_a_1970-08-31.nc\n",
      "Procesando: 1970-09-01_a_1970-09-30.nc\n",
      "Procesando: 1970-10-01_a_1970-10-31.nc\n",
      "Procesando: 1970-11-01_a_1970-11-30.nc\n",
      "Procesando: 1970-12-01_a_1970-12-31.nc\n",
      "Procesando: 1971-01-01_a_1971-01-31.nc\n",
      "Procesando: 1971-02-01_a_1971-02-28.nc\n",
      "Procesando: 1971-03-01_a_1971-03-31.nc\n",
      "Procesando: 1971-04-01_a_1971-04-30.nc\n",
      "Procesando: 1971-05-01_a_1971-05-31.nc\n",
      "Procesando: 1971-06-01_a_1971-06-30.nc\n",
      "Procesando: 1971-07-01_a_1971-07-31.nc\n",
      "Procesando: 1971-08-01_a_1971-08-31.nc\n",
      "Procesando: 1971-09-01_a_1971-09-30.nc\n",
      "Procesando: 1971-10-01_a_1971-10-31.nc\n",
      "Procesando: 1971-11-01_a_1971-11-30.nc\n",
      "Procesando: 1971-12-01_a_1971-12-31.nc\n",
      "Procesando: 1972-01-01_a_1972-01-31.nc\n",
      "Procesando: 1972-02-01_a_1972-02-29.nc\n",
      "Procesando: 1972-03-01_a_1972-03-31.nc\n",
      "Procesando: 1972-04-01_a_1972-04-30.nc\n",
      "Procesando: 1972-05-01_a_1972-05-31.nc\n",
      "Procesando: 1972-06-01_a_1972-06-30.nc\n",
      "Procesando: 1972-07-01_a_1972-07-31.nc\n",
      "Procesando: 1972-08-01_a_1972-08-31.nc\n",
      "Procesando: 1972-09-01_a_1972-09-30.nc\n",
      "Procesando: 1972-10-01_a_1972-10-31.nc\n",
      "Procesando: 1972-11-01_a_1972-11-30.nc\n",
      "Procesando: 1972-12-01_a_1972-12-31.nc\n",
      "Procesando: 1973-01-01_a_1973-01-31.nc\n",
      "Procesando: 1973-02-01_a_1973-02-28.nc\n",
      "Procesando: 1973-03-01_a_1973-03-31.nc\n",
      "Procesando: 1973-04-01_a_1973-04-30.nc\n",
      "Procesando: 1973-05-01_a_1973-05-31.nc\n",
      "Procesando: 1973-06-01_a_1973-06-30.nc\n",
      "Procesando: 1973-07-01_a_1973-07-31.nc\n",
      "Procesando: 1973-08-01_a_1973-08-31.nc\n",
      "Procesando: 1973-09-01_a_1973-09-30.nc\n",
      "Procesando: 1973-10-01_a_1973-10-31.nc\n",
      "Procesando: 1973-11-01_a_1973-11-30.nc\n",
      "Procesando: 1973-12-01_a_1973-12-31.nc\n",
      "Procesando: 1974-01-01_a_1974-01-31.nc\n",
      "Procesando: 1974-02-01_a_1974-02-28.nc\n",
      "Procesando: 1974-03-01_a_1974-03-31.nc\n",
      "Procesando: 1974-04-01_a_1974-04-30.nc\n",
      "Procesando: 1974-05-01_a_1974-05-31.nc\n",
      "Procesando: 1974-06-01_a_1974-06-30.nc\n",
      "Procesando: 1974-07-01_a_1974-07-31.nc\n",
      "Procesando: 1974-08-01_a_1974-08-31.nc\n",
      "Procesando: 1974-09-01_a_1974-09-30.nc\n",
      "Procesando: 1974-10-01_a_1974-10-31.nc\n",
      "Procesando: 1974-11-01_a_1974-11-30.nc\n",
      "Procesando: 1974-12-01_a_1974-12-31.nc\n",
      "Procesando: 1975-01-01_a_1975-01-31.nc\n",
      "Procesando: 1975-02-01_a_1975-02-28.nc\n",
      "Procesando: 1975-03-01_a_1975-03-31.nc\n",
      "Procesando: 1975-04-01_a_1975-04-30.nc\n",
      "Procesando: 1975-05-01_a_1975-05-31.nc\n",
      "Procesando: 1975-06-01_a_1975-06-30.nc\n",
      "Procesando: 1975-07-01_a_1975-07-31.nc\n",
      "Procesando: 1975-08-01_a_1975-08-31.nc\n",
      "Procesando: 1975-09-01_a_1975-09-30.nc\n",
      "Procesando: 1975-10-01_a_1975-10-31.nc\n",
      "Procesando: 1975-11-01_a_1975-11-30.nc\n",
      "Procesando: 1975-12-01_a_1975-12-31.nc\n",
      "Procesando: 1976-01-01_a_1976-01-31.nc\n",
      "Procesando: 1976-02-01_a_1976-02-29.nc\n",
      "Procesando: 1976-03-01_a_1976-03-31.nc\n",
      "Procesando: 1976-04-01_a_1976-04-30.nc\n",
      "Procesando: 1976-05-01_a_1976-05-31.nc\n",
      "Procesando: 1976-06-01_a_1976-06-30.nc\n",
      "Procesando: 1976-07-01_a_1976-07-31.nc\n",
      "Procesando: 1976-08-01_a_1976-08-31.nc\n",
      "Procesando: 1976-09-01_a_1976-09-30.nc\n",
      "Procesando: 1976-10-01_a_1976-10-31.nc\n",
      "Procesando: 1976-11-01_a_1976-11-30.nc\n",
      "Procesando: 1976-12-01_a_1976-12-31.nc\n",
      "Procesando: 1977-01-01_a_1977-01-31.nc\n",
      "Procesando: 1977-02-01_a_1977-02-28.nc\n",
      "Procesando: 1977-03-01_a_1977-03-31.nc\n",
      "Procesando: 1977-04-01_a_1977-04-30.nc\n",
      "Procesando: 1977-05-01_a_1977-05-31.nc\n",
      "Procesando: 1977-06-01_a_1977-06-30.nc\n",
      "Procesando: 1977-07-01_a_1977-07-31.nc\n",
      "Procesando: 1977-08-01_a_1977-08-31.nc\n",
      "Procesando: 1977-09-01_a_1977-09-30.nc\n",
      "Procesando: 1977-10-01_a_1977-10-31.nc\n",
      "Procesando: 1977-11-01_a_1977-11-30.nc\n",
      "Procesando: 1977-12-01_a_1977-12-31.nc\n",
      "Procesando: 1978-01-01_a_1978-01-31.nc\n",
      "Procesando: 1978-02-01_a_1978-02-28.nc\n",
      "Procesando: 1978-03-01_a_1978-03-31.nc\n",
      "Procesando: 1978-04-01_a_1978-04-30.nc\n",
      "Procesando: 1978-05-01_a_1978-05-31.nc\n",
      "Procesando: 1978-06-01_a_1978-06-30.nc\n",
      "Procesando: 1978-07-01_a_1978-07-31.nc\n",
      "Procesando: 1978-08-01_a_1978-08-31.nc\n",
      "Procesando: 1978-09-01_a_1978-09-30.nc\n",
      "Procesando: 1978-10-01_a_1978-10-31.nc\n",
      "Procesando: 1978-11-01_a_1978-11-30.nc\n",
      "Procesando: 1978-12-01_a_1978-12-31.nc\n",
      "Procesando: 1979-01-01_a_1979-01-31.nc\n",
      "Procesando: 1979-02-01_a_1979-02-28.nc\n",
      "Procesando: 1979-03-01_a_1979-03-31.nc\n",
      "Procesando: 1979-04-01_a_1979-04-30.nc\n",
      "Procesando: 1979-05-01_a_1979-05-31.nc\n",
      "Procesando: 1979-06-01_a_1979-06-30.nc\n",
      "Procesando: 1979-07-01_a_1979-07-31.nc\n",
      "Procesando: 1979-08-01_a_1979-08-31.nc\n",
      "Procesando: 1979-09-01_a_1979-09-30.nc\n",
      "Procesando: 1979-10-01_a_1979-10-31.nc\n",
      "Procesando: 1979-11-01_a_1979-11-30.nc\n",
      "Procesando: 1979-12-01_a_1979-12-31.nc\n",
      "Procesando: 1980-01-01_a_1980-01-31.nc\n",
      "Procesando: 1980-02-01_a_1980-02-29.nc\n",
      "Procesando: 1980-03-01_a_1980-03-31.nc\n",
      "Procesando: 1980-04-01_a_1980-04-30.nc\n",
      "Procesando: 1980-05-01_a_1980-05-31.nc\n",
      "Procesando: 1980-06-01_a_1980-06-30.nc\n",
      "Procesando: 1980-07-01_a_1980-07-31.nc\n",
      "Procesando: 1980-08-01_a_1980-08-31.nc\n",
      "Procesando: 1980-09-01_a_1980-09-30.nc\n",
      "Procesando: 1980-10-01_a_1980-10-31.nc\n",
      "Procesando: 1980-11-01_a_1980-11-30.nc\n",
      "Procesando: 1980-12-01_a_1980-12-31.nc\n",
      "Procesando: 1981-01-01_a_1981-01-31.nc\n",
      "Procesando: 1981-02-01_a_1981-02-28.nc\n",
      "Procesando: 1981-03-01_a_1981-03-31.nc\n",
      "Procesando: 1981-04-01_a_1981-04-30.nc\n",
      "Procesando: 1981-05-01_a_1981-05-31.nc\n",
      "Procesando: 1981-06-01_a_1981-06-30.nc\n",
      "Procesando: 1981-07-01_a_1981-07-31.nc\n",
      "Procesando: 1981-08-01_a_1981-08-31.nc\n",
      "Procesando: 1981-09-01_a_1981-09-30.nc\n",
      "Procesando: 1981-10-01_a_1981-10-31.nc\n",
      "Procesando: 1981-11-01_a_1981-11-30.nc\n",
      "Procesando: 1981-12-01_a_1981-12-31.nc\n",
      "Procesando: 1982-01-01_a_1982-01-31.nc\n",
      "Procesando: 1982-02-01_a_1982-02-28.nc\n",
      "Procesando: 1982-03-01_a_1982-03-31.nc\n",
      "Procesando: 1982-04-01_a_1982-04-30.nc\n",
      "Procesando: 1982-05-01_a_1982-05-31.nc\n",
      "Procesando: 1982-06-01_a_1982-06-30.nc\n",
      "Procesando: 1982-07-01_a_1982-07-31.nc\n",
      "Procesando: 1982-08-01_a_1982-08-31.nc\n",
      "Procesando: 1982-09-01_a_1982-09-30.nc\n",
      "Procesando: 1982-10-01_a_1982-10-31.nc\n",
      "Procesando: 1982-11-01_a_1982-11-30.nc\n",
      "Procesando: 1982-12-01_a_1982-12-31.nc\n",
      "Procesando: 1983-01-01_a_1983-01-31.nc\n",
      "Procesando: 1983-02-01_a_1983-02-28.nc\n",
      "Procesando: 1983-03-01_a_1983-03-31.nc\n",
      "Procesando: 1983-04-01_a_1983-04-30.nc\n",
      "Procesando: 1983-05-01_a_1983-05-31.nc\n",
      "Procesando: 1983-06-01_a_1983-06-30.nc\n",
      "Procesando: 1983-07-01_a_1983-07-31.nc\n",
      "Procesando: 1983-08-01_a_1983-08-31.nc\n",
      "Procesando: 1983-09-01_a_1983-09-30.nc\n",
      "Procesando: 1983-10-01_a_1983-10-31.nc\n",
      "Procesando: 1983-11-01_a_1983-11-30.nc\n",
      "Procesando: 1983-12-01_a_1983-12-31.nc\n",
      "Procesando: 1984-01-01_a_1984-01-31.nc\n",
      "Procesando: 1984-02-01_a_1984-02-29.nc\n",
      "Procesando: 1984-03-01_a_1984-03-31.nc\n",
      "Procesando: 1984-04-01_a_1984-04-30.nc\n",
      "Procesando: 1984-05-01_a_1984-05-31.nc\n",
      "Procesando: 1984-06-01_a_1984-06-30.nc\n",
      "Procesando: 1984-07-01_a_1984-07-31.nc\n",
      "Procesando: 1984-08-01_a_1984-08-31.nc\n",
      "Procesando: 1984-09-01_a_1984-09-30.nc\n",
      "Procesando: 1984-10-01_a_1984-10-31.nc\n",
      "Procesando: 1984-11-01_a_1984-11-30.nc\n",
      "Procesando: 1984-12-01_a_1984-12-31.nc\n",
      "Procesando: 1985-01-01_a_1985-01-31.nc\n",
      "Procesando: 1985-02-01_a_1985-02-28.nc\n",
      "Procesando: 1985-03-01_a_1985-03-31.nc\n",
      "Procesando: 1985-04-01_a_1985-04-30.nc\n",
      "Procesando: 1985-05-01_a_1985-05-31.nc\n",
      "Procesando: 1985-06-01_a_1985-06-30.nc\n",
      "Procesando: 1985-07-01_a_1985-07-31.nc\n",
      "Procesando: 1985-08-01_a_1985-08-31.nc\n",
      "Procesando: 1985-09-01_a_1985-09-30.nc\n",
      "Procesando: 1985-10-01_a_1985-10-31.nc\n",
      "Procesando: 1985-11-01_a_1985-11-30.nc\n",
      "Procesando: 1985-12-01_a_1985-12-31.nc\n",
      "Procesando: 1986-01-01_a_1986-01-31.nc\n",
      "Procesando: 1986-02-01_a_1986-02-28.nc\n",
      "Procesando: 1986-03-01_a_1986-03-31.nc\n",
      "Procesando: 1986-04-01_a_1986-04-30.nc\n",
      "Procesando: 1986-05-01_a_1986-05-31.nc\n",
      "Procesando: 1986-06-01_a_1986-06-30.nc\n",
      "Procesando: 1986-07-01_a_1986-07-31.nc\n",
      "Procesando: 1986-08-01_a_1986-08-31.nc\n",
      "Procesando: 1986-09-01_a_1986-09-30.nc\n",
      "Procesando: 1986-10-01_a_1986-10-31.nc\n",
      "Procesando: 1986-11-01_a_1986-11-30.nc\n",
      "Procesando: 1986-12-01_a_1986-12-31.nc\n",
      "Procesando: 1987-01-01_a_1987-01-31.nc\n",
      "Procesando: 1987-02-01_a_1987-02-28.nc\n",
      "Procesando: 1987-03-01_a_1987-03-31.nc\n",
      "Procesando: 1987-04-01_a_1987-04-30.nc\n",
      "Procesando: 1987-05-01_a_1987-05-31.nc\n",
      "Procesando: 1987-06-01_a_1987-06-30.nc\n",
      "Procesando: 1987-07-01_a_1987-07-31.nc\n",
      "Procesando: 1987-08-01_a_1987-08-31.nc\n",
      "Procesando: 1987-09-01_a_1987-09-30.nc\n",
      "Procesando: 1987-10-01_a_1987-10-31.nc\n",
      "Procesando: 1987-11-01_a_1987-11-30.nc\n",
      "Procesando: 1987-12-01_a_1987-12-31.nc\n",
      "Procesando: 1988-01-01_a_1988-01-31.nc\n",
      "Procesando: 1988-02-01_a_1988-02-29.nc\n",
      "Procesando: 1988-03-01_a_1988-03-31.nc\n",
      "Procesando: 1988-04-01_a_1988-04-30.nc\n",
      "Procesando: 1988-05-01_a_1988-05-31.nc\n",
      "Procesando: 1988-06-01_a_1988-06-30.nc\n",
      "Procesando: 1988-07-01_a_1988-07-31.nc\n",
      "Procesando: 1988-08-01_a_1988-08-31.nc\n",
      "Procesando: 1988-09-01_a_1988-09-30.nc\n",
      "Procesando: 1988-10-01_a_1988-10-31.nc\n",
      "Procesando: 1988-11-01_a_1988-11-30.nc\n",
      "Procesando: 1988-12-01_a_1988-12-31.nc\n",
      "Procesando: 1989-01-01_a_1989-01-31.nc\n",
      "Procesando: 1989-02-01_a_1989-02-28.nc\n",
      "Procesando: 1989-03-01_a_1989-03-31.nc\n",
      "Procesando: 1989-04-01_a_1989-04-30.nc\n",
      "Procesando: 1989-05-01_a_1989-05-31.nc\n",
      "Procesando: 1989-06-01_a_1989-06-30.nc\n",
      "Procesando: 1989-07-01_a_1989-07-31.nc\n",
      "Procesando: 1989-08-01_a_1989-08-31.nc\n",
      "Procesando: 1989-09-01_a_1989-09-30.nc\n",
      "Procesando: 1989-10-01_a_1989-10-31.nc\n",
      "Procesando: 1989-11-01_a_1989-11-30.nc\n",
      "Procesando: 1989-12-01_a_1989-12-31.nc\n",
      "Procesando: 1990-01-01_a_1990-01-31.nc\n",
      "Procesando: 1990-02-01_a_1990-02-28.nc\n",
      "Procesando: 1990-03-01_a_1990-03-31.nc\n",
      "Procesando: 1990-04-01_a_1990-04-30.nc\n",
      "Procesando: 1990-05-01_a_1990-05-31.nc\n",
      "Procesando: 1990-06-01_a_1990-06-30.nc\n",
      "Procesando: 1990-07-01_a_1990-07-31.nc\n",
      "Procesando: 1990-08-01_a_1990-08-31.nc\n",
      "Procesando: 1990-09-01_a_1990-09-30.nc\n",
      "Procesando: 1990-10-01_a_1990-10-31.nc\n",
      "Procesando: 1990-11-01_a_1990-11-30.nc\n",
      "Procesando: 1990-12-01_a_1990-12-31.nc\n",
      "Procesando: 1991-01-01_a_1991-01-31.nc\n",
      "Procesando: 1991-02-01_a_1991-02-28.nc\n",
      "Procesando: 1991-03-01_a_1991-03-31.nc\n",
      "Procesando: 1991-04-01_a_1991-04-30.nc\n",
      "Procesando: 1991-05-01_a_1991-05-31.nc\n",
      "Procesando: 1991-06-01_a_1991-06-30.nc\n",
      "Procesando: 1991-07-01_a_1991-07-31.nc\n",
      "Procesando: 1991-08-01_a_1991-08-31.nc\n",
      "Procesando: 1991-09-01_a_1991-09-30.nc\n",
      "Procesando: 1991-10-01_a_1991-10-31.nc\n",
      "Procesando: 1991-11-01_a_1991-11-30.nc\n",
      "Procesando: 1991-12-01_a_1991-12-31.nc\n",
      "Procesando: 1992-01-01_a_1992-01-31.nc\n",
      "Procesando: 1992-02-01_a_1992-02-29.nc\n",
      "Procesando: 1992-03-01_a_1992-03-31.nc\n",
      "Procesando: 1992-04-01_a_1992-04-30.nc\n",
      "Procesando: 1992-05-01_a_1992-05-31.nc\n",
      "Procesando: 1992-06-01_a_1992-06-30.nc\n",
      "Procesando: 1992-07-01_a_1992-07-31.nc\n",
      "Procesando: 1992-08-01_a_1992-08-31.nc\n",
      "Procesando: 1992-09-01_a_1992-09-30.nc\n",
      "Procesando: 1992-10-01_a_1992-10-31.nc\n",
      "Procesando: 1992-11-01_a_1992-11-30.nc\n",
      "Procesando: 1992-12-01_a_1992-12-31.nc\n",
      "Procesando: 1993-01-01_a_1993-01-31.nc\n",
      "Procesando: 1993-02-01_a_1993-02-28.nc\n",
      "Procesando: 1993-03-01_a_1993-03-31.nc\n",
      "Procesando: 1993-04-01_a_1993-04-30.nc\n",
      "Procesando: 1993-05-01_a_1993-05-31.nc\n",
      "Procesando: 1993-06-01_a_1993-06-30.nc\n",
      "Procesando: 1993-07-01_a_1993-07-31.nc\n",
      "Procesando: 1993-08-01_a_1993-08-31.nc\n",
      "Procesando: 1993-09-01_a_1993-09-30.nc\n",
      "Procesando: 1993-10-01_a_1993-10-31.nc\n",
      "Procesando: 1993-11-01_a_1993-11-30.nc\n",
      "Procesando: 1993-12-01_a_1993-12-31.nc\n",
      "Procesando: 1994-01-01_a_1994-01-31.nc\n",
      "Procesando: 1994-02-01_a_1994-02-28.nc\n",
      "Procesando: 1994-03-01_a_1994-03-31.nc\n",
      "Procesando: 1994-04-01_a_1994-04-30.nc\n",
      "Procesando: 1994-05-01_a_1994-05-31.nc\n",
      "Procesando: 1994-06-01_a_1994-06-30.nc\n",
      "Procesando: 1994-07-01_a_1994-07-31.nc\n",
      "Procesando: 1994-08-01_a_1994-08-31.nc\n",
      "Procesando: 1994-09-01_a_1994-09-30.nc\n",
      "Procesando: 1994-10-01_a_1994-10-31.nc\n",
      "Procesando: 1994-11-01_a_1994-11-30.nc\n",
      "Procesando: 1994-12-01_a_1994-12-31.nc\n",
      "Procesando: 1995-01-01_a_1995-01-31.nc\n",
      "Procesando: 1995-02-01_a_1995-02-28.nc\n",
      "Procesando: 1995-03-01_a_1995-03-31.nc\n",
      "Procesando: 1995-04-01_a_1995-04-30.nc\n",
      "Procesando: 1995-05-01_a_1995-05-31.nc\n",
      "Procesando: 1995-06-01_a_1995-06-30.nc\n",
      "Procesando: 1995-07-01_a_1995-07-31.nc\n",
      "Procesando: 1995-08-01_a_1995-08-31.nc\n",
      "Procesando: 1995-09-01_a_1995-09-30.nc\n",
      "Procesando: 1995-10-01_a_1995-10-31.nc\n",
      "Procesando: 1995-11-01_a_1995-11-30.nc\n",
      "Procesando: 1995-12-01_a_1995-12-31.nc\n",
      "Procesando: 1996-01-01_a_1996-01-31.nc\n",
      "Procesando: 1996-02-01_a_1996-02-29.nc\n",
      "Procesando: 1996-03-01_a_1996-03-31.nc\n",
      "Procesando: 1996-04-01_a_1996-04-30.nc\n",
      "Procesando: 1996-05-01_a_1996-05-31.nc\n",
      "Procesando: 1996-06-01_a_1996-06-30.nc\n",
      "Procesando: 1996-07-01_a_1996-07-31.nc\n",
      "Procesando: 1996-08-01_a_1996-08-31.nc\n",
      "Procesando: 1996-09-01_a_1996-09-30.nc\n",
      "Procesando: 1996-10-01_a_1996-10-31.nc\n",
      "Procesando: 1996-11-01_a_1996-11-30.nc\n",
      "Procesando: 1996-12-01_a_1996-12-31.nc\n",
      "Procesando: 1997-01-01_a_1997-01-31.nc\n",
      "Procesando: 1997-02-01_a_1997-02-28.nc\n",
      "Procesando: 1997-03-01_a_1997-03-31.nc\n",
      "Procesando: 1997-04-01_a_1997-04-30.nc\n",
      "Procesando: 1997-05-01_a_1997-05-31.nc\n",
      "Procesando: 1997-06-01_a_1997-06-30.nc\n",
      "Procesando: 1997-07-01_a_1997-07-31.nc\n",
      "Procesando: 1997-08-01_a_1997-08-31.nc\n",
      "Procesando: 1997-09-01_a_1997-09-30.nc\n",
      "Procesando: 1997-10-01_a_1997-10-31.nc\n",
      "Procesando: 1997-11-01_a_1997-11-30.nc\n",
      "Procesando: 1997-12-01_a_1997-12-31.nc\n",
      "Procesando: 1998-01-01_a_1998-01-31.nc\n",
      "Procesando: 1998-02-01_a_1998-02-28.nc\n",
      "Procesando: 1998-03-01_a_1998-03-31.nc\n",
      "Procesando: 1998-04-01_a_1998-04-30.nc\n",
      "Procesando: 1998-05-01_a_1998-05-31.nc\n",
      "Procesando: 1998-06-01_a_1998-06-30.nc\n",
      "Procesando: 1998-07-01_a_1998-07-31.nc\n",
      "Procesando: 1998-08-01_a_1998-08-31.nc\n",
      "Procesando: 1998-09-01_a_1998-09-30.nc\n",
      "Procesando: 1998-10-01_a_1998-10-31.nc\n",
      "Procesando: 1998-11-01_a_1998-11-30.nc\n",
      "Procesando: 1998-12-01_a_1998-12-31.nc\n",
      "Procesando: 1999-01-01_a_1999-01-31.nc\n",
      "Procesando: 1999-02-01_a_1999-02-28.nc\n",
      "Procesando: 1999-03-01_a_1999-03-31.nc\n",
      "Procesando: 1999-04-01_a_1999-04-30.nc\n",
      "Procesando: 1999-05-01_a_1999-05-31.nc\n",
      "Procesando: 1999-06-01_a_1999-06-30.nc\n",
      "Procesando: 1999-07-01_a_1999-07-31.nc\n",
      "Procesando: 1999-08-01_a_1999-08-31.nc\n",
      "Procesando: 1999-09-01_a_1999-09-30.nc\n",
      "Procesando: 1999-10-01_a_1999-10-31.nc\n",
      "Procesando: 1999-11-01_a_1999-11-30.nc\n",
      "Procesando: 1999-12-01_a_1999-12-31.nc\n",
      "Procesando: 2000-01-01_a_2000-01-31.nc\n",
      "Procesando: 2000-02-01_a_2000-02-29.nc\n",
      "Procesando: 2000-03-01_a_2000-03-31.nc\n",
      "Procesando: 2000-04-01_a_2000-04-30.nc\n",
      "Procesando: 2000-05-01_a_2000-05-31.nc\n",
      "Procesando: 2000-06-01_a_2000-06-30.nc\n",
      "Procesando: 2000-07-01_a_2000-07-31.nc\n",
      "Procesando: 2000-08-01_a_2000-08-31.nc\n",
      "Procesando: 2000-09-01_a_2000-09-30.nc\n",
      "Procesando: 2000-10-01_a_2000-10-31.nc\n",
      "Procesando: 2000-11-01_a_2000-11-30.nc\n",
      "Procesando: 2000-12-01_a_2000-12-31.nc\n",
      "Procesando: 2001-01-01_a_2001-01-31.nc\n",
      "Procesando: 2001-02-01_a_2001-02-28.nc\n",
      "Procesando: 2001-03-01_a_2001-03-31.nc\n",
      "Procesando: 2001-04-01_a_2001-04-30.nc\n",
      "Procesando: 2001-05-01_a_2001-05-31.nc\n",
      "Procesando: 2001-06-01_a_2001-06-30.nc\n",
      "Procesando: 2001-07-01_a_2001-07-31.nc\n",
      "Procesando: 2001-08-01_a_2001-08-31.nc\n",
      "Procesando: 2001-09-01_a_2001-09-30.nc\n",
      "Procesando: 2001-10-01_a_2001-10-31.nc\n",
      "Procesando: 2001-11-01_a_2001-11-30.nc\n",
      "Procesando: 2001-12-01_a_2001-12-31.nc\n",
      "Procesando: 2002-01-01_a_2002-01-31.nc\n",
      "Procesando: 2002-02-01_a_2002-02-28.nc\n",
      "Procesando: 2002-03-01_a_2002-03-31.nc\n",
      "Procesando: 2002-04-01_a_2002-04-30.nc\n",
      "Procesando: 2002-05-01_a_2002-05-31.nc\n",
      "Procesando: 2002-06-01_a_2002-06-30.nc\n",
      "Procesando: 2002-07-01_a_2002-07-31.nc\n",
      "Procesando: 2002-08-01_a_2002-08-31.nc\n",
      "Procesando: 2002-09-01_a_2002-09-30.nc\n",
      "Procesando: 2002-10-01_a_2002-10-31.nc\n",
      "Procesando: 2002-11-01_a_2002-11-30.nc\n",
      "Procesando: 2002-12-01_a_2002-12-31.nc\n",
      "Procesando: 2003-01-01_a_2003-01-31.nc\n",
      "Procesando: 2003-02-01_a_2003-02-28.nc\n",
      "Procesando: 2003-03-01_a_2003-03-31.nc\n",
      "Procesando: 2003-04-01_a_2003-04-30.nc\n",
      "Procesando: 2003-05-01_a_2003-05-31.nc\n",
      "Procesando: 2003-06-01_a_2003-06-30.nc\n",
      "Procesando: 2003-07-01_a_2003-07-31.nc\n",
      "Procesando: 2003-08-01_a_2003-08-31.nc\n",
      "Procesando: 2003-09-01_a_2003-09-30.nc\n",
      "Procesando: 2003-10-01_a_2003-10-31.nc\n",
      "Procesando: 2003-11-01_a_2003-11-30.nc\n",
      "Procesando: 2003-12-01_a_2003-12-31.nc\n",
      "Procesando: 2004-01-01_a_2004-01-31.nc\n",
      "Procesando: 2004-02-01_a_2004-02-29.nc\n",
      "Procesando: 2004-03-01_a_2004-03-31.nc\n",
      "Procesando: 2004-04-01_a_2004-04-30.nc\n",
      "Procesando: 2004-05-01_a_2004-05-31.nc\n",
      "Procesando: 2004-06-01_a_2004-06-30.nc\n",
      "Procesando: 2004-07-01_a_2004-07-31.nc\n",
      "Procesando: 2004-08-01_a_2004-08-31.nc\n",
      "Procesando: 2004-09-01_a_2004-09-30.nc\n",
      "Procesando: 2004-10-01_a_2004-10-31.nc\n",
      "Procesando: 2004-11-01_a_2004-11-30.nc\n",
      "Procesando: 2004-12-01_a_2004-12-31.nc\n",
      "Procesando: 2005-01-01_a_2005-01-31.nc\n",
      "Procesando: 2005-02-01_a_2005-02-28.nc\n",
      "Procesando: 2005-03-01_a_2005-03-31.nc\n",
      "Procesando: 2005-04-01_a_2005-04-30.nc\n",
      "Procesando: 2005-05-01_a_2005-05-31.nc\n",
      "Procesando: 2005-06-01_a_2005-06-30.nc\n",
      "Procesando: 2005-07-01_a_2005-07-31.nc\n",
      "Procesando: 2005-08-01_a_2005-08-31.nc\n",
      "Procesando: 2005-09-01_a_2005-09-30.nc\n",
      "Procesando: 2005-10-01_a_2005-10-31.nc\n",
      "Procesando: 2005-11-01_a_2005-11-30.nc\n",
      "Procesando: 2005-12-01_a_2005-12-31.nc\n",
      "Procesando: 2006-01-01_a_2006-01-31.nc\n",
      "Procesando: 2006-02-01_a_2006-02-28.nc\n",
      "Procesando: 2006-03-01_a_2006-03-31.nc\n",
      "Procesando: 2006-04-01_a_2006-04-30.nc\n",
      "Procesando: 2006-05-01_a_2006-05-31.nc\n",
      "Procesando: 2006-06-01_a_2006-06-30.nc\n",
      "Procesando: 2006-07-01_a_2006-07-31.nc\n",
      "Procesando: 2006-08-01_a_2006-08-31.nc\n",
      "Procesando: 2006-09-01_a_2006-09-30.nc\n",
      "Procesando: 2006-10-01_a_2006-10-31.nc\n",
      "Procesando: 2006-11-01_a_2006-11-30.nc\n",
      "Procesando: 2006-12-01_a_2006-12-31.nc\n",
      "Procesando: 2007-01-01_a_2007-01-31.nc\n",
      "Procesando: 2007-02-01_a_2007-02-28.nc\n",
      "Procesando: 2007-03-01_a_2007-03-31.nc\n",
      "Procesando: 2007-04-01_a_2007-04-30.nc\n",
      "Procesando: 2007-05-01_a_2007-05-31.nc\n",
      "Procesando: 2007-06-01_a_2007-06-30.nc\n",
      "Procesando: 2007-07-01_a_2007-07-31.nc\n",
      "Procesando: 2007-08-01_a_2007-08-31.nc\n",
      "Procesando: 2007-09-01_a_2007-09-30.nc\n",
      "Procesando: 2007-10-01_a_2007-10-31.nc\n",
      "Procesando: 2007-11-01_a_2007-11-30.nc\n",
      "Procesando: 2007-12-01_a_2007-12-31.nc\n",
      "Procesando: 2008-01-01_a_2008-01-31.nc\n",
      "Procesando: 2008-02-01_a_2008-02-29.nc\n",
      "Procesando: 2008-03-01_a_2008-03-31.nc\n",
      "Procesando: 2008-04-01_a_2008-04-30.nc\n",
      "Procesando: 2008-05-01_a_2008-05-31.nc\n",
      "Procesando: 2008-06-01_a_2008-06-30.nc\n",
      "Procesando: 2008-07-01_a_2008-07-31.nc\n",
      "Procesando: 2008-08-01_a_2008-08-31.nc\n",
      "Procesando: 2008-09-01_a_2008-09-30.nc\n",
      "Procesando: 2008-10-01_a_2008-10-31.nc\n",
      "Procesando: 2008-11-01_a_2008-11-30.nc\n",
      "Procesando: 2008-12-01_a_2008-12-31.nc\n",
      "Procesando: 2009-01-01_a_2009-01-31.nc\n",
      "Procesando: 2009-02-01_a_2009-02-28.nc\n",
      "Procesando: 2009-03-01_a_2009-03-31.nc\n",
      "Procesando: 2009-04-01_a_2009-04-30.nc\n",
      "Procesando: 2009-05-01_a_2009-05-31.nc\n",
      "Procesando: 2009-06-01_a_2009-06-30.nc\n",
      "Procesando: 2009-07-01_a_2009-07-31.nc\n",
      "Procesando: 2009-08-01_a_2009-08-31.nc\n",
      "Procesando: 2009-09-01_a_2009-09-30.nc\n",
      "Procesando: 2009-10-01_a_2009-10-31.nc\n",
      "Procesando: 2009-11-01_a_2009-11-30.nc\n",
      "Procesando: 2009-12-01_a_2009-12-31.nc\n",
      "Procesando: 2010-01-01_a_2010-01-31.nc\n",
      "Procesando: 2010-02-01_a_2010-02-28.nc\n",
      "Procesando: 2010-03-01_a_2010-03-31.nc\n",
      "Procesando: 2010-04-01_a_2010-04-30.nc\n",
      "Procesando: 2010-05-01_a_2010-05-31.nc\n",
      "Procesando: 2010-06-01_a_2010-06-30.nc\n",
      "Procesando: 2010-07-01_a_2010-07-31.nc\n",
      "Procesando: 2010-08-01_a_2010-08-31.nc\n",
      "Procesando: 2010-09-01_a_2010-09-30.nc\n",
      "Procesando: 2010-10-01_a_2010-10-31.nc\n",
      "Procesando: 2010-11-01_a_2010-11-30.nc\n",
      "Procesando: 2010-12-01_a_2010-12-31.nc\n",
      "Procesando: 2011-01-01_a_2011-01-31.nc\n",
      "Procesando: 2011-02-01_a_2011-02-28.nc\n",
      "Procesando: 2011-03-01_a_2011-03-31.nc\n",
      "Procesando: 2011-04-01_a_2011-04-30.nc\n",
      "Procesando: 2011-05-01_a_2011-05-31.nc\n",
      "Procesando: 2011-06-01_a_2011-06-30.nc\n",
      "Procesando: 2011-07-01_a_2011-07-31.nc\n",
      "Procesando: 2011-08-01_a_2011-08-31.nc\n",
      "Procesando: 2011-09-01_a_2011-09-30.nc\n",
      "Procesando: 2011-10-01_a_2011-10-31.nc\n",
      "Procesando: 2011-11-01_a_2011-11-30.nc\n",
      "Procesando: 2011-12-01_a_2011-12-31.nc\n",
      "Procesando: 2012-01-01_a_2012-01-31.nc\n",
      "Procesando: 2012-02-01_a_2012-02-29.nc\n",
      "Procesando: 2012-03-01_a_2012-03-31.nc\n",
      "Procesando: 2012-04-01_a_2012-04-30.nc\n",
      "Procesando: 2012-05-01_a_2012-05-31.nc\n",
      "Procesando: 2012-06-01_a_2012-06-30.nc\n",
      "Procesando: 2012-07-01_a_2012-07-31.nc\n",
      "Procesando: 2012-08-01_a_2012-08-31.nc\n",
      "Procesando: 2012-09-01_a_2012-09-30.nc\n",
      "Procesando: 2012-10-01_a_2012-10-31.nc\n",
      "Procesando: 2012-11-01_a_2012-11-30.nc\n",
      "Procesando: 2012-12-01_a_2012-12-31.nc\n",
      "Procesando: 2013-01-01_a_2013-01-31.nc\n",
      "Procesando: 2013-02-01_a_2013-02-28.nc\n",
      "Procesando: 2013-03-01_a_2013-03-31.nc\n",
      "Procesando: 2013-04-01_a_2013-04-30.nc\n",
      "Procesando: 2013-05-01_a_2013-05-31.nc\n",
      "Procesando: 2013-06-01_a_2013-06-30.nc\n",
      "Procesando: 2013-07-01_a_2013-07-31.nc\n",
      "Procesando: 2013-08-01_a_2013-08-31.nc\n",
      "Procesando: 2013-09-01_a_2013-09-30.nc\n",
      "Procesando: 2013-10-01_a_2013-10-31.nc\n",
      "Procesando: 2013-11-01_a_2013-11-30.nc\n",
      "Procesando: 2013-12-01_a_2013-12-31.nc\n",
      "Procesando: 2014-01-01_a_2014-01-31.nc\n",
      "Procesando: 2014-02-01_a_2014-02-28.nc\n",
      "Procesando: 2014-03-01_a_2014-03-31.nc\n",
      "Procesando: 2014-04-01_a_2014-04-30.nc\n",
      "Procesando: 2014-05-01_a_2014-05-31.nc\n",
      "Procesando: 2014-06-01_a_2014-06-30.nc\n",
      "Procesando: 2014-07-01_a_2014-07-31.nc\n",
      "Procesando: 2014-08-01_a_2014-08-31.nc\n",
      "Procesando: 2014-09-01_a_2014-09-30.nc\n",
      "Procesando: 2014-10-01_a_2014-10-31.nc\n",
      "Procesando: 2014-11-01_a_2014-11-30.nc\n",
      "Procesando: 2014-12-01_a_2014-12-31.nc\n",
      "Procesando: 2015-01-01_a_2015-01-31.nc\n",
      "Procesando: 2015-02-01_a_2015-02-28.nc\n",
      "Procesando: 2015-03-01_a_2015-03-31.nc\n",
      "Procesando: 2015-04-01_a_2015-04-30.nc\n",
      "Procesando: 2015-05-01_a_2015-05-31.nc\n",
      "Procesando: 2015-06-01_a_2015-06-30.nc\n",
      "Procesando: 2015-07-01_a_2015-07-31.nc\n",
      "Procesando: 2015-08-01_a_2015-08-31.nc\n",
      "Procesando: 2015-09-01_a_2015-09-30.nc\n",
      "Procesando: 2015-10-01_a_2015-10-31.nc\n",
      "Procesando: 2015-11-01_a_2015-11-30.nc\n",
      "Procesando: 2015-12-01_a_2015-12-31.nc\n",
      "Procesando: 2016-01-01_a_2016-01-31.nc\n",
      "Procesando: 2016-02-01_a_2016-02-29.nc\n",
      "Procesando: 2016-03-01_a_2016-03-31.nc\n",
      "Procesando: 2016-04-01_a_2016-04-30.nc\n",
      "Procesando: 2016-05-01_a_2016-05-31.nc\n",
      "Procesando: 2016-06-01_a_2016-06-30.nc\n",
      "Procesando: 2016-07-01_a_2016-07-31.nc\n",
      "Procesando: 2016-08-01_a_2016-08-31.nc\n",
      "Procesando: 2016-09-01_a_2016-09-30.nc\n",
      "Procesando: 2016-10-01_a_2016-10-31.nc\n",
      "Procesando: 2016-11-01_a_2016-11-30.nc\n",
      "Procesando: 2016-12-01_a_2016-12-31.nc\n",
      "Procesando: 2017-01-01_a_2017-01-31.nc\n",
      "Procesando: 2017-02-01_a_2017-02-28.nc\n",
      "Procesando: 2017-03-01_a_2017-03-31.nc\n",
      "Procesando: 2017-04-01_a_2017-04-30.nc\n",
      "Procesando: 2017-05-01_a_2017-05-31.nc\n",
      "Procesando: 2017-06-01_a_2017-06-30.nc\n",
      "Procesando: 2017-07-01_a_2017-07-31.nc\n",
      "Procesando: 2017-08-01_a_2017-08-31.nc\n",
      "Procesando: 2017-09-01_a_2017-09-30.nc\n",
      "Procesando: 2017-10-01_a_2017-10-31.nc\n",
      "Procesando: 2017-11-01_a_2017-11-30.nc\n",
      "Procesando: 2017-12-01_a_2017-12-31.nc\n",
      "Procesando: 2018-01-01_a_2018-01-31.nc\n",
      "Procesando: 2018-02-01_a_2018-02-28.nc\n",
      "Procesando: 2018-03-01_a_2018-03-31.nc\n",
      "Procesando: 2018-04-01_a_2018-04-30.nc\n",
      "Procesando: 2018-05-01_a_2018-05-31.nc\n",
      "Procesando: 2018-06-01_a_2018-06-30.nc\n",
      "Procesando: 2018-07-01_a_2018-07-31.nc\n",
      "Procesando: 2018-08-01_a_2018-08-31.nc\n",
      "Procesando: 2018-09-01_a_2018-09-30.nc\n",
      "Procesando: 2018-10-01_a_2018-10-31.nc\n",
      "Procesando: 2018-11-01_a_2018-11-30.nc\n",
      "Procesando: 2018-12-01_a_2018-12-31.nc\n",
      "Procesando: 2019-01-01_a_2019-01-31.nc\n",
      "Procesando: 2019-02-01_a_2019-02-28.nc\n",
      "Procesando: 2019-03-01_a_2019-03-31.nc\n",
      "Procesando: 2019-04-01_a_2019-04-30.nc\n",
      "Procesando: 2019-05-01_a_2019-05-31.nc\n",
      "Procesando: 2019-06-01_a_2019-06-30.nc\n",
      "Procesando: 2019-07-01_a_2019-07-31.nc\n",
      "Procesando: 2019-08-01_a_2019-08-31.nc\n",
      "Procesando: 2019-09-01_a_2019-09-30.nc\n",
      "Procesando: 2019-10-01_a_2019-10-31.nc\n",
      "Procesando: 2019-11-01_a_2019-11-30.nc\n",
      "Procesando: 2019-12-01_a_2019-12-31.nc\n",
      "Procesando: 2020-01-01_a_2020-01-31.nc\n",
      "Procesando: 2020-02-01_a_2020-02-29.nc\n",
      "Procesando: 2020-03-01_a_2020-03-31.nc\n",
      "Procesando: 2020-04-01_a_2020-04-30.nc\n",
      "Procesando: 2020-05-01_a_2020-05-31.nc\n",
      "Procesando: 2020-06-01_a_2020-06-30.nc\n",
      "Procesando: 2020-07-01_a_2020-07-31.nc\n",
      "Procesando: 2020-08-01_a_2020-08-31.nc\n",
      "Procesando: 2020-09-01_a_2020-09-30.nc\n",
      "Procesando: 2020-10-01_a_2020-10-31.nc\n",
      "Procesando: 2020-11-01_a_2020-11-30.nc\n",
      "Procesando: 2020-12-01_a_2020-12-31.nc\n",
      "Procesando: 2021-01-01_a_2021-01-31.nc\n",
      "Procesando: 2021-02-01_a_2021-02-28.nc\n",
      "Procesando: 2021-03-01_a_2021-03-31.nc\n",
      "Procesando: 2021-04-01_a_2021-04-30.nc\n",
      "Procesando: 2021-05-01_a_2021-05-31.nc\n",
      "Procesando: 2021-06-01_a_2021-06-30.nc\n",
      "Procesando: 2021-07-01_a_2021-07-31.nc\n",
      "Procesando: 2021-08-01_a_2021-08-31.nc\n",
      "Procesando: 2021-09-01_a_2021-09-30.nc\n",
      "Procesando: 2021-10-01_a_2021-10-31.nc\n",
      "Procesando: 2021-11-01_a_2021-11-30.nc\n",
      "Procesando: 2021-12-01_a_2021-12-31.nc\n",
      "Procesando: 2022-01-01_a_2022-01-31.nc\n",
      "Procesando: 2022-02-01_a_2022-02-28.nc\n",
      "Procesando: 2022-03-01_a_2022-03-31.nc\n",
      "Procesando: 2022-04-01_a_2022-04-30.nc\n",
      "Procesando: 2022-05-01_a_2022-05-31.nc\n",
      "Procesando: 2022-06-01_a_2022-06-30.nc\n",
      "Procesando: 2022-07-01_a_2022-07-31.nc\n",
      "Procesando: 2022-08-01_a_2022-08-31.nc\n",
      "Procesando: 2022-09-01_a_2022-09-30.nc\n",
      "Procesando: 2022-10-01_a_2022-10-31.nc\n",
      "Procesando: 2022-11-01_a_2022-11-30.nc\n",
      "Procesando: 2022-12-01_a_2022-12-31.nc\n",
      "Procesando: 2023-01-01_a_2023-01-31.nc\n",
      "Procesando: 2023-02-01_a_2023-02-28.nc\n",
      "Procesando: 2023-03-01_a_2023-03-31.nc\n",
      "Procesando: 2023-04-01_a_2023-04-30.nc\n",
      "Procesando: 2023-05-01_a_2023-05-31.nc\n",
      "Procesando: 2023-06-01_a_2023-06-30.nc\n",
      "Procesando: 2023-07-01_a_2023-07-31.nc\n",
      "Procesando: 2023-08-01_a_2023-08-31.nc\n",
      "Procesando: 2023-09-01_a_2023-09-30.nc\n",
      "Procesando: 2023-10-01_a_2023-10-31.nc\n",
      "Procesando: 2023-11-01_a_2023-11-30.nc\n",
      "Procesando: 2023-12-01_a_2023-12-31.nc\n",
      "Procesando: 2024-01-01_a_2024-01-31.nc\n",
      "Procesando: 2024-02-01_a_2024-02-29.nc\n",
      "Procesando: 2024-03-01_a_2024-03-31.nc\n",
      "Procesando: 2024-04-01_a_2024-04-30.nc\n",
      "Procesando: 2024-05-01_a_2024-05-31.nc\n",
      "Procesando: 2024-06-01_a_2024-06-30.nc\n",
      "Procesando: 2024-08-01_a_2024-08-31.nc\n",
      "Procesando: 2024-09-01_a_2024-09-05.nc\n"
     ]
    }
   ],
   "source": [
    "csv_output = 'df_copernicus.csv'  # Nombre del archivo CSV de salida\n",
    "agg_funcs = {\n",
    "    'total_precipitation': 'sum',\n",
    "    'skin_temperature': 'mean',\n",
    "    'evaporation': 'sum',\n",
    "    'runoff': 'sum',\n",
    "    'snowfall': 'sum',\n",
    "    'soil_water_l1': 'sum',\n",
    "    'soil_water_l2': 'sum',\n",
    "    'soil_water_l3': 'sum',\n",
    "    'soil_water_l4': 'sum',\n",
    "    'high_vegetation_cover': 'mean',\n",
    "    'low_vegetation_cover': 'mean',\n",
    "    'type_high_vegetation': lambda x: x.mode()[0] if not x.mode().empty else np.nan,\n",
    "    'type_low_vegetation': lambda x: x.mode()[0] if not x.mode().empty else np.nan\n",
    "}\n",
    "\n",
    "# Bucle sobre cada archivo NetCDF\n",
    "for idx, archivo in enumerate(os.listdir()):\n",
    "    if archivo.endswith('.nc'):\n",
    "        print(f\"Procesando: {archivo}\")\n",
    "        archivo_nc = os.path.join(archivo)\n",
    "        \n",
    "        # Abrir el archivo NetCDF y convertir a DataFrame\n",
    "        ds = xr.open_dataset(archivo_nc)\n",
    "        df = ds.to_dataframe().reset_index()\n",
    "\n",
    "        # Filtrar y renombrar columnas\n",
    "        df = df[['valid_time', 'latitude', 'longitude', 'tp', 'skt', 'e', 'ro', 'sf',\n",
    "                 'swvl1', 'swvl2', 'swvl3', 'swvl4', 'cvh', 'cvl', 'tvh', 'tvl']]\n",
    "        df = df.rename(columns={\n",
    "            'valid_time': 'date',\n",
    "            'tp': 'total_precipitation',\n",
    "            'skt': 'skin_temperature',\n",
    "            'e': 'evaporation',\n",
    "            'ro': 'runoff',\n",
    "            'sf': 'snowfall',\n",
    "            'swvl1': 'soil_water_l1',\n",
    "            'swvl2': 'soil_water_l2',\n",
    "            'swvl3': 'soil_water_l3',\n",
    "            'swvl4': 'soil_water_l4',\n",
    "            'cvh': 'high_vegetation_cover',\n",
    "            'cvl': 'low_vegetation_cover',\n",
    "            'tvh': 'type_high_vegetation',\n",
    "            'tvl': 'type_low_vegetation'\n",
    "        })\n",
    "\n",
    "        # Convertir la columna 'date' a formato de fecha\n",
    "        df['date'] = pd.to_datetime(df['date']).dt.date\n",
    "\n",
    "        # Realizar las agregaciones\n",
    "        df = df.groupby(['latitude', 'longitude', 'date']).agg(agg_funcs).reset_index()\n",
    "\n",
    "        # Escribir en CSV. Si es la primera vez, incluir el encabezado, de lo contrario, hacer append sin encabezado.\n",
    "        if idx == 0:\n",
    "            df.to_csv(csv_output, mode='w', index=False, header=True)\n",
    "        else:\n",
    "            df.to_csv(csv_output, mode='a', index=False, header=False)\n",
    "\n",
    "        # Cerrar el dataset para liberar memoria\n",
    "        ds.close()\n"
   ]
  },
  {
   "cell_type": "code",
   "execution_count": null,
   "metadata": {},
   "outputs": [],
   "source": []
  },
  {
   "cell_type": "code",
   "execution_count": null,
   "metadata": {},
   "outputs": [],
   "source": []
  },
  {
   "cell_type": "code",
   "execution_count": null,
   "metadata": {},
   "outputs": [],
   "source": []
  }
 ],
 "metadata": {
  "kernelspec": {
   "display_name": "Python 3 (ipykernel)",
   "language": "python",
   "name": "python3"
  },
  "language_info": {
   "codemirror_mode": {
    "name": "ipython",
    "version": 3
   },
   "file_extension": ".py",
   "mimetype": "text/x-python",
   "name": "python",
   "nbconvert_exporter": "python",
   "pygments_lexer": "ipython3",
   "version": "3.11.5"
  }
 },
 "nbformat": 4,
 "nbformat_minor": 4
}
