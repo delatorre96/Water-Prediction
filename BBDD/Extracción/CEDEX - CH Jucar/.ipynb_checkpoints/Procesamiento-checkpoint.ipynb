{
 "cells": [
  {
   "cell_type": "code",
   "execution_count": 8,
   "id": "78b0a329-cf52-42a1-a429-4de799830554",
   "metadata": {},
   "outputs": [],
   "source": [
    "import pandas as pd\n",
    "from pyproj import Transformer\n",
    "\n",
    "df_embalses_cedex_id = pd.read_csv('embalse.csv', encoding='latin1',sep = ';')\n",
    "transformer = Transformer.from_crs(\"EPSG:25830\", \"EPSG:4326\", always_xy=True)\n",
    "longitude_list = []\n",
    "latitude_list = []\n",
    "for index,row in df_embalses_cedex_id.iterrows():\n",
    "    xutm30 = row['xutm30'] \n",
    "    yutm30 = row['yutm30']\n",
    "    longitude, latitude = transformer.transform(xutm30, yutm30)\n",
    "    longitude_list.append(longitude)\n",
    "    latitude_list.append(latitude)\n",
    "df_embalses_cedex_id['longitude'] = longitude_list  \n",
    "df_embalses_cedex_id['latitude'] = latitude_list  \n",
    "df_embalses_cedex_id = df_embalses_cedex_id[['ref_ceh', 'nom_embalse','longitude', 'latitude']]\n",
    "df_embalses_cedex_id.to_csv('Transformados/df_embalses_cedex_id.csv')"
   ]
  },
  {
   "cell_type": "code",
   "execution_count": null,
   "id": "35328cdc-9794-4eb2-aabe-e6c403938dc2",
   "metadata": {},
   "outputs": [],
   "source": []
  }
 ],
 "metadata": {
  "kernelspec": {
   "display_name": "Python 3 (ipykernel)",
   "language": "python",
   "name": "python3"
  },
  "language_info": {
   "codemirror_mode": {
    "name": "ipython",
    "version": 3
   },
   "file_extension": ".py",
   "mimetype": "text/x-python",
   "name": "python",
   "nbconvert_exporter": "python",
   "pygments_lexer": "ipython3",
   "version": "3.11.5"
  }
 },
 "nbformat": 4,
 "nbformat_minor": 5
}
