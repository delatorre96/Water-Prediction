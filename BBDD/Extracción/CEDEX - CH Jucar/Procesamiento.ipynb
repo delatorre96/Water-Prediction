{
 "cells": [
  {
   "cell_type": "code",
   "execution_count": 1,
   "id": "78b0a329-cf52-42a1-a429-4de799830554",
   "metadata": {},
   "outputs": [],
   "source": [
    "import pandas as pd"
   ]
  },
  {
   "cell_type": "code",
   "execution_count": 4,
   "id": "feb0484b-aea4-4b0b-9193-e280cee59925",
   "metadata": {},
   "outputs": [],
   "source": [
    "df_embalses_cedex_id = pd.read_csv('embalse.csv', encoding='latin1',sep = ';')\n",
    "#Cambiamos el nombre de las columnas para que se quede como en copernicus\n",
    "df_embalses_cedex_id = df_embalses_cedex_id.rename(columns = {'long' : 'longitude', 'lat': 'latitude'})\n",
    "#Transformamos longitud y latitud para que se queden en el orden de magnitud de copernicus\n",
    "df_embalses_cedex_id['longitude'] = df_embalses_cedex_id['longitude'] /10000\n",
    "df_embalses_cedex_id['latitude'] = df_embalses_cedex_id['latitude'] /10000\n",
    "\n",
    "df_embalses_cedex_id = df_embalses_cedex_id[['ref_ceh', 'nom_embalse','longitude', 'latitude']]\n",
    "df_embalses_cedex_id.to_csv('Transformados/df_embalses_cedex_id.csv')"
   ]
  },
  {
   "cell_type": "code",
   "execution_count": null,
   "id": "70c48b77-4d5a-4f7f-aeea-ace4e1c736b5",
   "metadata": {},
   "outputs": [],
   "source": []
  },
  {
   "cell_type": "code",
   "execution_count": null,
   "id": "103bbb1e-434f-43ec-b14b-8f3fda3e1eb2",
   "metadata": {},
   "outputs": [],
   "source": []
  }
 ],
 "metadata": {
  "kernelspec": {
   "display_name": "Python 3 (ipykernel)",
   "language": "python",
   "name": "python3"
  },
  "language_info": {
   "codemirror_mode": {
    "name": "ipython",
    "version": 3
   },
   "file_extension": ".py",
   "mimetype": "text/x-python",
   "name": "python",
   "nbconvert_exporter": "python",
   "pygments_lexer": "ipython3",
   "version": "3.11.5"
  }
 },
 "nbformat": 4,
 "nbformat_minor": 5
}
